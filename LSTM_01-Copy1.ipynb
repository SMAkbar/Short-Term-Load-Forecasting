{
 "cells": [
  {
   "cell_type": "markdown",
   "metadata": {},
   "source": [
    "**JUST importing some Stuff**"
   ]
  },
  {
   "cell_type": "code",
   "execution_count": 18,
   "metadata": {},
   "outputs": [],
   "source": [
    "import tensorflow as tf\n",
    "import numpy as np\n",
    "from keras.models import load_model, Model, Sequential\n",
    "from keras.layers import Dense, Activation, Dropout, Input, LSTM, Reshape, Lambda, RepeatVector\n",
    "from keras.initializers import glorot_uniform\n",
    "from keras.utils import to_categorical\n",
    "from keras.optimizers import Adam\n",
    "from keras import backend as K\n",
    "import pandas as pd\n",
    "from sklearn.model_selection import train_test_split\n",
    "import matplotlib.pyplot as plt"
   ]
  },
  {
   "cell_type": "markdown",
   "metadata": {},
   "source": [
    "**Importing and arranging data into matrices**\n",
    "\n",
    "matrices includes input matrices **X_org** and label matrice **Y_org**"
   ]
  },
  {
   "cell_type": "code",
   "execution_count": 19,
   "metadata": {},
   "outputs": [
    {
     "name": "stdout",
     "output_type": "stream",
     "text": [
      "[2.390e+01 2.165e+01 2.240e+01 8.750e+01 1.967e+01 1.000e+00 1.000e+00\n",
      " 2.006e+03]\n",
      "[8013.27833]\n",
      "[[0.50374065 0.92177914 0.83613445 0.8655914  0.02766674 0.\n",
      "  0.         0.        ]\n",
      " [0.50374065 0.92331288 0.83613445 0.87096774 0.0275586  0.\n",
      "  0.         0.        ]\n",
      " [0.50124688 0.92177914 0.83403361 0.87096774 0.02761023 0.\n",
      "  0.         0.        ]\n",
      " [0.49875312 0.9202454  0.83193277 0.87096774 0.02744559 0.\n",
      "  0.         0.        ]]\n",
      "[0.15577857]\n",
      "m =  87648  x_t =  4  n_x =  8  y_t =  4  n_y =  1\n",
      "shape of x =  (87644, 4, 8)\n",
      "shape of y =  (87644, 1)\n"
     ]
    }
   ],
   "source": [
    "data = pd.read_csv ('ercot-dataset.csv')\n",
    "data = data.drop(columns = 'Date')\n",
    "m = data.shape[0]\n",
    "\n",
    "\n",
    "#labels = ['SYSLoad']\n",
    "#parameters = ['DryBubl', 'DewPnt', 'WetBulb', 'Humidity', 'ElecPrice', 'Day', 'Month', 'Year', 'Minutes']\n",
    "\n",
    "x_t = 4\n",
    "n_x = 8\n",
    "\n",
    "y_t = 4\n",
    "n_y = 1\n",
    "\n",
    "\n",
    "#####\n",
    "#print(m)\n",
    "\n",
    "#m = int(m / x_t)\n",
    "####\n",
    "\n",
    "\n",
    "matrix = data.to_numpy()\n",
    "x_org_individual = matrix[:, :8]\n",
    "y_org_individual = matrix[:, 9:]\n",
    "\n",
    "print(x_org_individual[0])\n",
    "print(y_org_individual[0])\n",
    "\n",
    "\n",
    "x_individual = np.subtract((x_org_individual),np.min(x_org_individual, axis =0)) / np.subtract(np.max(x_org_individual, axis =0),np.min(x_org_individual, axis =0))\n",
    "y_individual = np.subtract((y_org_individual),np.min(y_org_individual, axis =0)) / np.subtract(np.max(y_org_individual, axis =0),np.min(y_org_individual, axis =0))\n",
    "\n",
    "x_org = np.zeros((m-x_t, 4, 8))\n",
    "y_org = np.zeros((m-x_t, 1))\n",
    "\n",
    "for i in range(m-x_t):\n",
    "    for j in range(4):\n",
    "        x_org[i, j, :] = x_individual[i + j, :]\n",
    "    #print(y_individual[i+4, 0])\n",
    "    y_org[i] = y_individual[i + x_t,0]\n",
    "\n",
    "        \n",
    "print(x_org[0,:,:])\n",
    "print(y_org[0,:])        \n",
    "        \n",
    "print(\"m = \", m, \" x_t = \", x_t, \" n_x = \", n_x, \" y_t = \", y_t, \" n_y = \", n_y)\n",
    "print(\"shape of x = \", x_org.shape)\n",
    "print(\"shape of y = \", y_org.shape)\n",
    "    "
   ]
  },
  {
   "cell_type": "markdown",
   "metadata": {},
   "source": [
    "**LSTM begins**"
   ]
  },
  {
   "cell_type": "markdown",
   "metadata": {},
   "source": [
    "*LSTM_Architecture*"
   ]
  },
  {
   "cell_type": "code",
   "execution_count": 61,
   "metadata": {},
   "outputs": [
    {
     "ename": "TypeError",
     "evalue": "__init__() missing 1 required positional argument: 'units'",
     "output_type": "error",
     "traceback": [
      "\u001b[1;31m---------------------------------------------------------------------------\u001b[0m",
      "\u001b[1;31mTypeError\u001b[0m                                 Traceback (most recent call last)",
      "\u001b[1;32m<ipython-input-61-807f27a7ab56>\u001b[0m in \u001b[0;36m<module>\u001b[1;34m\u001b[0m\n\u001b[0;32m      1\u001b[0m \u001b[0mLSTM_cell\u001b[0m \u001b[1;33m=\u001b[0m \u001b[0mLSTM\u001b[0m\u001b[1;33m(\u001b[0m\u001b[0mn_x\u001b[0m\u001b[1;33m,\u001b[0m \u001b[0mreturn_state\u001b[0m\u001b[1;33m=\u001b[0m\u001b[1;32mTrue\u001b[0m\u001b[1;33m)\u001b[0m\u001b[1;33m\u001b[0m\u001b[1;33m\u001b[0m\u001b[0m\n\u001b[1;32m----> 2\u001b[1;33m \u001b[0mdensor\u001b[0m \u001b[1;33m=\u001b[0m \u001b[0mDense\u001b[0m\u001b[1;33m(\u001b[0m\u001b[1;33m)\u001b[0m\u001b[1;33m\u001b[0m\u001b[1;33m\u001b[0m\u001b[0m\n\u001b[0m",
      "\u001b[1;32mC:\\Anaconda3\\envs\\try01\\lib\\site-packages\\keras\\legacy\\interfaces.py\u001b[0m in \u001b[0;36mwrapper\u001b[1;34m(*args, **kwargs)\u001b[0m\n\u001b[0;32m     89\u001b[0m                 warnings.warn('Update your `' + object_name + '` call to the ' +\n\u001b[0;32m     90\u001b[0m                               'Keras 2 API: ' + signature, stacklevel=2)\n\u001b[1;32m---> 91\u001b[1;33m             \u001b[1;32mreturn\u001b[0m \u001b[0mfunc\u001b[0m\u001b[1;33m(\u001b[0m\u001b[1;33m*\u001b[0m\u001b[0margs\u001b[0m\u001b[1;33m,\u001b[0m \u001b[1;33m**\u001b[0m\u001b[0mkwargs\u001b[0m\u001b[1;33m)\u001b[0m\u001b[1;33m\u001b[0m\u001b[1;33m\u001b[0m\u001b[0m\n\u001b[0m\u001b[0;32m     92\u001b[0m         \u001b[0mwrapper\u001b[0m\u001b[1;33m.\u001b[0m\u001b[0m_original_function\u001b[0m \u001b[1;33m=\u001b[0m \u001b[0mfunc\u001b[0m\u001b[1;33m\u001b[0m\u001b[1;33m\u001b[0m\u001b[0m\n\u001b[0;32m     93\u001b[0m         \u001b[1;32mreturn\u001b[0m \u001b[0mwrapper\u001b[0m\u001b[1;33m\u001b[0m\u001b[1;33m\u001b[0m\u001b[0m\n",
      "\u001b[1;31mTypeError\u001b[0m: __init__() missing 1 required positional argument: 'units'"
     ]
    }
   ],
   "source": [
    "LSTM_cell = LSTM(n_x, return_state=True)\n",
    "densor = Dense()"
   ]
  },
  {
   "cell_type": "code",
   "execution_count": 20,
   "metadata": {},
   "outputs": [
    {
     "name": "stdout",
     "output_type": "stream",
     "text": [
      "(87648, 10)\n",
      "(87648, 8)\n",
      "(87648, 1)\n",
      "(87644, 4, 8)\n",
      "(87644, 1)\n"
     ]
    }
   ],
   "source": [
    "print(matrix.shape)\n",
    "print(x_org_individual.shape)\n",
    "print(y_org_individual.shape)\n",
    "print(x_org.shape)\n",
    "print(y_org.shape)"
   ]
  },
  {
   "cell_type": "markdown",
   "metadata": {},
   "source": [
    "**TRY**"
   ]
  },
  {
   "cell_type": "code",
   "execution_count": 21,
   "metadata": {},
   "outputs": [],
   "source": [
    "x_train, x_test, y_train, y_test = train_test_split(x_org, y_org, test_size = 0.2, random_state = 4)"
   ]
  },
  {
   "cell_type": "code",
   "execution_count": 22,
   "metadata": {},
   "outputs": [
    {
     "ename": "AttributeError",
     "evalue": "module 'tensorflow' has no attribute 'get_default_graph'",
     "output_type": "error",
     "traceback": [
      "\u001b[1;31m---------------------------------------------------------------------------\u001b[0m",
      "\u001b[1;31mAttributeError\u001b[0m                            Traceback (most recent call last)",
      "\u001b[1;32m<ipython-input-22-6cf9220962a5>\u001b[0m in \u001b[0;36m<module>\u001b[1;34m\u001b[0m\n\u001b[1;32m----> 1\u001b[1;33m \u001b[0mtry_model\u001b[0m \u001b[1;33m=\u001b[0m \u001b[0mSequential\u001b[0m\u001b[1;33m(\u001b[0m\u001b[1;33m)\u001b[0m\u001b[1;33m\u001b[0m\u001b[1;33m\u001b[0m\u001b[0m\n\u001b[0m\u001b[0;32m      2\u001b[0m \u001b[0mtry_model\u001b[0m\u001b[1;33m.\u001b[0m\u001b[0madd\u001b[0m\u001b[1;33m(\u001b[0m\u001b[0mLSTM\u001b[0m\u001b[1;33m(\u001b[0m\u001b[1;33m(\u001b[0m\u001b[1;36m1\u001b[0m\u001b[1;33m)\u001b[0m\u001b[1;33m,\u001b[0m \u001b[0mbatch_input_shape\u001b[0m\u001b[1;33m=\u001b[0m\u001b[1;33m(\u001b[0m\u001b[1;32mNone\u001b[0m\u001b[1;33m,\u001b[0m \u001b[0mx_t\u001b[0m\u001b[1;33m,\u001b[0m \u001b[0mn_x\u001b[0m\u001b[1;33m)\u001b[0m\u001b[1;33m,\u001b[0m \u001b[0mreturn_sequences\u001b[0m\u001b[1;33m=\u001b[0m\u001b[1;32mFalse\u001b[0m\u001b[1;33m)\u001b[0m\u001b[1;33m)\u001b[0m\u001b[1;33m\u001b[0m\u001b[1;33m\u001b[0m\u001b[0m\n\u001b[0;32m      3\u001b[0m \u001b[0mtry_model\u001b[0m\u001b[1;33m.\u001b[0m\u001b[0mcompile\u001b[0m\u001b[1;33m(\u001b[0m\u001b[0mloss\u001b[0m\u001b[1;33m=\u001b[0m\u001b[1;34m'mean_absolute_error'\u001b[0m\u001b[1;33m,\u001b[0m \u001b[0moptimizer\u001b[0m\u001b[1;33m=\u001b[0m\u001b[1;34m'adam'\u001b[0m\u001b[1;33m,\u001b[0m \u001b[0mmetrics\u001b[0m\u001b[1;33m=\u001b[0m\u001b[1;33m[\u001b[0m\u001b[1;34m'MAPE'\u001b[0m\u001b[1;33m]\u001b[0m\u001b[1;33m)\u001b[0m\u001b[1;33m\u001b[0m\u001b[1;33m\u001b[0m\u001b[0m\n",
      "\u001b[1;32mC:\\Anaconda3\\envs\\try01\\lib\\site-packages\\keras\\engine\\sequential.py\u001b[0m in \u001b[0;36m__init__\u001b[1;34m(self, layers, name)\u001b[0m\n\u001b[0;32m     85\u001b[0m \u001b[1;33m\u001b[0m\u001b[0m\n\u001b[0;32m     86\u001b[0m     \u001b[1;32mdef\u001b[0m \u001b[0m__init__\u001b[0m\u001b[1;33m(\u001b[0m\u001b[0mself\u001b[0m\u001b[1;33m,\u001b[0m \u001b[0mlayers\u001b[0m\u001b[1;33m=\u001b[0m\u001b[1;32mNone\u001b[0m\u001b[1;33m,\u001b[0m \u001b[0mname\u001b[0m\u001b[1;33m=\u001b[0m\u001b[1;32mNone\u001b[0m\u001b[1;33m)\u001b[0m\u001b[1;33m:\u001b[0m\u001b[1;33m\u001b[0m\u001b[1;33m\u001b[0m\u001b[0m\n\u001b[1;32m---> 87\u001b[1;33m         \u001b[0msuper\u001b[0m\u001b[1;33m(\u001b[0m\u001b[0mSequential\u001b[0m\u001b[1;33m,\u001b[0m \u001b[0mself\u001b[0m\u001b[1;33m)\u001b[0m\u001b[1;33m.\u001b[0m\u001b[0m__init__\u001b[0m\u001b[1;33m(\u001b[0m\u001b[0mname\u001b[0m\u001b[1;33m=\u001b[0m\u001b[0mname\u001b[0m\u001b[1;33m)\u001b[0m\u001b[1;33m\u001b[0m\u001b[1;33m\u001b[0m\u001b[0m\n\u001b[0m\u001b[0;32m     88\u001b[0m         \u001b[0mself\u001b[0m\u001b[1;33m.\u001b[0m\u001b[0m_build_input_shape\u001b[0m \u001b[1;33m=\u001b[0m \u001b[1;32mNone\u001b[0m\u001b[1;33m\u001b[0m\u001b[1;33m\u001b[0m\u001b[0m\n\u001b[0;32m     89\u001b[0m \u001b[1;33m\u001b[0m\u001b[0m\n",
      "\u001b[1;32mC:\\Anaconda3\\envs\\try01\\lib\\site-packages\\keras\\legacy\\interfaces.py\u001b[0m in \u001b[0;36mwrapper\u001b[1;34m(*args, **kwargs)\u001b[0m\n\u001b[0;32m     89\u001b[0m                 warnings.warn('Update your `' + object_name + '` call to the ' +\n\u001b[0;32m     90\u001b[0m                               'Keras 2 API: ' + signature, stacklevel=2)\n\u001b[1;32m---> 91\u001b[1;33m             \u001b[1;32mreturn\u001b[0m \u001b[0mfunc\u001b[0m\u001b[1;33m(\u001b[0m\u001b[1;33m*\u001b[0m\u001b[0margs\u001b[0m\u001b[1;33m,\u001b[0m \u001b[1;33m**\u001b[0m\u001b[0mkwargs\u001b[0m\u001b[1;33m)\u001b[0m\u001b[1;33m\u001b[0m\u001b[1;33m\u001b[0m\u001b[0m\n\u001b[0m\u001b[0;32m     92\u001b[0m         \u001b[0mwrapper\u001b[0m\u001b[1;33m.\u001b[0m\u001b[0m_original_function\u001b[0m \u001b[1;33m=\u001b[0m \u001b[0mfunc\u001b[0m\u001b[1;33m\u001b[0m\u001b[1;33m\u001b[0m\u001b[0m\n\u001b[0;32m     93\u001b[0m         \u001b[1;32mreturn\u001b[0m \u001b[0mwrapper\u001b[0m\u001b[1;33m\u001b[0m\u001b[1;33m\u001b[0m\u001b[0m\n",
      "\u001b[1;32mC:\\Anaconda3\\envs\\try01\\lib\\site-packages\\keras\\engine\\network.py\u001b[0m in \u001b[0;36m__init__\u001b[1;34m(self, *args, **kwargs)\u001b[0m\n\u001b[0;32m     94\u001b[0m         \u001b[1;32melse\u001b[0m\u001b[1;33m:\u001b[0m\u001b[1;33m\u001b[0m\u001b[1;33m\u001b[0m\u001b[0m\n\u001b[0;32m     95\u001b[0m             \u001b[1;31m# Subclassed network\u001b[0m\u001b[1;33m\u001b[0m\u001b[1;33m\u001b[0m\u001b[1;33m\u001b[0m\u001b[0m\n\u001b[1;32m---> 96\u001b[1;33m             \u001b[0mself\u001b[0m\u001b[1;33m.\u001b[0m\u001b[0m_init_subclassed_network\u001b[0m\u001b[1;33m(\u001b[0m\u001b[1;33m**\u001b[0m\u001b[0mkwargs\u001b[0m\u001b[1;33m)\u001b[0m\u001b[1;33m\u001b[0m\u001b[1;33m\u001b[0m\u001b[0m\n\u001b[0m\u001b[0;32m     97\u001b[0m \u001b[1;33m\u001b[0m\u001b[0m\n\u001b[0;32m     98\u001b[0m     \u001b[1;32mdef\u001b[0m \u001b[0m_base_init\u001b[0m\u001b[1;33m(\u001b[0m\u001b[0mself\u001b[0m\u001b[1;33m,\u001b[0m \u001b[0mname\u001b[0m\u001b[1;33m=\u001b[0m\u001b[1;32mNone\u001b[0m\u001b[1;33m)\u001b[0m\u001b[1;33m:\u001b[0m\u001b[1;33m\u001b[0m\u001b[1;33m\u001b[0m\u001b[0m\n",
      "\u001b[1;32mC:\\Anaconda3\\envs\\try01\\lib\\site-packages\\keras\\engine\\network.py\u001b[0m in \u001b[0;36m_init_subclassed_network\u001b[1;34m(self, name)\u001b[0m\n\u001b[0;32m    292\u001b[0m \u001b[1;33m\u001b[0m\u001b[0m\n\u001b[0;32m    293\u001b[0m     \u001b[1;32mdef\u001b[0m \u001b[0m_init_subclassed_network\u001b[0m\u001b[1;33m(\u001b[0m\u001b[0mself\u001b[0m\u001b[1;33m,\u001b[0m \u001b[0mname\u001b[0m\u001b[1;33m=\u001b[0m\u001b[1;32mNone\u001b[0m\u001b[1;33m)\u001b[0m\u001b[1;33m:\u001b[0m\u001b[1;33m\u001b[0m\u001b[1;33m\u001b[0m\u001b[0m\n\u001b[1;32m--> 294\u001b[1;33m         \u001b[0mself\u001b[0m\u001b[1;33m.\u001b[0m\u001b[0m_base_init\u001b[0m\u001b[1;33m(\u001b[0m\u001b[0mname\u001b[0m\u001b[1;33m=\u001b[0m\u001b[0mname\u001b[0m\u001b[1;33m)\u001b[0m\u001b[1;33m\u001b[0m\u001b[1;33m\u001b[0m\u001b[0m\n\u001b[0m\u001b[0;32m    295\u001b[0m         \u001b[0mself\u001b[0m\u001b[1;33m.\u001b[0m\u001b[0m_is_graph_network\u001b[0m \u001b[1;33m=\u001b[0m \u001b[1;32mFalse\u001b[0m\u001b[1;33m\u001b[0m\u001b[1;33m\u001b[0m\u001b[0m\n\u001b[0;32m    296\u001b[0m         \u001b[0mself\u001b[0m\u001b[1;33m.\u001b[0m\u001b[0m_expects_training_arg\u001b[0m \u001b[1;33m=\u001b[0m \u001b[0mhas_arg\u001b[0m\u001b[1;33m(\u001b[0m\u001b[0mself\u001b[0m\u001b[1;33m.\u001b[0m\u001b[0mcall\u001b[0m\u001b[1;33m,\u001b[0m \u001b[1;34m'training'\u001b[0m\u001b[1;33m)\u001b[0m\u001b[1;33m\u001b[0m\u001b[1;33m\u001b[0m\u001b[0m\n",
      "\u001b[1;32mC:\\Anaconda3\\envs\\try01\\lib\\site-packages\\keras\\engine\\network.py\u001b[0m in \u001b[0;36m_base_init\u001b[1;34m(self, name)\u001b[0m\n\u001b[0;32m    107\u001b[0m         \u001b[1;32mif\u001b[0m \u001b[1;32mnot\u001b[0m \u001b[0mname\u001b[0m\u001b[1;33m:\u001b[0m\u001b[1;33m\u001b[0m\u001b[1;33m\u001b[0m\u001b[0m\n\u001b[0;32m    108\u001b[0m             \u001b[0mprefix\u001b[0m \u001b[1;33m=\u001b[0m \u001b[0mself\u001b[0m\u001b[1;33m.\u001b[0m\u001b[0m__class__\u001b[0m\u001b[1;33m.\u001b[0m\u001b[0m__name__\u001b[0m\u001b[1;33m.\u001b[0m\u001b[0mlower\u001b[0m\u001b[1;33m(\u001b[0m\u001b[1;33m)\u001b[0m\u001b[1;33m\u001b[0m\u001b[1;33m\u001b[0m\u001b[0m\n\u001b[1;32m--> 109\u001b[1;33m             \u001b[0mname\u001b[0m \u001b[1;33m=\u001b[0m \u001b[0mprefix\u001b[0m \u001b[1;33m+\u001b[0m \u001b[1;34m'_'\u001b[0m \u001b[1;33m+\u001b[0m \u001b[0mstr\u001b[0m\u001b[1;33m(\u001b[0m\u001b[0mK\u001b[0m\u001b[1;33m.\u001b[0m\u001b[0mget_uid\u001b[0m\u001b[1;33m(\u001b[0m\u001b[0mprefix\u001b[0m\u001b[1;33m)\u001b[0m\u001b[1;33m)\u001b[0m\u001b[1;33m\u001b[0m\u001b[1;33m\u001b[0m\u001b[0m\n\u001b[0m\u001b[0;32m    110\u001b[0m         \u001b[0mself\u001b[0m\u001b[1;33m.\u001b[0m\u001b[0mname\u001b[0m \u001b[1;33m=\u001b[0m \u001b[0mname\u001b[0m\u001b[1;33m\u001b[0m\u001b[1;33m\u001b[0m\u001b[0m\n\u001b[0;32m    111\u001b[0m \u001b[1;33m\u001b[0m\u001b[0m\n",
      "\u001b[1;32mC:\\Anaconda3\\envs\\try01\\lib\\site-packages\\keras\\backend\\tensorflow_backend.py\u001b[0m in \u001b[0;36mget_uid\u001b[1;34m(prefix)\u001b[0m\n\u001b[0;32m     72\u001b[0m     \"\"\"\n\u001b[0;32m     73\u001b[0m     \u001b[1;32mglobal\u001b[0m \u001b[0m_GRAPH_UID_DICTS\u001b[0m\u001b[1;33m\u001b[0m\u001b[1;33m\u001b[0m\u001b[0m\n\u001b[1;32m---> 74\u001b[1;33m     \u001b[0mgraph\u001b[0m \u001b[1;33m=\u001b[0m \u001b[0mtf\u001b[0m\u001b[1;33m.\u001b[0m\u001b[0mget_default_graph\u001b[0m\u001b[1;33m(\u001b[0m\u001b[1;33m)\u001b[0m\u001b[1;33m\u001b[0m\u001b[1;33m\u001b[0m\u001b[0m\n\u001b[0m\u001b[0;32m     75\u001b[0m     \u001b[1;32mif\u001b[0m \u001b[0mgraph\u001b[0m \u001b[1;32mnot\u001b[0m \u001b[1;32min\u001b[0m \u001b[0m_GRAPH_UID_DICTS\u001b[0m\u001b[1;33m:\u001b[0m\u001b[1;33m\u001b[0m\u001b[1;33m\u001b[0m\u001b[0m\n\u001b[0;32m     76\u001b[0m         \u001b[0m_GRAPH_UID_DICTS\u001b[0m\u001b[1;33m[\u001b[0m\u001b[0mgraph\u001b[0m\u001b[1;33m]\u001b[0m \u001b[1;33m=\u001b[0m \u001b[0mdefaultdict\u001b[0m\u001b[1;33m(\u001b[0m\u001b[0mint\u001b[0m\u001b[1;33m)\u001b[0m\u001b[1;33m\u001b[0m\u001b[1;33m\u001b[0m\u001b[0m\n",
      "\u001b[1;31mAttributeError\u001b[0m: module 'tensorflow' has no attribute 'get_default_graph'"
     ]
    }
   ],
   "source": [
    "try_model = Sequential()\n",
    "try_model.add(LSTM((1), batch_input_shape=(None, x_t, n_x), return_sequences=False))\n",
    "try_model.compile(loss='mean_absolute_error', optimizer='adam')"
   ]
  },
  {
   "cell_type": "code",
   "execution_count": 23,
   "metadata": {},
   "outputs": [
    {
     "ename": "NameError",
     "evalue": "name 'try_model' is not defined",
     "output_type": "error",
     "traceback": [
      "\u001b[1;31m---------------------------------------------------------------------------\u001b[0m",
      "\u001b[1;31mNameError\u001b[0m                                 Traceback (most recent call last)",
      "\u001b[1;32m<ipython-input-23-ca6f1f79c4b1>\u001b[0m in \u001b[0;36m<module>\u001b[1;34m\u001b[0m\n\u001b[1;32m----> 1\u001b[1;33m \u001b[0mtry_model\u001b[0m\u001b[1;33m.\u001b[0m\u001b[0msummary\u001b[0m\u001b[1;33m(\u001b[0m\u001b[1;33m)\u001b[0m\u001b[1;33m\u001b[0m\u001b[1;33m\u001b[0m\u001b[0m\n\u001b[0m",
      "\u001b[1;31mNameError\u001b[0m: name 'try_model' is not defined"
     ]
    }
   ],
   "source": [
    "try_model.summary()"
   ]
  },
  {
   "cell_type": "code",
   "execution_count": 130,
   "metadata": {},
   "outputs": [
    {
     "name": "stdout",
     "output_type": "stream",
     "text": [
      "Train on 70115 samples, validate on 17529 samples\n",
      "Epoch 1/40\n",
      "70115/70115 [==============================] - 13s 184us/step - loss: 0.1166 - acc: 1.4262e-05 - val_loss: 0.1159 - val_acc: 0.0000e+00\n",
      "Epoch 2/40\n",
      "70115/70115 [==============================] - 12s 168us/step - loss: 0.1163 - acc: 1.4262e-05 - val_loss: 0.1160 - val_acc: 0.0000e+00\n",
      "Epoch 3/40\n",
      "70115/70115 [==============================] - 12s 177us/step - loss: 0.1160 - acc: 1.4262e-05 - val_loss: 0.1154 - val_acc: 0.0000e+00\n",
      "Epoch 4/40\n",
      "70115/70115 [==============================] - 13s 180us/step - loss: 0.1157 - acc: 1.4262e-05 - val_loss: 0.1152 - val_acc: 0.0000e+00\n",
      "Epoch 5/40\n",
      "70115/70115 [==============================] - 12s 168us/step - loss: 0.1153 - acc: 1.4262e-05 - val_loss: 0.1149 - val_acc: 0.0000e+00\n",
      "Epoch 6/40\n",
      "70115/70115 [==============================] - 10s 148us/step - loss: 0.1149 - acc: 1.4262e-05 - val_loss: 0.1145 - val_acc: 0.0000e+00\n",
      "Epoch 7/40\n",
      "70115/70115 [==============================] - 12s 174us/step - loss: 0.1145 - acc: 1.4262e-05 - val_loss: 0.1140 - val_acc: 0.0000e+00\n",
      "Epoch 8/40\n",
      "70115/70115 [==============================] - 12s 174us/step - loss: 0.1140 - acc: 1.4262e-05 - val_loss: 0.1134 - val_acc: 0.0000e+00\n",
      "Epoch 9/40\n",
      "70115/70115 [==============================] - 12s 171us/step - loss: 0.1134 - acc: 1.4262e-05 - val_loss: 0.1128 - val_acc: 0.0000e+00\n",
      "Epoch 10/40\n",
      "70115/70115 [==============================] - 12s 172us/step - loss: 0.1126 - acc: 1.4262e-05 - val_loss: 0.1117 - val_acc: 0.0000e+00\n",
      "Epoch 11/40\n",
      "70115/70115 [==============================] - 13s 183us/step - loss: 0.1116 - acc: 1.4262e-05 - val_loss: 0.1118 - val_acc: 0.0000e+00\n",
      "Epoch 12/40\n",
      "70115/70115 [==============================] - 13s 181us/step - loss: 0.1105 - acc: 1.4262e-05 - val_loss: 0.1095 - val_acc: 0.0000e+00\n",
      "Epoch 13/40\n",
      "70115/70115 [==============================] - 13s 185us/step - loss: 0.1095 - acc: 1.4262e-05 - val_loss: 0.1084 - val_acc: 0.0000e+00\n",
      "Epoch 14/40\n",
      "70115/70115 [==============================] - 14s 193us/step - loss: 0.1087 - acc: 1.4262e-05 - val_loss: 0.1092 - val_acc: 0.0000e+00\n",
      "Epoch 15/40\n",
      "70115/70115 [==============================] - 14s 199us/step - loss: 0.1085 - acc: 1.4262e-05 - val_loss: 0.1076 - val_acc: 0.0000e+00\n",
      "Epoch 16/40\n",
      "70115/70115 [==============================] - 13s 191us/step - loss: 0.1081 - acc: 1.4262e-05 - val_loss: 0.1071 - val_acc: 0.0000e+00\n",
      "Epoch 17/40\n",
      "70115/70115 [==============================] - 12s 175us/step - loss: 0.1078 - acc: 1.4262e-05 - val_loss: 0.1097 - val_acc: 0.0000e+00\n",
      "Epoch 18/40\n",
      "70115/70115 [==============================] - 11s 161us/step - loss: 0.1075 - acc: 1.4262e-05 - val_loss: 0.1067 - val_acc: 0.0000e+00\n",
      "Epoch 19/40\n",
      "70115/70115 [==============================] - 11s 156us/step - loss: 0.1074 - acc: 1.4262e-05 - val_loss: 0.1065 - val_acc: 0.0000e+00\n",
      "Epoch 20/40\n",
      "70115/70115 [==============================] - 11s 152us/step - loss: 0.1071 - acc: 1.4262e-05 - val_loss: 0.1062 - val_acc: 0.0000e+00\n",
      "Epoch 21/40\n",
      "70115/70115 [==============================] - 11s 164us/step - loss: 0.1068 - acc: 1.4262e-05 - val_loss: 0.1059 - val_acc: 0.0000e+00\n",
      "Epoch 22/40\n",
      "70115/70115 [==============================] - 12s 175us/step - loss: 0.1066 - acc: 1.4262e-05 - val_loss: 0.1069 - val_acc: 0.0000e+00\n",
      "Epoch 23/40\n",
      "70115/70115 [==============================] - 13s 181us/step - loss: 0.1065 - acc: 1.4262e-05 - val_loss: 0.1067 - val_acc: 0.0000e+00\n",
      "Epoch 24/40\n",
      "70115/70115 [==============================] - 13s 180us/step - loss: 0.1061 - acc: 1.4262e-05 - val_loss: 0.1062 - val_acc: 0.0000e+00\n",
      "Epoch 25/40\n",
      "70115/70115 [==============================] - 13s 186us/step - loss: 0.1057 - acc: 1.4262e-05 - val_loss: 0.1067 - val_acc: 0.0000e+00\n",
      "Epoch 26/40\n",
      "70115/70115 [==============================] - 13s 182us/step - loss: 0.1054 - acc: 1.4262e-05 - val_loss: 0.1058 - val_acc: 0.0000e+00\n",
      "Epoch 27/40\n",
      "70115/70115 [==============================] - 13s 183us/step - loss: 0.1052 - acc: 1.4262e-05 - val_loss: 0.1081 - val_acc: 0.0000e+00\n",
      "Epoch 28/40\n",
      "70115/70115 [==============================] - 13s 187us/step - loss: 0.1048 - acc: 1.4262e-05 - val_loss: 0.1040 - val_acc: 0.0000e+00\n",
      "Epoch 29/40\n",
      "70115/70115 [==============================] - 13s 181us/step - loss: 0.1044 - acc: 1.4262e-05 - val_loss: 0.1034 - val_acc: 0.0000e+00\n",
      "Epoch 30/40\n",
      "70115/70115 [==============================] - 11s 162us/step - loss: 0.1042 - acc: 1.4262e-05 - val_loss: 0.1032 - val_acc: 0.0000e+00\n",
      "Epoch 31/40\n",
      "70115/70115 [==============================] - 10s 144us/step - loss: 0.1038 - acc: 1.4262e-05 - val_loss: 0.1054 - val_acc: 0.0000e+00\n",
      "Epoch 32/40\n",
      "70115/70115 [==============================] - 12s 176us/step - loss: 0.1033 - acc: 1.4262e-05 - val_loss: 0.1027 - val_acc: 0.0000e+00\n",
      "Epoch 33/40\n",
      "70115/70115 [==============================] - 13s 183us/step - loss: 0.1029 - acc: 1.4262e-05 - val_loss: 0.1043 - val_acc: 0.0000e+00\n",
      "Epoch 34/40\n",
      "70115/70115 [==============================] - 13s 183us/step - loss: 0.1026 - acc: 1.4262e-05 - val_loss: 0.1046 - val_acc: 0.0000e+00\n",
      "Epoch 35/40\n",
      "70115/70115 [==============================] - 13s 181us/step - loss: 0.1022 - acc: 1.4262e-05 - val_loss: 0.1010 - val_acc: 0.0000e+00\n",
      "Epoch 36/40\n",
      "70115/70115 [==============================] - 11s 157us/step - loss: 0.1019 - acc: 1.4262e-05 - val_loss: 0.1021 - val_acc: 0.0000e+00\n",
      "Epoch 37/40\n",
      "70115/70115 [==============================] - 11s 159us/step - loss: 0.1015 - acc: 1.4262e-05 - val_loss: 0.1005 - val_acc: 0.0000e+00\n",
      "Epoch 38/40\n",
      "70115/70115 [==============================] - 12s 177us/step - loss: 0.1014 - acc: 1.4262e-05 - val_loss: 0.1004 - val_acc: 0.0000e+00\n",
      "Epoch 39/40\n",
      "70115/70115 [==============================] - 12s 172us/step - loss: 0.1010 - acc: 1.4262e-05 - val_loss: 0.1001 - val_acc: 0.0000e+00\n",
      "Epoch 40/40\n",
      "70115/70115 [==============================] - 12s 173us/step - loss: 0.1009 - acc: 1.4262e-05 - val_loss: 0.1000 - val_acc: 0.0000e+00\n"
     ]
    }
   ],
   "source": [
    "history = try_model.fit(x_train, y_train, epochs=40, validation_data=(x_test, y_test))"
   ]
  },
  {
   "cell_type": "code",
   "execution_count": 131,
   "metadata": {},
   "outputs": [],
   "source": [
    "results = try_model.predict(x_test)"
   ]
  },
  {
   "cell_type": "code",
   "execution_count": 3,
   "metadata": {},
   "outputs": [
    {
     "ename": "NameError",
     "evalue": "name 'results' is not defined",
     "output_type": "error",
     "traceback": [
      "\u001b[1;31m---------------------------------------------------------------------------\u001b[0m",
      "\u001b[1;31mNameError\u001b[0m                                 Traceback (most recent call last)",
      "\u001b[1;32m<ipython-input-3-05954b747b33>\u001b[0m in \u001b[0;36m<module>\u001b[1;34m\u001b[0m\n\u001b[1;32m----> 1\u001b[1;33m \u001b[0mprint\u001b[0m\u001b[1;33m(\u001b[0m\u001b[0mresults\u001b[0m\u001b[1;33m.\u001b[0m\u001b[0mshape\u001b[0m\u001b[1;33m)\u001b[0m\u001b[1;33m\u001b[0m\u001b[1;33m\u001b[0m\u001b[0m\n\u001b[0m\u001b[0;32m      2\u001b[0m \u001b[0mprint\u001b[0m\u001b[1;33m(\u001b[0m\u001b[0my_test\u001b[0m\u001b[1;33m.\u001b[0m\u001b[0mshape\u001b[0m\u001b[1;33m)\u001b[0m\u001b[1;33m\u001b[0m\u001b[1;33m\u001b[0m\u001b[0m\n\u001b[0;32m      3\u001b[0m \u001b[0mplt\u001b[0m\u001b[1;33m.\u001b[0m\u001b[0mscatter\u001b[0m\u001b[1;33m(\u001b[0m\u001b[0mrange\u001b[0m\u001b[1;33m(\u001b[0m\u001b[1;36m20\u001b[0m\u001b[1;33m)\u001b[0m\u001b[1;33m,\u001b[0m \u001b[0mresults\u001b[0m\u001b[1;33m[\u001b[0m\u001b[1;33m[\u001b[0m\u001b[1;33m[\u001b[0m\u001b[0mi\u001b[0m\u001b[1;33m]\u001b[0m \u001b[1;32mfor\u001b[0m \u001b[0mi\u001b[0m \u001b[1;32min\u001b[0m \u001b[0mrange\u001b[0m\u001b[1;33m(\u001b[0m\u001b[1;36m20\u001b[0m\u001b[1;33m)\u001b[0m\u001b[1;33m]\u001b[0m\u001b[1;33m,\u001b[0m \u001b[1;36m0\u001b[0m\u001b[1;33m]\u001b[0m\u001b[1;33m,\u001b[0m \u001b[0mc\u001b[0m\u001b[1;33m=\u001b[0m\u001b[1;34m'r'\u001b[0m\u001b[1;33m)\u001b[0m\u001b[1;33m\u001b[0m\u001b[1;33m\u001b[0m\u001b[0m\n\u001b[0;32m      4\u001b[0m \u001b[0mplt\u001b[0m\u001b[1;33m.\u001b[0m\u001b[0mscatter\u001b[0m\u001b[1;33m(\u001b[0m\u001b[0mrange\u001b[0m\u001b[1;33m(\u001b[0m\u001b[1;36m20\u001b[0m\u001b[1;33m)\u001b[0m\u001b[1;33m,\u001b[0m \u001b[0my_test\u001b[0m\u001b[1;33m[\u001b[0m\u001b[1;33m[\u001b[0m\u001b[1;33m[\u001b[0m\u001b[0mi\u001b[0m\u001b[1;33m]\u001b[0m \u001b[1;32mfor\u001b[0m \u001b[0mi\u001b[0m \u001b[1;32min\u001b[0m \u001b[0mrange\u001b[0m\u001b[1;33m(\u001b[0m\u001b[1;36m20\u001b[0m\u001b[1;33m)\u001b[0m\u001b[1;33m]\u001b[0m\u001b[1;33m,\u001b[0m \u001b[1;36m0\u001b[0m\u001b[1;33m]\u001b[0m\u001b[1;33m,\u001b[0m \u001b[0mc\u001b[0m\u001b[1;33m=\u001b[0m\u001b[1;34m'g'\u001b[0m\u001b[1;33m)\u001b[0m\u001b[1;33m\u001b[0m\u001b[1;33m\u001b[0m\u001b[0m\n\u001b[0;32m      5\u001b[0m \u001b[0mplt\u001b[0m\u001b[1;33m.\u001b[0m\u001b[0mshow\u001b[0m\u001b[1;33m\u001b[0m\u001b[1;33m\u001b[0m\u001b[0m\n",
      "\u001b[1;31mNameError\u001b[0m: name 'results' is not defined"
     ]
    }
   ],
   "source": [
    "print(results.shape)\n",
    "print(y_test.shape)\n",
    "plt.scatter(range(20), results[[[i] for i in range(20)], 0], c='r')\n",
    "plt.scatter(range(20), y_test[[[i] for i in range(20)], 0], c='g')\n",
    "plt.show\n",
    "\n",
    "plt.figure(figsize=(10, 6))\n",
    "\n",
    "plot_series(range(20), results[:20])\n",
    "plot_series(range(20), y_test[:20])"
   ]
  },
  {
   "cell_type": "code",
   "execution_count": 133,
   "metadata": {},
   "outputs": [
    {
     "data": {
      "image/png": "[encoded data removed]",
      "text/plain": [
       "<Figure size 432x288 with 1 Axes>"
      ]
     },
     "metadata": {
      "needs_background": "light"
     },
     "output_type": "display_data"
    }
   ],
   "source": [
    "plt.plot(history.history['loss'])\n",
    "plt.show()"
   ]
  },
  {
   "cell_type": "code",
   "execution_count": null,
   "metadata": {},
   "outputs": [],
   "source": []
  }
 ],
 "metadata": {
  "kernelspec": {
   "display_name": "Python 3",
   "language": "python",
   "name": "python3"
  },
  "language_info": {
   "codemirror_mode": {
    "name": "ipython",
    "version": 3
   },
   "file_extension": ".py",
   "mimetype": "text/x-python",
   "name": "python",
   "nbconvert_exporter": "python",
   "pygments_lexer": "ipython3",
   "version": "3.7.3"
  }
 },
 "nbformat": 4,
 "nbformat_minor": 2
}
