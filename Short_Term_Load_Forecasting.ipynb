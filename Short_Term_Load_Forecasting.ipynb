{
  "nbformat": 4,
  "nbformat_minor": 0,
  "metadata": {
    "colab": {
      "name": "Final_Project.ipynb",
      "provenance": [],
      "collapsed_sections": []
    },
    "kernelspec": {
      "name": "python3",
      "display_name": "Python 3"
    },
    "accelerator": "GPU"
  },
  "cells": [
    {
      "cell_type": "code",
      "metadata": {
        "id": "MvMyF7gj940w",
        "colab_type": "code",
        "outputId": "ed254df6-f76c-4dc7-9398-44b40223b192",
        "colab": {
          "base_uri": "https://localhost:8080/",
          "height": 555
        }
      },
      "source": [
        "# Code to read csv file into Colaboratory:\n",
        "!pip install -U -q PyDrive\n",
        "from pydrive.auth import GoogleAuth\n",
        "from pydrive.drive import GoogleDrive\n",
        "from google.colab import auth\n",
        "from oauth2client.client import GoogleCredentials\n",
        "# Authenticate and create the PyDrive client.\n",
        "auth.authenticate_user()\n",
        "gauth = GoogleAuth()\n",
        "gauth.credentials = GoogleCredentials.get_application_default()\n",
        "drive = GoogleDrive(gauth)\n",
        "\n"
      ],
      "execution_count": 0,
      "outputs": [
        {
          "output_type": "stream",
          "text": [
            "\u001b[?25l\r\u001b[K     |▎                               | 10kB 26.0MB/s eta 0:00:01\r\u001b[K     |▋                               | 20kB 33.0MB/s eta 0:00:01\r\u001b[K     |█                               | 30kB 41.3MB/s eta 0:00:01\r\u001b[K     |█▎                              | 40kB 35.2MB/s eta 0:00:01\r\u001b[K     |█▋                              | 51kB 39.3MB/s eta 0:00:01\r\u001b[K     |██                              | 61kB 44.1MB/s eta 0:00:01\r\u001b[K     |██▎                             | 71kB 34.4MB/s eta 0:00:01\r\u001b[K     |██▋                             | 81kB 27.7MB/s eta 0:00:01\r\u001b[K     |███                             | 92kB 29.7MB/s eta 0:00:01\r\u001b[K     |███▎                            | 102kB 31.9MB/s eta 0:00:01\r\u001b[K     |███▋                            | 112kB 31.9MB/s eta 0:00:01\r\u001b[K     |████                            | 122kB 31.9MB/s eta 0:00:01\r\u001b[K     |████▎                           | 133kB 31.9MB/s eta 0:00:01\r\u001b[K     |████▋                           | 143kB 31.9MB/s eta 0:00:01\r\u001b[K     |█████                           | 153kB 31.9MB/s eta 0:00:01\r\u001b[K     |█████▎                          | 163kB 31.9MB/s eta 0:00:01\r\u001b[K     |█████▋                          | 174kB 31.9MB/s eta 0:00:01\r\u001b[K     |██████                          | 184kB 31.9MB/s eta 0:00:01\r\u001b[K     |██████▎                         | 194kB 31.9MB/s eta 0:00:01\r\u001b[K     |██████▋                         | 204kB 31.9MB/s eta 0:00:01\r\u001b[K     |███████                         | 215kB 31.9MB/s eta 0:00:01\r\u001b[K     |███████▎                        | 225kB 31.9MB/s eta 0:00:01\r\u001b[K     |███████▋                        | 235kB 31.9MB/s eta 0:00:01\r\u001b[K     |████████                        | 245kB 31.9MB/s eta 0:00:01\r\u001b[K     |████████▎                       | 256kB 31.9MB/s eta 0:00:01\r\u001b[K     |████████▋                       | 266kB 31.9MB/s eta 0:00:01\r\u001b[K     |█████████                       | 276kB 31.9MB/s eta 0:00:01\r\u001b[K     |█████████▎                      | 286kB 31.9MB/s eta 0:00:01\r\u001b[K     |█████████▋                      | 296kB 31.9MB/s eta 0:00:01\r\u001b[K     |██████████                      | 307kB 31.9MB/s eta 0:00:01\r\u001b[K     |██████████▎                     | 317kB 31.9MB/s eta 0:00:01\r\u001b[K     |██████████▋                     | 327kB 31.9MB/s eta 0:00:01\r\u001b[K     |███████████                     | 337kB 31.9MB/s eta 0:00:01\r\u001b[K     |███████████▎                    | 348kB 31.9MB/s eta 0:00:01\r\u001b[K     |███████████▋                    | 358kB 31.9MB/s eta 0:00:01\r\u001b[K     |████████████                    | 368kB 31.9MB/s eta 0:00:01\r\u001b[K     |████████████▎                   | 378kB 31.9MB/s eta 0:00:01\r\u001b[K     |████████████▋                   | 389kB 31.9MB/s eta 0:00:01\r\u001b[K     |█████████████                   | 399kB 31.9MB/s eta 0:00:01\r\u001b[K     |█████████████▎                  | 409kB 31.9MB/s eta 0:00:01\r\u001b[K     |█████████████▋                  | 419kB 31.9MB/s eta 0:00:01\r\u001b[K     |██████████████                  | 430kB 31.9MB/s eta 0:00:01\r\u001b[K     |██████████████▎                 | 440kB 31.9MB/s eta 0:00:01\r\u001b[K     |██████████████▋                 | 450kB 31.9MB/s eta 0:00:01\r\u001b[K     |███████████████                 | 460kB 31.9MB/s eta 0:00:01\r\u001b[K     |███████████████▎                | 471kB 31.9MB/s eta 0:00:01\r\u001b[K     |███████████████▋                | 481kB 31.9MB/s eta 0:00:01\r\u001b[K     |████████████████                | 491kB 31.9MB/s eta 0:00:01\r\u001b[K     |████████████████▎               | 501kB 31.9MB/s eta 0:00:01\r\u001b[K     |████████████████▋               | 512kB 31.9MB/s eta 0:00:01\r\u001b[K     |█████████████████               | 522kB 31.9MB/s eta 0:00:01\r\u001b[K     |█████████████████▎              | 532kB 31.9MB/s eta 0:00:01\r\u001b[K     |█████████████████▋              | 542kB 31.9MB/s eta 0:00:01\r\u001b[K     |██████████████████              | 552kB 31.9MB/s eta 0:00:01\r\u001b[K     |██████████████████▎             | 563kB 31.9MB/s eta 0:00:01\r\u001b[K     |██████████████████▋             | 573kB 31.9MB/s eta 0:00:01\r\u001b[K     |███████████████████             | 583kB 31.9MB/s eta 0:00:01\r\u001b[K     |███████████████████▎            | 593kB 31.9MB/s eta 0:00:01\r\u001b[K     |███████████████████▋            | 604kB 31.9MB/s eta 0:00:01\r\u001b[K     |████████████████████            | 614kB 31.9MB/s eta 0:00:01\r\u001b[K     |████████████████████▎           | 624kB 31.9MB/s eta 0:00:01\r\u001b[K     |████████████████████▋           | 634kB 31.9MB/s eta 0:00:01\r\u001b[K     |█████████████████████           | 645kB 31.9MB/s eta 0:00:01\r\u001b[K     |█████████████████████▎          | 655kB 31.9MB/s eta 0:00:01\r\u001b[K     |█████████████████████▋          | 665kB 31.9MB/s eta 0:00:01\r\u001b[K     |██████████████████████          | 675kB 31.9MB/s eta 0:00:01\r\u001b[K     |██████████████████████▎         | 686kB 31.9MB/s eta 0:00:01\r\u001b[K     |██████████████████████▋         | 696kB 31.9MB/s eta 0:00:01\r\u001b[K     |███████████████████████         | 706kB 31.9MB/s eta 0:00:01\r\u001b[K     |███████████████████████▎        | 716kB 31.9MB/s eta 0:00:01\r\u001b[K     |███████████████████████▋        | 727kB 31.9MB/s eta 0:00:01\r\u001b[K     |████████████████████████        | 737kB 31.9MB/s eta 0:00:01\r\u001b[K     |████████████████████████▎       | 747kB 31.9MB/s eta 0:00:01\r\u001b[K     |████████████████████████▋       | 757kB 31.9MB/s eta 0:00:01\r\u001b[K     |████████████████████████▉       | 768kB 31.9MB/s eta 0:00:01\r\u001b[K     |█████████████████████████▏      | 778kB 31.9MB/s eta 0:00:01\r\u001b[K     |█████████████████████████▌      | 788kB 31.9MB/s eta 0:00:01\r\u001b[K     |█████████████████████████▉      | 798kB 31.9MB/s eta 0:00:01\r\u001b[K     |██████████████████████████▏     | 808kB 31.9MB/s eta 0:00:01\r\u001b[K     |██████████████████████████▌     | 819kB 31.9MB/s eta 0:00:01\r\u001b[K     |██████████████████████████▉     | 829kB 31.9MB/s eta 0:00:01\r\u001b[K     |███████████████████████████▏    | 839kB 31.9MB/s eta 0:00:01\r\u001b[K     |███████████████████████████▌    | 849kB 31.9MB/s eta 0:00:01\r\u001b[K     |███████████████████████████▉    | 860kB 31.9MB/s eta 0:00:01\r\u001b[K     |████████████████████████████▏   | 870kB 31.9MB/s eta 0:00:01\r\u001b[K     |████████████████████████████▌   | 880kB 31.9MB/s eta 0:00:01\r\u001b[K     |████████████████████████████▉   | 890kB 31.9MB/s eta 0:00:01\r\u001b[K     |█████████████████████████████▏  | 901kB 31.9MB/s eta 0:00:01\r\u001b[K     |█████████████████████████████▌  | 911kB 31.9MB/s eta 0:00:01\r\u001b[K     |█████████████████████████████▉  | 921kB 31.9MB/s eta 0:00:01\r\u001b[K     |██████████████████████████████▏ | 931kB 31.9MB/s eta 0:00:01\r\u001b[K     |██████████████████████████████▌ | 942kB 31.9MB/s eta 0:00:01\r\u001b[K     |██████████████████████████████▉ | 952kB 31.9MB/s eta 0:00:01\r\u001b[K     |███████████████████████████████▏| 962kB 31.9MB/s eta 0:00:01\r\u001b[K     |███████████████████████████████▌| 972kB 31.9MB/s eta 0:00:01\r\u001b[K     |███████████████████████████████▉| 983kB 31.9MB/s eta 0:00:01\r\u001b[K     |████████████████████████████████| 993kB 31.9MB/s \n",
            "\u001b[?25h  Building wheel for PyDrive (setup.py) ... \u001b[?25l\u001b[?25hdone\n"
          ],
          "name": "stdout"
        },
        {
          "output_type": "error",
          "ename": "KeyboardInterrupt",
          "evalue": "ignored",
          "traceback": [
            "\u001b[0;31m---------------------------------------------------------------------------\u001b[0m",
            "\u001b[0;31mKeyboardInterrupt\u001b[0m                         Traceback (most recent call last)",
            "\u001b[0;32m/usr/local/lib/python3.6/dist-packages/ipykernel/kernelbase.py\u001b[0m in \u001b[0;36m_input_request\u001b[0;34m(self, prompt, ident, parent, password)\u001b[0m\n\u001b[1;32m    729\u001b[0m             \u001b[0;32mtry\u001b[0m\u001b[0;34m:\u001b[0m\u001b[0;34m\u001b[0m\u001b[0;34m\u001b[0m\u001b[0m\n\u001b[0;32m--> 730\u001b[0;31m                 \u001b[0mident\u001b[0m\u001b[0;34m,\u001b[0m \u001b[0mreply\u001b[0m \u001b[0;34m=\u001b[0m \u001b[0mself\u001b[0m\u001b[0;34m.\u001b[0m\u001b[0msession\u001b[0m\u001b[0;34m.\u001b[0m\u001b[0mrecv\u001b[0m\u001b[0;34m(\u001b[0m\u001b[0mself\u001b[0m\u001b[0;34m.\u001b[0m\u001b[0mstdin_socket\u001b[0m\u001b[0;34m,\u001b[0m \u001b[0;36m0\u001b[0m\u001b[0;34m)\u001b[0m\u001b[0;34m\u001b[0m\u001b[0;34m\u001b[0m\u001b[0m\n\u001b[0m\u001b[1;32m    731\u001b[0m             \u001b[0;32mexcept\u001b[0m \u001b[0mException\u001b[0m\u001b[0;34m:\u001b[0m\u001b[0;34m\u001b[0m\u001b[0;34m\u001b[0m\u001b[0m\n",
            "\u001b[0;32m/usr/local/lib/python3.6/dist-packages/jupyter_client/session.py\u001b[0m in \u001b[0;36mrecv\u001b[0;34m(self, socket, mode, content, copy)\u001b[0m\n\u001b[1;32m    802\u001b[0m         \u001b[0;32mtry\u001b[0m\u001b[0;34m:\u001b[0m\u001b[0;34m\u001b[0m\u001b[0;34m\u001b[0m\u001b[0m\n\u001b[0;32m--> 803\u001b[0;31m             \u001b[0mmsg_list\u001b[0m \u001b[0;34m=\u001b[0m \u001b[0msocket\u001b[0m\u001b[0;34m.\u001b[0m\u001b[0mrecv_multipart\u001b[0m\u001b[0;34m(\u001b[0m\u001b[0mmode\u001b[0m\u001b[0;34m,\u001b[0m \u001b[0mcopy\u001b[0m\u001b[0;34m=\u001b[0m\u001b[0mcopy\u001b[0m\u001b[0;34m)\u001b[0m\u001b[0;34m\u001b[0m\u001b[0;34m\u001b[0m\u001b[0m\n\u001b[0m\u001b[1;32m    804\u001b[0m         \u001b[0;32mexcept\u001b[0m \u001b[0mzmq\u001b[0m\u001b[0;34m.\u001b[0m\u001b[0mZMQError\u001b[0m \u001b[0;32mas\u001b[0m \u001b[0me\u001b[0m\u001b[0;34m:\u001b[0m\u001b[0;34m\u001b[0m\u001b[0;34m\u001b[0m\u001b[0m\n",
            "\u001b[0;32m/usr/local/lib/python3.6/dist-packages/zmq/sugar/socket.py\u001b[0m in \u001b[0;36mrecv_multipart\u001b[0;34m(self, flags, copy, track)\u001b[0m\n\u001b[1;32m    465\u001b[0m         \"\"\"\n\u001b[0;32m--> 466\u001b[0;31m         \u001b[0mparts\u001b[0m \u001b[0;34m=\u001b[0m \u001b[0;34m[\u001b[0m\u001b[0mself\u001b[0m\u001b[0;34m.\u001b[0m\u001b[0mrecv\u001b[0m\u001b[0;34m(\u001b[0m\u001b[0mflags\u001b[0m\u001b[0;34m,\u001b[0m \u001b[0mcopy\u001b[0m\u001b[0;34m=\u001b[0m\u001b[0mcopy\u001b[0m\u001b[0;34m,\u001b[0m \u001b[0mtrack\u001b[0m\u001b[0;34m=\u001b[0m\u001b[0mtrack\u001b[0m\u001b[0;34m)\u001b[0m\u001b[0;34m]\u001b[0m\u001b[0;34m\u001b[0m\u001b[0;34m\u001b[0m\u001b[0m\n\u001b[0m\u001b[1;32m    467\u001b[0m         \u001b[0;31m# have first part already, only loop while more to receive\u001b[0m\u001b[0;34m\u001b[0m\u001b[0;34m\u001b[0m\u001b[0;34m\u001b[0m\u001b[0m\n",
            "\u001b[0;32mzmq/backend/cython/socket.pyx\u001b[0m in \u001b[0;36mzmq.backend.cython.socket.Socket.recv\u001b[0;34m()\u001b[0m\n",
            "\u001b[0;32mzmq/backend/cython/socket.pyx\u001b[0m in \u001b[0;36mzmq.backend.cython.socket.Socket.recv\u001b[0;34m()\u001b[0m\n",
            "\u001b[0;32mzmq/backend/cython/socket.pyx\u001b[0m in \u001b[0;36mzmq.backend.cython.socket._recv_copy\u001b[0;34m()\u001b[0m\n",
            "\u001b[0;32m/usr/local/lib/python3.6/dist-packages/zmq/backend/cython/checkrc.pxd\u001b[0m in \u001b[0;36mzmq.backend.cython.checkrc._check_rc\u001b[0;34m()\u001b[0m\n",
            "\u001b[0;31mKeyboardInterrupt\u001b[0m: ",
            "\nDuring handling of the above exception, another exception occurred:\n",
            "\u001b[0;31mKeyboardInterrupt\u001b[0m                         Traceback (most recent call last)",
            "\u001b[0;32m<ipython-input-8-9d07e223e513>\u001b[0m in \u001b[0;36m<module>\u001b[0;34m()\u001b[0m\n\u001b[1;32m      5\u001b[0m \u001b[0;32mfrom\u001b[0m \u001b[0moauth2client\u001b[0m\u001b[0;34m.\u001b[0m\u001b[0mclient\u001b[0m \u001b[0;32mimport\u001b[0m \u001b[0mGoogleCredentials\u001b[0m\u001b[0;34m\u001b[0m\u001b[0;34m\u001b[0m\u001b[0m\n\u001b[1;32m      6\u001b[0m \u001b[0;31m# Authenticate and create the PyDrive client.\u001b[0m\u001b[0;34m\u001b[0m\u001b[0;34m\u001b[0m\u001b[0;34m\u001b[0m\u001b[0m\n\u001b[0;32m----> 7\u001b[0;31m \u001b[0mauth\u001b[0m\u001b[0;34m.\u001b[0m\u001b[0mauthenticate_user\u001b[0m\u001b[0;34m(\u001b[0m\u001b[0;34m)\u001b[0m\u001b[0;34m\u001b[0m\u001b[0;34m\u001b[0m\u001b[0m\n\u001b[0m\u001b[1;32m      8\u001b[0m \u001b[0mgauth\u001b[0m \u001b[0;34m=\u001b[0m \u001b[0mGoogleAuth\u001b[0m\u001b[0;34m(\u001b[0m\u001b[0;34m)\u001b[0m\u001b[0;34m\u001b[0m\u001b[0;34m\u001b[0m\u001b[0m\n\u001b[1;32m      9\u001b[0m \u001b[0mgauth\u001b[0m\u001b[0;34m.\u001b[0m\u001b[0mcredentials\u001b[0m \u001b[0;34m=\u001b[0m \u001b[0mGoogleCredentials\u001b[0m\u001b[0;34m.\u001b[0m\u001b[0mget_application_default\u001b[0m\u001b[0;34m(\u001b[0m\u001b[0;34m)\u001b[0m\u001b[0;34m\u001b[0m\u001b[0;34m\u001b[0m\u001b[0m\n",
            "\u001b[0;32m/usr/local/lib/python3.6/dist-packages/google/colab/auth.py\u001b[0m in \u001b[0;36mauthenticate_user\u001b[0;34m(clear_output)\u001b[0m\n\u001b[1;32m    145\u001b[0m     \u001b[0mcontext_manager\u001b[0m \u001b[0;34m=\u001b[0m \u001b[0m_output\u001b[0m\u001b[0;34m.\u001b[0m\u001b[0mtemporary\u001b[0m \u001b[0;32mif\u001b[0m \u001b[0mclear_output\u001b[0m \u001b[0;32melse\u001b[0m \u001b[0m_noop\u001b[0m\u001b[0;34m\u001b[0m\u001b[0;34m\u001b[0m\u001b[0m\n\u001b[1;32m    146\u001b[0m     \u001b[0;32mwith\u001b[0m \u001b[0mcontext_manager\u001b[0m\u001b[0;34m(\u001b[0m\u001b[0;34m)\u001b[0m\u001b[0;34m:\u001b[0m\u001b[0;34m\u001b[0m\u001b[0;34m\u001b[0m\u001b[0m\n\u001b[0;32m--> 147\u001b[0;31m       \u001b[0m_gcloud_login\u001b[0m\u001b[0;34m(\u001b[0m\u001b[0;34m)\u001b[0m\u001b[0;34m\u001b[0m\u001b[0;34m\u001b[0m\u001b[0m\n\u001b[0m\u001b[1;32m    148\u001b[0m     \u001b[0m_install_adc\u001b[0m\u001b[0;34m(\u001b[0m\u001b[0;34m)\u001b[0m\u001b[0;34m\u001b[0m\u001b[0;34m\u001b[0m\u001b[0m\n\u001b[1;32m    149\u001b[0m     \u001b[0mcolab_tpu_addr\u001b[0m \u001b[0;34m=\u001b[0m \u001b[0m_os\u001b[0m\u001b[0;34m.\u001b[0m\u001b[0menviron\u001b[0m\u001b[0;34m.\u001b[0m\u001b[0mget\u001b[0m\u001b[0;34m(\u001b[0m\u001b[0;34m'COLAB_TPU_ADDR'\u001b[0m\u001b[0;34m,\u001b[0m \u001b[0;34m''\u001b[0m\u001b[0;34m)\u001b[0m\u001b[0;34m\u001b[0m\u001b[0;34m\u001b[0m\u001b[0m\n",
            "\u001b[0;32m/usr/local/lib/python3.6/dist-packages/google/colab/auth.py\u001b[0m in \u001b[0;36m_gcloud_login\u001b[0;34m()\u001b[0m\n\u001b[1;32m     89\u001b[0m     \u001b[0;31m# https://github.com/jupyter/notebook/issues/3159\u001b[0m\u001b[0;34m\u001b[0m\u001b[0;34m\u001b[0m\u001b[0;34m\u001b[0m\u001b[0m\n\u001b[1;32m     90\u001b[0m     \u001b[0mprompt\u001b[0m \u001b[0;34m=\u001b[0m \u001b[0mprompt\u001b[0m\u001b[0;34m.\u001b[0m\u001b[0mrstrip\u001b[0m\u001b[0;34m(\u001b[0m\u001b[0;34m)\u001b[0m\u001b[0;34m\u001b[0m\u001b[0;34m\u001b[0m\u001b[0m\n\u001b[0;32m---> 91\u001b[0;31m     \u001b[0mcode\u001b[0m \u001b[0;34m=\u001b[0m \u001b[0m_getpass\u001b[0m\u001b[0;34m.\u001b[0m\u001b[0mgetpass\u001b[0m\u001b[0;34m(\u001b[0m\u001b[0mprompt\u001b[0m \u001b[0;34m+\u001b[0m \u001b[0;34m'\\n\\nEnter verification code: '\u001b[0m\u001b[0;34m)\u001b[0m\u001b[0;34m\u001b[0m\u001b[0;34m\u001b[0m\u001b[0m\n\u001b[0m\u001b[1;32m     92\u001b[0m     \u001b[0mgcloud_process\u001b[0m\u001b[0;34m.\u001b[0m\u001b[0mcommunicate\u001b[0m\u001b[0;34m(\u001b[0m\u001b[0mcode\u001b[0m\u001b[0;34m.\u001b[0m\u001b[0mstrip\u001b[0m\u001b[0;34m(\u001b[0m\u001b[0;34m)\u001b[0m\u001b[0;34m)\u001b[0m\u001b[0;34m\u001b[0m\u001b[0;34m\u001b[0m\u001b[0m\n\u001b[1;32m     93\u001b[0m   \u001b[0;32mfinally\u001b[0m\u001b[0;34m:\u001b[0m\u001b[0;34m\u001b[0m\u001b[0;34m\u001b[0m\u001b[0m\n",
            "\u001b[0;32m/usr/local/lib/python3.6/dist-packages/ipykernel/kernelbase.py\u001b[0m in \u001b[0;36mgetpass\u001b[0;34m(self, prompt, stream)\u001b[0m\n\u001b[1;32m    686\u001b[0m             \u001b[0mself\u001b[0m\u001b[0;34m.\u001b[0m\u001b[0m_parent_ident\u001b[0m\u001b[0;34m,\u001b[0m\u001b[0;34m\u001b[0m\u001b[0;34m\u001b[0m\u001b[0m\n\u001b[1;32m    687\u001b[0m             \u001b[0mself\u001b[0m\u001b[0;34m.\u001b[0m\u001b[0m_parent_header\u001b[0m\u001b[0;34m,\u001b[0m\u001b[0;34m\u001b[0m\u001b[0;34m\u001b[0m\u001b[0m\n\u001b[0;32m--> 688\u001b[0;31m             \u001b[0mpassword\u001b[0m\u001b[0;34m=\u001b[0m\u001b[0;32mTrue\u001b[0m\u001b[0;34m,\u001b[0m\u001b[0;34m\u001b[0m\u001b[0;34m\u001b[0m\u001b[0m\n\u001b[0m\u001b[1;32m    689\u001b[0m         )\n\u001b[1;32m    690\u001b[0m \u001b[0;34m\u001b[0m\u001b[0m\n",
            "\u001b[0;32m/usr/local/lib/python3.6/dist-packages/ipykernel/kernelbase.py\u001b[0m in \u001b[0;36m_input_request\u001b[0;34m(self, prompt, ident, parent, password)\u001b[0m\n\u001b[1;32m    733\u001b[0m             \u001b[0;32mexcept\u001b[0m \u001b[0mKeyboardInterrupt\u001b[0m\u001b[0;34m:\u001b[0m\u001b[0;34m\u001b[0m\u001b[0;34m\u001b[0m\u001b[0m\n\u001b[1;32m    734\u001b[0m                 \u001b[0;31m# re-raise KeyboardInterrupt, to truncate traceback\u001b[0m\u001b[0;34m\u001b[0m\u001b[0;34m\u001b[0m\u001b[0;34m\u001b[0m\u001b[0m\n\u001b[0;32m--> 735\u001b[0;31m                 \u001b[0;32mraise\u001b[0m \u001b[0mKeyboardInterrupt\u001b[0m\u001b[0;34m\u001b[0m\u001b[0;34m\u001b[0m\u001b[0m\n\u001b[0m\u001b[1;32m    736\u001b[0m             \u001b[0;32melse\u001b[0m\u001b[0;34m:\u001b[0m\u001b[0;34m\u001b[0m\u001b[0;34m\u001b[0m\u001b[0m\n\u001b[1;32m    737\u001b[0m                 \u001b[0;32mbreak\u001b[0m\u001b[0;34m\u001b[0m\u001b[0;34m\u001b[0m\u001b[0m\n",
            "\u001b[0;31mKeyboardInterrupt\u001b[0m: "
          ]
        }
      ]
    },
    {
      "cell_type": "code",
      "metadata": {
        "id": "ljVKZ9uQ-K8d",
        "colab_type": "code",
        "colab": {}
      },
      "source": [
        "from google.colab import drive\n",
        "drive.mount('/content/drive')"
      ],
      "execution_count": 0,
      "outputs": []
    },
    {
      "cell_type": "code",
      "metadata": {
        "id": "RISUAlFw-LoB",
        "colab_type": "code",
        "colab": {}
      },
      "source": [
        "import tensorflow as tf"
      ],
      "execution_count": 0,
      "outputs": []
    },
    {
      "cell_type": "code",
      "metadata": {
        "id": "T_gE8J2RAVbq",
        "colab_type": "code",
        "outputId": "f3127340-4f41-4e2c-bab9-affa6e4493ad",
        "colab": {
          "base_uri": "https://localhost:8080/",
          "height": 34
        }
      },
      "source": [
        "print(tf.__version__)"
      ],
      "execution_count": 0,
      "outputs": [
        {
          "output_type": "stream",
          "text": [
            "2.0.0-beta1\n"
          ],
          "name": "stdout"
        }
      ]
    },
    {
      "cell_type": "code",
      "metadata": {
        "id": "5kNZHkb9AXOz",
        "colab_type": "code",
        "outputId": "d080bfd7-0f9b-45d6-c64f-8723f57df19c",
        "colab": {
          "base_uri": "https://localhost:8080/",
          "height": 642
        }
      },
      "source": [
        "pip install tensorflow==2.0.0-beta1"
      ],
      "execution_count": 0,
      "outputs": [
        {
          "output_type": "stream",
          "text": [
            "Collecting tensorflow==2.0.0-beta1\n",
            "\u001b[?25l  Downloading https://files.pythonhosted.org/packages/29/6c/2c9a5c4d095c63c2fb37d20def0e4f92685f7aee9243d6aae25862694fd1/tensorflow-2.0.0b1-cp36-cp36m-manylinux1_x86_64.whl (87.9MB)\n",
            "\u001b[K     |████████████████████████████████| 87.9MB 32.6MB/s \n",
            "\u001b[?25hRequirement already satisfied: keras-preprocessing>=1.0.5 in /usr/local/lib/python3.6/dist-packages (from tensorflow==2.0.0-beta1) (1.1.0)\n",
            "Requirement already satisfied: google-pasta>=0.1.6 in /usr/local/lib/python3.6/dist-packages (from tensorflow==2.0.0-beta1) (0.1.7)\n",
            "Requirement already satisfied: wrapt>=1.11.1 in /usr/local/lib/python3.6/dist-packages (from tensorflow==2.0.0-beta1) (1.11.2)\n",
            "Requirement already satisfied: keras-applications>=1.0.6 in /usr/local/lib/python3.6/dist-packages (from tensorflow==2.0.0-beta1) (1.0.8)\n",
            "Collecting tf-estimator-nightly<1.14.0.dev2019060502,>=1.14.0.dev2019060501 (from tensorflow==2.0.0-beta1)\n",
            "\u001b[?25l  Downloading https://files.pythonhosted.org/packages/32/dd/99c47dd007dcf10d63fd895611b063732646f23059c618a373e85019eb0e/tf_estimator_nightly-1.14.0.dev2019060501-py2.py3-none-any.whl (496kB)\n",
            "\u001b[K     |████████████████████████████████| 501kB 36.9MB/s \n",
            "\u001b[?25hRequirement already satisfied: protobuf>=3.6.1 in /usr/local/lib/python3.6/dist-packages (from tensorflow==2.0.0-beta1) (3.7.1)\n",
            "Requirement already satisfied: termcolor>=1.1.0 in /usr/local/lib/python3.6/dist-packages (from tensorflow==2.0.0-beta1) (1.1.0)\n",
            "Collecting tb-nightly<1.14.0a20190604,>=1.14.0a20190603 (from tensorflow==2.0.0-beta1)\n",
            "\u001b[?25l  Downloading https://files.pythonhosted.org/packages/a4/96/571b875cd81dda9d5dfa1422a4f9d749e67c0a8d4f4f0b33a4e5f5f35e27/tb_nightly-1.14.0a20190603-py3-none-any.whl (3.1MB)\n",
            "\u001b[K     |████████████████████████████████| 3.1MB 31.5MB/s \n",
            "\u001b[?25hRequirement already satisfied: absl-py>=0.7.0 in /usr/local/lib/python3.6/dist-packages (from tensorflow==2.0.0-beta1) (0.7.1)\n",
            "Requirement already satisfied: gast>=0.2.0 in /usr/local/lib/python3.6/dist-packages (from tensorflow==2.0.0-beta1) (0.2.2)\n",
            "Requirement already satisfied: six>=1.10.0 in /usr/local/lib/python3.6/dist-packages (from tensorflow==2.0.0-beta1) (1.12.0)\n",
            "Requirement already satisfied: astor>=0.6.0 in /usr/local/lib/python3.6/dist-packages (from tensorflow==2.0.0-beta1) (0.8.0)\n",
            "Requirement already satisfied: wheel>=0.26 in /usr/local/lib/python3.6/dist-packages (from tensorflow==2.0.0-beta1) (0.33.6)\n",
            "Requirement already satisfied: grpcio>=1.8.6 in /usr/local/lib/python3.6/dist-packages (from tensorflow==2.0.0-beta1) (1.15.0)\n",
            "Requirement already satisfied: numpy<2.0,>=1.14.5 in /usr/local/lib/python3.6/dist-packages (from tensorflow==2.0.0-beta1) (1.16.4)\n",
            "Requirement already satisfied: h5py in /usr/local/lib/python3.6/dist-packages (from keras-applications>=1.0.6->tensorflow==2.0.0-beta1) (2.8.0)\n",
            "Requirement already satisfied: setuptools in /usr/local/lib/python3.6/dist-packages (from protobuf>=3.6.1->tensorflow==2.0.0-beta1) (41.2.0)\n",
            "Requirement already satisfied: werkzeug>=0.11.15 in /usr/local/lib/python3.6/dist-packages (from tb-nightly<1.14.0a20190604,>=1.14.0a20190603->tensorflow==2.0.0-beta1) (0.15.5)\n",
            "Requirement already satisfied: markdown>=2.6.8 in /usr/local/lib/python3.6/dist-packages (from tb-nightly<1.14.0a20190604,>=1.14.0a20190603->tensorflow==2.0.0-beta1) (3.1.1)\n",
            "Installing collected packages: tf-estimator-nightly, tb-nightly, tensorflow\n",
            "  Found existing installation: tensorflow 1.14.0\n",
            "    Uninstalling tensorflow-1.14.0:\n",
            "      Successfully uninstalled tensorflow-1.14.0\n",
            "Successfully installed tb-nightly-1.14.0a20190603 tensorflow-2.0.0b1 tf-estimator-nightly-1.14.0.dev2019060501\n"
          ],
          "name": "stdout"
        },
        {
          "output_type": "display_data",
          "data": {
            "application/vnd.colab-display-data+json": {
              "pip_warning": {
                "packages": [
                  "tensorboard",
                  "tensorflow",
                  "tensorflow_estimator"
                ]
              }
            }
          },
          "metadata": {
            "tags": []
          }
        }
      ]
    },
    {
      "cell_type": "code",
      "metadata": {
        "id": "f56MQHvZAicw",
        "colab_type": "code",
        "outputId": "2e7ccd4f-915e-4be8-cd61-b584c0d456ab",
        "colab": {
          "base_uri": "https://localhost:8080/",
          "height": 34
        }
      },
      "source": [
        "import tensorflow as tf\n",
        "import numpy as np\n",
        "import matplotlib.pyplot as plt\n",
        "print(tf.__version__)\n",
        "import pandas as pd"
      ],
      "execution_count": 0,
      "outputs": [
        {
          "output_type": "stream",
          "text": [
            "2.0.0-beta1\n"
          ],
          "name": "stdout"
        }
      ]
    },
    {
      "cell_type": "code",
      "metadata": {
        "id": "gGgSP-kFA6aC",
        "colab_type": "code",
        "outputId": "3a0b1b03-0552-4d45-aafd-e1e4325e9f5f",
        "colab": {
          "base_uri": "https://localhost:8080/",
          "height": 185
        }
      },
      "source": [
        "dataset = tf.data.Dataset.range(10)\n",
        "for val in dataset:\n",
        "   print(val.numpy())"
      ],
      "execution_count": 0,
      "outputs": [
        {
          "output_type": "stream",
          "text": [
            "0\n",
            "1\n",
            "2\n",
            "3\n",
            "4\n",
            "5\n",
            "6\n",
            "7\n",
            "8\n",
            "9\n"
          ],
          "name": "stdout"
        }
      ]
    },
    {
      "cell_type": "code",
      "metadata": {
        "id": "uAIn52GzBUfg",
        "colab_type": "code",
        "outputId": "a12837e2-9eba-44a0-9e89-a7f5e06a479c",
        "colab": {
          "base_uri": "https://localhost:8080/",
          "height": 185
        }
      },
      "source": [
        "dataset = tf.data.Dataset.range(10)\n",
        "dataset = dataset.window(5, shift=1)\n",
        "for window_dataset in dataset:\n",
        "  for val in window_dataset:\n",
        "    print(val.numpy(), end=\" \")\n",
        "  print()"
      ],
      "execution_count": 0,
      "outputs": [
        {
          "output_type": "stream",
          "text": [
            "0 1 2 3 4 \n",
            "1 2 3 4 5 \n",
            "2 3 4 5 6 \n",
            "3 4 5 6 7 \n",
            "4 5 6 7 8 \n",
            "5 6 7 8 9 \n",
            "6 7 8 9 \n",
            "7 8 9 \n",
            "8 9 \n",
            "9 \n"
          ],
          "name": "stdout"
        }
      ]
    },
    {
      "cell_type": "code",
      "metadata": {
        "id": "Uy_f49X9BYL5",
        "colab_type": "code",
        "outputId": "227c779d-1a91-42a7-b44a-3c335e6a21af",
        "colab": {
          "base_uri": "https://localhost:8080/",
          "height": 118
        }
      },
      "source": [
        "dataset = tf.data.Dataset.range(10)\n",
        "dataset = dataset.window(5, shift=1, drop_remainder=True)\n",
        "for window_dataset in dataset:\n",
        "  for val in window_dataset:\n",
        "    print(val.numpy(), end=\" \")\n",
        "  print()"
      ],
      "execution_count": 0,
      "outputs": [
        {
          "output_type": "stream",
          "text": [
            "0 1 2 3 4 \n",
            "1 2 3 4 5 \n",
            "2 3 4 5 6 \n",
            "3 4 5 6 7 \n",
            "4 5 6 7 8 \n",
            "5 6 7 8 9 \n"
          ],
          "name": "stdout"
        }
      ]
    },
    {
      "cell_type": "code",
      "metadata": {
        "id": "HzH2AenKBa5b",
        "colab_type": "code",
        "outputId": "671c7849-7942-49df-a699-207081898c1f",
        "colab": {
          "base_uri": "https://localhost:8080/",
          "height": 118
        }
      },
      "source": [
        "dataset = tf.data.Dataset.range(10)\n",
        "dataset = dataset.window(5, shift=1, drop_remainder=True)\n",
        "dataset = dataset.flat_map(lambda window: window.batch(5))\n",
        "for window in dataset:\n",
        "  print(window.numpy())"
      ],
      "execution_count": 0,
      "outputs": [
        {
          "output_type": "stream",
          "text": [
            "[0 1 2 3 4]\n",
            "[1 2 3 4 5]\n",
            "[2 3 4 5 6]\n",
            "[3 4 5 6 7]\n",
            "[4 5 6 7 8]\n",
            "[5 6 7 8 9]\n"
          ],
          "name": "stdout"
        }
      ]
    },
    {
      "cell_type": "code",
      "metadata": {
        "id": "CsmTWleXBfQY",
        "colab_type": "code",
        "outputId": "767d1999-84c7-433e-c679-277000b30c4b",
        "colab": {
          "base_uri": "https://localhost:8080/",
          "height": 118
        }
      },
      "source": [
        "dataset = tf.data.Dataset.range(10)\n",
        "dataset = dataset.window(5, shift=1, drop_remainder=True)\n",
        "dataset = dataset.flat_map(lambda window: window.batch(5))\n",
        "dataset = dataset.map(lambda window: (window[:-1], window[-1:]))\n",
        "for x,y in dataset:\n",
        "  print(x.numpy(), y.numpy())"
      ],
      "execution_count": 0,
      "outputs": [
        {
          "output_type": "stream",
          "text": [
            "[0 1 2 3] [4]\n",
            "[1 2 3 4] [5]\n",
            "[2 3 4 5] [6]\n",
            "[3 4 5 6] [7]\n",
            "[4 5 6 7] [8]\n",
            "[5 6 7 8] [9]\n"
          ],
          "name": "stdout"
        }
      ]
    },
    {
      "cell_type": "code",
      "metadata": {
        "id": "_VhPGS9BBhl7",
        "colab_type": "code",
        "outputId": "dd29dd66-5b0c-482c-98a1-6881b907f136",
        "colab": {
          "base_uri": "https://localhost:8080/",
          "height": 118
        }
      },
      "source": [
        "dataset = tf.data.Dataset.range(10)\n",
        "dataset = dataset.window(5, shift=1, drop_remainder=True)\n",
        "dataset = dataset.flat_map(lambda window: window.batch(5))\n",
        "dataset = dataset.map(lambda window: (window[:-1], window[-1:]))\n",
        "dataset = dataset.shuffle(buffer_size=10)\n",
        "for x,y in dataset:\n",
        "  print(x.numpy(), y.numpy())"
      ],
      "execution_count": 0,
      "outputs": [
        {
          "output_type": "stream",
          "text": [
            "[5 6 7 8] [9]\n",
            "[0 1 2 3] [4]\n",
            "[2 3 4 5] [6]\n",
            "[1 2 3 4] [5]\n",
            "[4 5 6 7] [8]\n",
            "[3 4 5 6] [7]\n"
          ],
          "name": "stdout"
        }
      ]
    },
    {
      "cell_type": "code",
      "metadata": {
        "id": "OTUXLwD3BjuW",
        "colab_type": "code",
        "outputId": "6e9d95aa-addd-46d5-d20f-aa2dd82962ff",
        "colab": {
          "base_uri": "https://localhost:8080/",
          "height": 218
        }
      },
      "source": [
        "dataset = tf.data.Dataset.range(10)\n",
        "dataset = dataset.window(5, shift=1, drop_remainder=True)\n",
        "dataset = dataset.flat_map(lambda window: window.batch(5))\n",
        "dataset = dataset.map(lambda window: (window[:-1], window[-1:]))\n",
        "dataset = dataset.shuffle(buffer_size=10)\n",
        "dataset = dataset.batch(2).prefetch(1)\n",
        "for x,y in dataset:\n",
        "  print(\"x = \", x.numpy())\n",
        "  print(\"y = \", y.numpy())"
      ],
      "execution_count": 0,
      "outputs": [
        {
          "output_type": "stream",
          "text": [
            "x =  [[2 3 4 5]\n",
            " [5 6 7 8]]\n",
            "y =  [[6]\n",
            " [9]]\n",
            "x =  [[1 2 3 4]\n",
            " [0 1 2 3]]\n",
            "y =  [[5]\n",
            " [4]]\n",
            "x =  [[3 4 5 6]\n",
            " [4 5 6 7]]\n",
            "y =  [[7]\n",
            " [8]]\n"
          ],
          "name": "stdout"
        }
      ]
    },
    {
      "cell_type": "code",
      "metadata": {
        "id": "pDKo6x9mBmY9",
        "colab_type": "code",
        "colab": {}
      },
      "source": [
        "def plot_series(time, series, format=\"-\", start=0, end=None):\n",
        "    plt.plot(time[start:end], series[start:end], format)\n",
        "    plt.xlabel(\"Time\")\n",
        "    plt.ylabel(\"Value\")\n",
        "    plt.grid(True)"
      ],
      "execution_count": 0,
      "outputs": []
    },
    {
      "cell_type": "code",
      "metadata": {
        "id": "j1npNdlmFp15",
        "colab_type": "code",
        "colab": {}
      },
      "source": [
        "def trend(time, slope=0):\n",
        "    return slope * time"
      ],
      "execution_count": 0,
      "outputs": []
    },
    {
      "cell_type": "code",
      "metadata": {
        "id": "--atMHZAFt6M",
        "colab_type": "code",
        "colab": {}
      },
      "source": [
        "def seasonal_pattern(season_time):\n",
        "    \"\"\"Just an arbitrary pattern, you can change it if you wish\"\"\"\n",
        "    return np.where(season_time < 0.4,\n",
        "                    np.cos(season_time * 2 * np.pi),\n",
        "                    1 / np.exp(3 * season_time))"
      ],
      "execution_count": 0,
      "outputs": []
    },
    {
      "cell_type": "code",
      "metadata": {
        "id": "M6B6C5YsFuVl",
        "colab_type": "code",
        "colab": {}
      },
      "source": [
        "def seasonality(time, period, amplitude=1, phase=0):\n",
        "    \"\"\"Repeats the same pattern at each period\"\"\"\n",
        "    season_time = ((time + phase) % period) / period\n",
        "    return amplitude * seasonal_pattern(season_time)"
      ],
      "execution_count": 0,
      "outputs": []
    },
    {
      "cell_type": "code",
      "metadata": {
        "id": "BZBZOGISFxXA",
        "colab_type": "code",
        "colab": {}
      },
      "source": [
        "def noise(time, noise_level=1, seed=None):\n",
        "    rnd = np.random.RandomState(seed)\n",
        "    return rnd.randn(len(time)) * noise_level"
      ],
      "execution_count": 0,
      "outputs": []
    },
    {
      "cell_type": "code",
      "metadata": {
        "id": "QCZ2w_kQFzVX",
        "colab_type": "code",
        "colab": {}
      },
      "source": [
        "time = np.arange(4 * 365 + 1, dtype=\"float32\")\n",
        "baseline = 10\n",
        "series = trend(time, 0.1)  \n",
        "baseline = 10\n",
        "amplitude = 40\n",
        "slope = 0.05\n",
        "noise_level = 5"
      ],
      "execution_count": 0,
      "outputs": []
    },
    {
      "cell_type": "code",
      "metadata": {
        "id": "BgmPev6TF2Zl",
        "colab_type": "code",
        "colab": {}
      },
      "source": [
        "# Create the series\n",
        "series = baseline + trend(time, slope) + seasonality(time, period=365, amplitude=amplitude)\n",
        "# Update with noise\n",
        "series += noise(time, noise_level, seed=42)"
      ],
      "execution_count": 0,
      "outputs": []
    },
    {
      "cell_type": "code",
      "metadata": {
        "id": "tpjjUoMEF5-n",
        "colab_type": "code",
        "colab": {}
      },
      "source": [
        "split_time = 1000\n",
        "time_train = time[:split_time]\n",
        "x_train = series[:split_time]\n",
        "time_valid = time[split_time:]\n",
        "x_valid = series[split_time:]"
      ],
      "execution_count": 0,
      "outputs": []
    },
    {
      "cell_type": "code",
      "metadata": {
        "id": "ZKwCGDhQF7ov",
        "colab_type": "code",
        "colab": {}
      },
      "source": [
        "window_size = 20\n",
        "batch_size = 32\n",
        "shuffle_buffer_size = 1000"
      ],
      "execution_count": 0,
      "outputs": []
    },
    {
      "cell_type": "code",
      "metadata": {
        "id": "91TLcd2IF9aW",
        "colab_type": "code",
        "colab": {}
      },
      "source": [
        "def windowed_dataset(series, window_size, batch_size, shuffle_buffer):\n",
        "  dataset = tf.data.Dataset.from_tensor_slices(series)\n",
        "  dataset = dataset.window(window_size + 1, shift=1, drop_remainder=True)\n",
        "  dataset = dataset.flat_map(lambda window: window.batch(window_size + 1))\n",
        "  dataset = dataset.shuffle(shuffle_buffer).map(lambda window: (window[:-1], window[-1]))\n",
        "  dataset = dataset.batch(batch_size).prefetch(1)\n",
        "  return dataset"
      ],
      "execution_count": 0,
      "outputs": []
    },
    {
      "cell_type": "code",
      "metadata": {
        "id": "cugTAt1ZGAae",
        "colab_type": "code",
        "outputId": "8bb62310-0852-4d11-ac22-cb9f15cf00fc",
        "colab": {
          "base_uri": "https://localhost:8080/",
          "height": 34
        }
      },
      "source": [
        "dataset = windowed_dataset(x_train, window_size, batch_size, shuffle_buffer_size)\n",
        "print(dataset)\n",
        "l0 = tf.keras.layers.Dense(1, input_shape=[window_size])\n",
        "model = tf.keras.models.Sequential([l0])"
      ],
      "execution_count": 0,
      "outputs": [
        {
          "output_type": "stream",
          "text": [
            "<PrefetchDataset shapes: ((None, None), (None,)), types: (tf.float32, tf.float32)>\n"
          ],
          "name": "stdout"
        }
      ]
    },
    {
      "cell_type": "code",
      "metadata": {
        "id": "G5aFw-DpGv3z",
        "colab_type": "code",
        "colab": {}
      },
      "source": [
        "model = tf.keras.models.Sequential([\n",
        "    tf.keras.layers.Dense(10, input_shape=[window_size], activation=\"relu\"), \n",
        "    tf.keras.layers.Dense(10, activation=\"relu\"), \n",
        "    tf.keras.layers.Dense(1)\n",
        "])"
      ],
      "execution_count": 0,
      "outputs": []
    },
    {
      "cell_type": "code",
      "metadata": {
        "id": "o_Vd_O77HdsN",
        "colab_type": "code",
        "colab": {}
      },
      "source": [
        "model = tf.keras.models.Sequential([\n",
        "  tf.keras.layers.Lambda(lambda x: tf.expand_dims(x, axis=-1),\n",
        "                      input_shape=[None]),\n",
        "  tf.keras.layers.SimpleRNN(40, return_sequences=True),\n",
        "  tf.keras.layers.SimpleRNN(40),\n",
        "  tf.keras.layers.Dense(1),\n",
        "  tf.keras.layers.Lambda(lambda x: x * 100.0)\n",
        "])"
      ],
      "execution_count": 0,
      "outputs": []
    },
    {
      "cell_type": "code",
      "metadata": {
        "id": "BUHmCZrfGCyo",
        "colab_type": "code",
        "outputId": "65ebdda2-59b2-4aae-a090-3ebb791bdcb8",
        "colab": {
          "base_uri": "https://localhost:8080/",
          "height": 1000
        }
      },
      "source": [
        "model.compile(loss=\"mse\", optimizer=tf.keras.optimizers.SGD(lr=1e-6, momentum=0.9))\n",
        "model.fit(dataset,epochs=100,verbose=1)"
      ],
      "execution_count": 0,
      "outputs": [
        {
          "output_type": "stream",
          "text": [
            "Epoch 1/100\n",
            "31/31 [==============================] - 1s 46ms/step - loss: 207.3965\n",
            "Epoch 2/100\n",
            "31/31 [==============================] - 0s 10ms/step - loss: 141.7176\n",
            "Epoch 3/100\n",
            "31/31 [==============================] - 0s 10ms/step - loss: 104.6541\n",
            "Epoch 4/100\n",
            "31/31 [==============================] - 0s 10ms/step - loss: 89.5208\n",
            "Epoch 5/100\n",
            "31/31 [==============================] - 0s 9ms/step - loss: 85.8779\n",
            "Epoch 6/100\n",
            "31/31 [==============================] - 0s 9ms/step - loss: 93.4858\n",
            "Epoch 7/100\n",
            "31/31 [==============================] - 0s 10ms/step - loss: 86.9460\n",
            "Epoch 8/100\n",
            "31/31 [==============================] - 0s 10ms/step - loss: 71.8860\n",
            "Epoch 9/100\n",
            "31/31 [==============================] - 0s 10ms/step - loss: 78.0796\n",
            "Epoch 10/100\n",
            "31/31 [==============================] - 0s 10ms/step - loss: 79.6231\n",
            "Epoch 11/100\n",
            "31/31 [==============================] - 0s 10ms/step - loss: 67.0417\n",
            "Epoch 12/100\n",
            "31/31 [==============================] - 0s 10ms/step - loss: 74.3584\n",
            "Epoch 13/100\n",
            "31/31 [==============================] - 0s 10ms/step - loss: 64.9316\n",
            "Epoch 14/100\n",
            "31/31 [==============================] - 0s 9ms/step - loss: 59.4392\n",
            "Epoch 15/100\n",
            "31/31 [==============================] - 0s 10ms/step - loss: 56.1405\n",
            "Epoch 16/100\n",
            "31/31 [==============================] - 0s 10ms/step - loss: 55.0100\n",
            "Epoch 17/100\n",
            "31/31 [==============================] - 0s 10ms/step - loss: 54.7025\n",
            "Epoch 18/100\n",
            "31/31 [==============================] - 0s 10ms/step - loss: 53.5746\n",
            "Epoch 19/100\n",
            "31/31 [==============================] - 0s 10ms/step - loss: 53.4743\n",
            "Epoch 20/100\n",
            "31/31 [==============================] - 0s 10ms/step - loss: 52.7808\n",
            "Epoch 21/100\n",
            "31/31 [==============================] - 0s 9ms/step - loss: 52.4435\n",
            "Epoch 22/100\n",
            "31/31 [==============================] - 0s 9ms/step - loss: 52.0727\n",
            "Epoch 23/100\n",
            "31/31 [==============================] - 0s 10ms/step - loss: 51.7112\n",
            "Epoch 24/100\n",
            "31/31 [==============================] - 0s 10ms/step - loss: 51.4375\n",
            "Epoch 25/100\n",
            "31/31 [==============================] - 0s 9ms/step - loss: 51.1602\n",
            "Epoch 26/100\n",
            "31/31 [==============================] - 0s 10ms/step - loss: 50.9438\n",
            "Epoch 27/100\n",
            "31/31 [==============================] - 0s 9ms/step - loss: 50.7684\n",
            "Epoch 28/100\n",
            "31/31 [==============================] - 0s 9ms/step - loss: 50.6447\n",
            "Epoch 29/100\n",
            "31/31 [==============================] - 0s 10ms/step - loss: 50.6052\n",
            "Epoch 30/100\n",
            "31/31 [==============================] - 0s 10ms/step - loss: 50.6542\n",
            "Epoch 31/100\n",
            "31/31 [==============================] - 0s 9ms/step - loss: 50.8410\n",
            "Epoch 32/100\n",
            "31/31 [==============================] - 0s 9ms/step - loss: 51.1640\n",
            "Epoch 33/100\n",
            "31/31 [==============================] - 0s 10ms/step - loss: 51.5899\n",
            "Epoch 34/100\n",
            "31/31 [==============================] - 0s 9ms/step - loss: 51.9708\n",
            "Epoch 35/100\n",
            "31/31 [==============================] - 0s 10ms/step - loss: 52.1059\n",
            "Epoch 36/100\n",
            "31/31 [==============================] - 0s 10ms/step - loss: 51.9305\n",
            "Epoch 37/100\n",
            "31/31 [==============================] - 0s 10ms/step - loss: 51.5715\n",
            "Epoch 38/100\n",
            "31/31 [==============================] - 0s 10ms/step - loss: 51.1931\n",
            "Epoch 39/100\n",
            "31/31 [==============================] - 0s 10ms/step - loss: 50.8755\n",
            "Epoch 40/100\n",
            "31/31 [==============================] - 0s 10ms/step - loss: 50.6207\n",
            "Epoch 41/100\n",
            "31/31 [==============================] - 0s 9ms/step - loss: 50.3998\n",
            "Epoch 42/100\n",
            "31/31 [==============================] - 0s 10ms/step - loss: 50.1883\n",
            "Epoch 43/100\n",
            "31/31 [==============================] - 0s 10ms/step - loss: 49.9769\n",
            "Epoch 44/100\n",
            "31/31 [==============================] - 0s 10ms/step - loss: 49.7675\n",
            "Epoch 45/100\n",
            "31/31 [==============================] - 0s 10ms/step - loss: 49.5635\n",
            "Epoch 46/100\n",
            "31/31 [==============================] - 0s 10ms/step - loss: 49.3665\n",
            "Epoch 47/100\n",
            "31/31 [==============================] - 0s 10ms/step - loss: 49.1763\n",
            "Epoch 48/100\n",
            "31/31 [==============================] - 0s 9ms/step - loss: 48.9923\n",
            "Epoch 49/100\n",
            "31/31 [==============================] - 0s 10ms/step - loss: 48.8147\n",
            "Epoch 50/100\n",
            "31/31 [==============================] - 0s 10ms/step - loss: 48.6444\n",
            "Epoch 51/100\n",
            "31/31 [==============================] - 0s 10ms/step - loss: 48.4820\n",
            "Epoch 52/100\n",
            "31/31 [==============================] - 0s 9ms/step - loss: 48.3286\n",
            "Epoch 53/100\n",
            "31/31 [==============================] - 0s 10ms/step - loss: 48.1850\n",
            "Epoch 54/100\n",
            "31/31 [==============================] - 0s 10ms/step - loss: 48.0522\n",
            "Epoch 55/100\n",
            "31/31 [==============================] - 0s 10ms/step - loss: 47.9313\n",
            "Epoch 56/100\n",
            "31/31 [==============================] - 0s 10ms/step - loss: 47.8235\n",
            "Epoch 57/100\n",
            "31/31 [==============================] - 0s 10ms/step - loss: 47.7297\n",
            "Epoch 58/100\n",
            "31/31 [==============================] - 0s 10ms/step - loss: 47.6512\n",
            "Epoch 59/100\n",
            "31/31 [==============================] - 0s 10ms/step - loss: 47.5893\n",
            "Epoch 60/100\n",
            "31/31 [==============================] - 0s 9ms/step - loss: 47.5450\n",
            "Epoch 61/100\n",
            "31/31 [==============================] - 0s 9ms/step - loss: 47.5199\n",
            "Epoch 62/100\n",
            "31/31 [==============================] - 0s 9ms/step - loss: 47.5156\n",
            "Epoch 63/100\n",
            "31/31 [==============================] - 0s 10ms/step - loss: 47.5337\n",
            "Epoch 64/100\n",
            "31/31 [==============================] - 0s 10ms/step - loss: 47.5765\n",
            "Epoch 65/100\n",
            "31/31 [==============================] - 0s 10ms/step - loss: 47.6463\n",
            "Epoch 66/100\n",
            "31/31 [==============================] - 0s 10ms/step - loss: 47.7461\n",
            "Epoch 67/100\n",
            "31/31 [==============================] - 0s 10ms/step - loss: 47.8796\n",
            "Epoch 68/100\n",
            "31/31 [==============================] - 0s 9ms/step - loss: 48.0511\n",
            "Epoch 69/100\n",
            "31/31 [==============================] - 0s 10ms/step - loss: 48.2655\n",
            "Epoch 70/100\n",
            "31/31 [==============================] - 0s 10ms/step - loss: 48.5288\n",
            "Epoch 71/100\n",
            "31/31 [==============================] - 0s 10ms/step - loss: 48.8477\n",
            "Epoch 72/100\n",
            "31/31 [==============================] - 0s 10ms/step - loss: 49.2297\n",
            "Epoch 73/100\n",
            "31/31 [==============================] - 0s 10ms/step - loss: 49.6832\n",
            "Epoch 74/100\n",
            "31/31 [==============================] - 0s 10ms/step - loss: 50.2176\n",
            "Epoch 75/100\n",
            "31/31 [==============================] - 0s 10ms/step - loss: 50.8462\n",
            "Epoch 76/100\n",
            "31/31 [==============================] - 0s 11ms/step - loss: 51.5911\n",
            "Epoch 77/100\n",
            "31/31 [==============================] - 0s 10ms/step - loss: 52.4915\n",
            "Epoch 78/100\n",
            "31/31 [==============================] - 0s 10ms/step - loss: 53.6061\n",
            "Epoch 79/100\n",
            "31/31 [==============================] - 0s 10ms/step - loss: 54.9933\n",
            "Epoch 80/100\n",
            "31/31 [==============================] - 0s 10ms/step - loss: 56.6571\n",
            "Epoch 81/100\n",
            "31/31 [==============================] - 0s 10ms/step - loss: 58.4721\n",
            "Epoch 82/100\n",
            "31/31 [==============================] - 0s 10ms/step - loss: 60.1598\n",
            "Epoch 83/100\n",
            "31/31 [==============================] - 0s 10ms/step - loss: 61.4223\n",
            "Epoch 84/100\n",
            "31/31 [==============================] - 0s 9ms/step - loss: 62.1938\n",
            "Epoch 85/100\n",
            "31/31 [==============================] - 0s 9ms/step - loss: 62.6836\n",
            "Epoch 86/100\n",
            "31/31 [==============================] - 0s 10ms/step - loss: 62.9131\n",
            "Epoch 87/100\n",
            "31/31 [==============================] - 0s 10ms/step - loss: 62.7907\n",
            "Epoch 88/100\n",
            "31/31 [==============================] - 0s 9ms/step - loss: 62.0886\n",
            "Epoch 89/100\n",
            "31/31 [==============================] - 0s 10ms/step - loss: 61.3424\n",
            "Epoch 90/100\n",
            "31/31 [==============================] - 0s 9ms/step - loss: 60.8135\n",
            "Epoch 91/100\n",
            "31/31 [==============================] - 0s 9ms/step - loss: 59.8672\n",
            "Epoch 92/100\n",
            "31/31 [==============================] - 0s 10ms/step - loss: 58.2659\n",
            "Epoch 93/100\n",
            "31/31 [==============================] - 0s 10ms/step - loss: 56.4835\n",
            "Epoch 94/100\n",
            "31/31 [==============================] - 0s 10ms/step - loss: 54.9265\n",
            "Epoch 95/100\n",
            "31/31 [==============================] - 0s 10ms/step - loss: 53.7076\n",
            "Epoch 96/100\n",
            "31/31 [==============================] - 0s 10ms/step - loss: 52.7559\n",
            "Epoch 97/100\n",
            "31/31 [==============================] - 0s 9ms/step - loss: 51.9802\n",
            "Epoch 98/100\n",
            "31/31 [==============================] - 0s 10ms/step - loss: 51.3193\n",
            "Epoch 99/100\n",
            "31/31 [==============================] - 0s 10ms/step - loss: 50.7375\n",
            "Epoch 100/100\n",
            "31/31 [==============================] - 0s 9ms/step - loss: 50.2151\n"
          ],
          "name": "stdout"
        },
        {
          "output_type": "execute_result",
          "data": {
            "text/plain": [
              "<tensorflow.python.keras.callbacks.History at 0x7f7043e9f6a0>"
            ]
          },
          "metadata": {
            "tags": []
          },
          "execution_count": 22
        }
      ]
    },
    {
      "cell_type": "code",
      "metadata": {
        "id": "FbOWrUtsGFA7",
        "colab_type": "code",
        "outputId": "fad55f4f-877d-43dd-f040-c0d27859b953",
        "colab": {
          "base_uri": "https://localhost:8080/",
          "height": 353
        }
      },
      "source": [
        "\n",
        "print(\"Layer weights {}\".format(l0.get_weights()))\n",
        "\n",
        "forecast = []"
      ],
      "execution_count": 0,
      "outputs": [
        {
          "output_type": "stream",
          "text": [
            "Layer weights [array([[ 0.20245337],\n",
            "       [ 0.04736644],\n",
            "       [-0.43593317],\n",
            "       [-0.3850847 ],\n",
            "       [-0.17733264],\n",
            "       [-0.44088268],\n",
            "       [-0.5264359 ],\n",
            "       [ 0.17112899],\n",
            "       [-0.44186753],\n",
            "       [ 0.14606482],\n",
            "       [ 0.13092482],\n",
            "       [-0.08147794],\n",
            "       [ 0.14267808],\n",
            "       [ 0.28064883],\n",
            "       [-0.04588377],\n",
            "       [ 0.04725188],\n",
            "       [ 0.05331135],\n",
            "       [ 0.21254396],\n",
            "       [-0.25854638],\n",
            "       [ 0.4237861 ]], dtype=float32), array([0.], dtype=float32)]\n"
          ],
          "name": "stdout"
        }
      ]
    },
    {
      "cell_type": "code",
      "metadata": {
        "id": "f0OY_tV9GIBt",
        "colab_type": "code",
        "outputId": "595c3dbe-3dae-48f4-ff45-2d5e1bffb467",
        "colab": {
          "base_uri": "https://localhost:8080/",
          "height": 409
        }
      },
      "source": [
        "for time in range(len(series) - window_size):\n",
        "  forecast.append(model.predict(series[time:time + window_size][np.newaxis]))\n",
        "\n",
        "forecast = forecast[split_time-window_size:]\n",
        "results = np.array(forecast)[:, 0, 0]\n",
        "\n",
        "\n",
        "plt.figure(figsize=(10, 6))\n",
        "\n",
        "plot_series(time_valid, x_valid)\n",
        "plot_series(time_valid, results)\n",
        "\n",
        "tf.keras.metrics.mean_absolute_error(x_valid, results).numpy()"
      ],
      "execution_count": 0,
      "outputs": [
        {
          "output_type": "execute_result",
          "data": {
            "text/plain": [
              "6.384454"
            ]
          },
          "metadata": {
            "tags": []
          },
          "execution_count": 24
        },
        {
          "output_type": "display_data",
          "data": {
            "image/png": "[encoded data removed]",
            "text/plain": [
              "<Figure size 720x432 with 1 Axes>"
            ]
          },
          "metadata": {
            "tags": []
          }
        }
      ]
    },
    {
      "cell_type": "code",
      "metadata": {
        "id": "07LJO4T3GToM",
        "colab_type": "code",
        "colab": {}
      },
      "source": [
        "def plot_series(time, series, format=\"-\", start=0, end=None):\n",
        "    plt.plot(time[start:end], series[start:end], format)\n",
        "    plt.xlabel(\"Time\")\n",
        "    plt.ylabel(\"Value\")\n",
        "    plt.grid(True)"
      ],
      "execution_count": 0,
      "outputs": []
    },
    {
      "cell_type": "code",
      "metadata": {
        "id": "rzVzWaiUMi_z",
        "colab_type": "code",
        "colab": {}
      },
      "source": [
        "def trend(time, slope=0):\n",
        "    return slope * time"
      ],
      "execution_count": 0,
      "outputs": []
    },
    {
      "cell_type": "code",
      "metadata": {
        "id": "wiO5E9nHMjpk",
        "colab_type": "code",
        "colab": {}
      },
      "source": [
        "def seasonal_pattern(season_time):\n",
        "    \"\"\"Just an arbitrary pattern, you can change it if you wish\"\"\"\n",
        "    return np.where(season_time < 0.4,\n",
        "                    np.cos(season_time * 2 * np.pi),\n",
        "                    1 / np.exp(3 * season_time))"
      ],
      "execution_count": 0,
      "outputs": []
    },
    {
      "cell_type": "code",
      "metadata": {
        "id": "ee7hVjTUMk8S",
        "colab_type": "code",
        "colab": {}
      },
      "source": [
        "def seasonality(time, period, amplitude=1, phase=0):\n",
        "    \"\"\"Repeats the same pattern at each period\"\"\"\n",
        "    season_time = ((time + phase) % period) / period\n",
        "    return amplitude * seasonal_pattern(season_time)"
      ],
      "execution_count": 0,
      "outputs": []
    },
    {
      "cell_type": "code",
      "metadata": {
        "id": "lhvXJDuiMmcn",
        "colab_type": "code",
        "colab": {}
      },
      "source": [
        "def noise(time, noise_level=1, seed=None):\n",
        "    rnd = np.random.RandomState(seed)\n",
        "    return rnd.randn(len(time)) * noise_level"
      ],
      "execution_count": 0,
      "outputs": []
    },
    {
      "cell_type": "code",
      "metadata": {
        "id": "vUepwbysMnwn",
        "colab_type": "code",
        "colab": {}
      },
      "source": [
        "time = np.arange(4 * 365 + 1, dtype=\"float32\")\n",
        "baseline = 10\n",
        "series = trend(time, 0.1)  \n",
        "baseline = 10\n",
        "amplitude = 40\n",
        "slope = 0.05\n",
        "noise_level = 5"
      ],
      "execution_count": 0,
      "outputs": []
    },
    {
      "cell_type": "code",
      "metadata": {
        "id": "UbcU_9H-Mo-W",
        "colab_type": "code",
        "colab": {}
      },
      "source": [
        "# Create the series\n",
        "series = baseline + trend(time, slope) + seasonality(time, period=365, amplitude=amplitude)\n",
        "# Update with noise\n",
        "series += noise(time, noise_level, seed=42)\n",
        "\n",
        "split_time = 1000\n",
        "time_train = time[:split_time]\n",
        "x_train = series[:split_time]\n",
        "time_valid = time[split_time:]\n",
        "x_valid = series[split_time:]\n",
        "\n",
        "window_size = 20\n",
        "batch_size = 32\n",
        "shuffle_buffer_size = 1000"
      ],
      "execution_count": 0,
      "outputs": []
    },
    {
      "cell_type": "code",
      "metadata": {
        "id": "LzibXGC4Mqqn",
        "colab_type": "code",
        "colab": {}
      },
      "source": [
        "def model_forecast(model, series, window_size):\n",
        "    ds = tf.data.Dataset.from_tensor_slices(series)\n",
        "    ds = ds.window(window_size, shift=1, drop_remainder=True)\n",
        "    ds = ds.flat_map(lambda w: w.batch(window_size))\n",
        "    ds = ds.batch(32).prefetch(1)\n",
        "    forecast = model.predict(ds)\n",
        "    return forecast\n"
      ],
      "execution_count": 0,
      "outputs": []
    },
    {
      "cell_type": "code",
      "metadata": {
        "id": "JlHIWvAJMywe",
        "colab_type": "code",
        "outputId": "b62ff64c-d2aa-4273-b16a-d8fc3b77cae6",
        "colab": {
          "base_uri": "https://localhost:8080/",
          "height": 104
        }
      },
      "source": [
        "tf.keras.backend.clear_session()\n",
        "tf.random.set_seed(51)\n",
        "np.random.seed(51)\n",
        "\n",
        "window_size = 30\n",
        "train_set = windowed_dataset(x_train, window_size, batch_size=128, shuffle_buffer=shuffle_buffer_size)\n"
      ],
      "execution_count": 0,
      "outputs": [
        {
          "output_type": "stream",
          "text": [
            "WARNING: Logging before flag parsing goes to stderr.\n",
            "W0903 03:41:48.011053 140121217296256 deprecation.py:323] From /usr/local/lib/python3.6/dist-packages/tensorflow/python/data/util/random_seed.py:58: add_dispatch_support.<locals>.wrapper (from tensorflow.python.ops.array_ops) is deprecated and will be removed in a future version.\n",
            "Instructions for updating:\n",
            "Use tf.where in 2.0, which has the same broadcast rule as np.where\n"
          ],
          "name": "stderr"
        }
      ]
    },
    {
      "cell_type": "code",
      "metadata": {
        "id": "neO-zFu2M3_w",
        "colab_type": "code",
        "colab": {}
      },
      "source": [
        "model = tf.keras.models.Sequential([\n",
        "  tf.keras.layers.Conv1D(filters=32, kernel_size=5,\n",
        "                      strides=1, padding=\"causal\",\n",
        "                      activation=\"relu\",\n",
        "                      input_shape=[None, 1]),\n",
        "  tf.keras.layers.Bidirectional(tf.keras.layers.LSTM(32, return_sequences=True)),\n",
        "  tf.keras.layers.Bidirectional(tf.keras.layers.LSTM(32, return_sequences=True)),\n",
        "  tf.keras.layers.Dense(1),\n",
        "  tf.keras.layers.Lambda(lambda x: x * 200)\n",
        "])"
      ],
      "execution_count": 0,
      "outputs": []
    },
    {
      "cell_type": "code",
      "metadata": {
        "id": "ivg8AZH7M-tg",
        "colab_type": "code",
        "outputId": "30389b00-af79-40c1-c95e-457cf54b6094",
        "colab": {
          "base_uri": "https://localhost:8080/",
          "height": 407
        }
      },
      "source": [
        "lr_schedule = tf.keras.callbacks.LearningRateScheduler(\n",
        "    lambda epoch: 1e-8 * 10**(epoch / 20))\n",
        "optimizer = tf.keras.optimizers.SGD(lr=1e-8, momentum=0.9)\n",
        "model.compile(loss=tf.keras.losses.Huber(),\n",
        "              optimizer=optimizer,\n",
        "              metrics=[\"mae\"])\n",
        "history = model.fit(train_set, epochs=100, callbacks=[lr_schedule])\n",
        "\n",
        "plt.semilogx(history.history[\"lr\"], history.history[\"loss\"])\n",
        "plt.axis([1e-8, 1e-4, 0, 30])\n",
        "\n",
        "tf.keras.backend.clear_session()\n",
        "tf.random.set_seed(51)\n",
        "np.random.seed(51)\n",
        "#batch_size = 16\n",
        "dataset = windowed_dataset(x_train, window_size, batch_size, shuffle_buffer_size)\n"
      ],
      "execution_count": 0,
      "outputs": [
        {
          "output_type": "stream",
          "text": [
            "Epoch 1/100\n"
          ],
          "name": "stdout"
        },
        {
          "output_type": "error",
          "ename": "ValueError",
          "evalue": "ignored",
          "traceback": [
            "\u001b[0;31m---------------------------------------------------------------------------\u001b[0m",
            "\u001b[0;31mValueError\u001b[0m                                Traceback (most recent call last)",
            "\u001b[0;32m<ipython-input-35-454c94ba5358>\u001b[0m in \u001b[0;36m<module>\u001b[0;34m()\u001b[0m\n\u001b[1;32m      5\u001b[0m               \u001b[0moptimizer\u001b[0m\u001b[0;34m=\u001b[0m\u001b[0moptimizer\u001b[0m\u001b[0;34m,\u001b[0m\u001b[0;34m\u001b[0m\u001b[0;34m\u001b[0m\u001b[0m\n\u001b[1;32m      6\u001b[0m               metrics=[\"mae\"])\n\u001b[0;32m----> 7\u001b[0;31m \u001b[0mhistory\u001b[0m \u001b[0;34m=\u001b[0m \u001b[0mmodel\u001b[0m\u001b[0;34m.\u001b[0m\u001b[0mfit\u001b[0m\u001b[0;34m(\u001b[0m\u001b[0mtrain_set\u001b[0m\u001b[0;34m,\u001b[0m \u001b[0mepochs\u001b[0m\u001b[0;34m=\u001b[0m\u001b[0;36m100\u001b[0m\u001b[0;34m,\u001b[0m \u001b[0mcallbacks\u001b[0m\u001b[0;34m=\u001b[0m\u001b[0;34m[\u001b[0m\u001b[0mlr_schedule\u001b[0m\u001b[0;34m]\u001b[0m\u001b[0;34m)\u001b[0m\u001b[0;34m\u001b[0m\u001b[0;34m\u001b[0m\u001b[0m\n\u001b[0m\u001b[1;32m      8\u001b[0m \u001b[0;34m\u001b[0m\u001b[0m\n\u001b[1;32m      9\u001b[0m \u001b[0mplt\u001b[0m\u001b[0;34m.\u001b[0m\u001b[0msemilogx\u001b[0m\u001b[0;34m(\u001b[0m\u001b[0mhistory\u001b[0m\u001b[0;34m.\u001b[0m\u001b[0mhistory\u001b[0m\u001b[0;34m[\u001b[0m\u001b[0;34m\"lr\"\u001b[0m\u001b[0;34m]\u001b[0m\u001b[0;34m,\u001b[0m \u001b[0mhistory\u001b[0m\u001b[0;34m.\u001b[0m\u001b[0mhistory\u001b[0m\u001b[0;34m[\u001b[0m\u001b[0;34m\"loss\"\u001b[0m\u001b[0;34m]\u001b[0m\u001b[0;34m)\u001b[0m\u001b[0;34m\u001b[0m\u001b[0;34m\u001b[0m\u001b[0m\n",
            "\u001b[0;32m/usr/local/lib/python3.6/dist-packages/tensorflow/python/keras/engine/training.py\u001b[0m in \u001b[0;36mfit\u001b[0;34m(self, x, y, batch_size, epochs, verbose, callbacks, validation_split, validation_data, shuffle, class_weight, sample_weight, initial_epoch, steps_per_epoch, validation_steps, validation_freq, max_queue_size, workers, use_multiprocessing, **kwargs)\u001b[0m\n\u001b[1;32m    641\u001b[0m         \u001b[0mmax_queue_size\u001b[0m\u001b[0;34m=\u001b[0m\u001b[0mmax_queue_size\u001b[0m\u001b[0;34m,\u001b[0m\u001b[0;34m\u001b[0m\u001b[0;34m\u001b[0m\u001b[0m\n\u001b[1;32m    642\u001b[0m         \u001b[0mworkers\u001b[0m\u001b[0;34m=\u001b[0m\u001b[0mworkers\u001b[0m\u001b[0;34m,\u001b[0m\u001b[0;34m\u001b[0m\u001b[0;34m\u001b[0m\u001b[0m\n\u001b[0;32m--> 643\u001b[0;31m         use_multiprocessing=use_multiprocessing)\n\u001b[0m\u001b[1;32m    644\u001b[0m \u001b[0;34m\u001b[0m\u001b[0m\n\u001b[1;32m    645\u001b[0m   def evaluate(self,\n",
            "\u001b[0;32m/usr/local/lib/python3.6/dist-packages/tensorflow/python/keras/engine/training_generator.py\u001b[0m in \u001b[0;36mfit\u001b[0;34m(self, model, x, y, batch_size, epochs, verbose, callbacks, validation_split, validation_data, shuffle, class_weight, sample_weight, initial_epoch, steps_per_epoch, validation_steps, validation_freq, **kwargs)\u001b[0m\n\u001b[1;32m    692\u001b[0m         \u001b[0mshuffle\u001b[0m\u001b[0;34m=\u001b[0m\u001b[0mshuffle\u001b[0m\u001b[0;34m,\u001b[0m\u001b[0;34m\u001b[0m\u001b[0;34m\u001b[0m\u001b[0m\n\u001b[1;32m    693\u001b[0m         \u001b[0minitial_epoch\u001b[0m\u001b[0;34m=\u001b[0m\u001b[0minitial_epoch\u001b[0m\u001b[0;34m,\u001b[0m\u001b[0;34m\u001b[0m\u001b[0;34m\u001b[0m\u001b[0m\n\u001b[0;32m--> 694\u001b[0;31m         steps_name='steps_per_epoch')\n\u001b[0m\u001b[1;32m    695\u001b[0m \u001b[0;34m\u001b[0m\u001b[0m\n\u001b[1;32m    696\u001b[0m   def evaluate(self,\n",
            "\u001b[0;32m/usr/local/lib/python3.6/dist-packages/tensorflow/python/keras/engine/training_generator.py\u001b[0m in \u001b[0;36mmodel_iteration\u001b[0;34m(model, data, steps_per_epoch, epochs, verbose, callbacks, validation_data, validation_steps, validation_freq, class_weight, max_queue_size, workers, use_multiprocessing, shuffle, initial_epoch, mode, batch_size, steps_name, **kwargs)\u001b[0m\n\u001b[1;32m    262\u001b[0m \u001b[0;34m\u001b[0m\u001b[0m\n\u001b[1;32m    263\u001b[0m       \u001b[0mis_deferred\u001b[0m \u001b[0;34m=\u001b[0m \u001b[0;32mnot\u001b[0m \u001b[0mmodel\u001b[0m\u001b[0;34m.\u001b[0m\u001b[0m_is_compiled\u001b[0m\u001b[0;34m\u001b[0m\u001b[0;34m\u001b[0m\u001b[0m\n\u001b[0;32m--> 264\u001b[0;31m       \u001b[0mbatch_outs\u001b[0m \u001b[0;34m=\u001b[0m \u001b[0mbatch_function\u001b[0m\u001b[0;34m(\u001b[0m\u001b[0;34m*\u001b[0m\u001b[0mbatch_data\u001b[0m\u001b[0;34m)\u001b[0m\u001b[0;34m\u001b[0m\u001b[0;34m\u001b[0m\u001b[0m\n\u001b[0m\u001b[1;32m    265\u001b[0m       \u001b[0;32mif\u001b[0m \u001b[0;32mnot\u001b[0m \u001b[0misinstance\u001b[0m\u001b[0;34m(\u001b[0m\u001b[0mbatch_outs\u001b[0m\u001b[0;34m,\u001b[0m \u001b[0mlist\u001b[0m\u001b[0;34m)\u001b[0m\u001b[0;34m:\u001b[0m\u001b[0;34m\u001b[0m\u001b[0;34m\u001b[0m\u001b[0m\n\u001b[1;32m    266\u001b[0m         \u001b[0mbatch_outs\u001b[0m \u001b[0;34m=\u001b[0m \u001b[0;34m[\u001b[0m\u001b[0mbatch_outs\u001b[0m\u001b[0;34m]\u001b[0m\u001b[0;34m\u001b[0m\u001b[0;34m\u001b[0m\u001b[0m\n",
            "\u001b[0;32m/usr/local/lib/python3.6/dist-packages/tensorflow/python/keras/engine/training.py\u001b[0m in \u001b[0;36mtrain_on_batch\u001b[0;34m(self, x, y, sample_weight, class_weight, reset_metrics)\u001b[0m\n\u001b[1;32m    894\u001b[0m     x, y, sample_weights = self._standardize_user_data(\n\u001b[1;32m    895\u001b[0m         \u001b[0mx\u001b[0m\u001b[0;34m,\u001b[0m \u001b[0my\u001b[0m\u001b[0;34m,\u001b[0m \u001b[0msample_weight\u001b[0m\u001b[0;34m=\u001b[0m\u001b[0msample_weight\u001b[0m\u001b[0;34m,\u001b[0m \u001b[0mclass_weight\u001b[0m\u001b[0;34m=\u001b[0m\u001b[0mclass_weight\u001b[0m\u001b[0;34m,\u001b[0m\u001b[0;34m\u001b[0m\u001b[0;34m\u001b[0m\u001b[0m\n\u001b[0;32m--> 896\u001b[0;31m         extract_tensors_from_dataset=True)\n\u001b[0m\u001b[1;32m    897\u001b[0m \u001b[0;34m\u001b[0m\u001b[0m\n\u001b[1;32m    898\u001b[0m     \u001b[0;31m# If `self._distribution_strategy` is True, then we are in a replica context\u001b[0m\u001b[0;34m\u001b[0m\u001b[0;34m\u001b[0m\u001b[0;34m\u001b[0m\u001b[0m\n",
            "\u001b[0;32m/usr/local/lib/python3.6/dist-packages/tensorflow/python/keras/engine/training.py\u001b[0m in \u001b[0;36m_standardize_user_data\u001b[0;34m(self, x, y, sample_weight, class_weight, batch_size, check_steps, steps_name, steps, validation_split, shuffle, extract_tensors_from_dataset)\u001b[0m\n\u001b[1;32m   2426\u001b[0m           \u001b[0mfeed_input_shapes\u001b[0m\u001b[0;34m,\u001b[0m\u001b[0;34m\u001b[0m\u001b[0;34m\u001b[0m\u001b[0m\n\u001b[1;32m   2427\u001b[0m           \u001b[0mcheck_batch_axis\u001b[0m\u001b[0;34m=\u001b[0m\u001b[0;32mFalse\u001b[0m\u001b[0;34m,\u001b[0m  \u001b[0;31m# Don't enforce the batch size.\u001b[0m\u001b[0;34m\u001b[0m\u001b[0;34m\u001b[0m\u001b[0m\n\u001b[0;32m-> 2428\u001b[0;31m           exception_prefix='input')\n\u001b[0m\u001b[1;32m   2429\u001b[0m \u001b[0;34m\u001b[0m\u001b[0m\n\u001b[1;32m   2430\u001b[0m     \u001b[0;32mif\u001b[0m \u001b[0my\u001b[0m \u001b[0;32mis\u001b[0m \u001b[0;32mnot\u001b[0m \u001b[0;32mNone\u001b[0m\u001b[0;34m:\u001b[0m\u001b[0;34m\u001b[0m\u001b[0;34m\u001b[0m\u001b[0m\n",
            "\u001b[0;32m/usr/local/lib/python3.6/dist-packages/tensorflow/python/keras/engine/training_utils.py\u001b[0m in \u001b[0;36mstandardize_input_data\u001b[0;34m(data, names, shapes, check_batch_axis, exception_prefix)\u001b[0m\n\u001b[1;32m    510\u001b[0m                            \u001b[0;34m': expected '\u001b[0m \u001b[0;34m+\u001b[0m \u001b[0mnames\u001b[0m\u001b[0;34m[\u001b[0m\u001b[0mi\u001b[0m\u001b[0;34m]\u001b[0m \u001b[0;34m+\u001b[0m \u001b[0;34m' to have '\u001b[0m \u001b[0;34m+\u001b[0m\u001b[0;34m\u001b[0m\u001b[0;34m\u001b[0m\u001b[0m\n\u001b[1;32m    511\u001b[0m                            \u001b[0mstr\u001b[0m\u001b[0;34m(\u001b[0m\u001b[0mlen\u001b[0m\u001b[0;34m(\u001b[0m\u001b[0mshape\u001b[0m\u001b[0;34m)\u001b[0m\u001b[0;34m)\u001b[0m \u001b[0;34m+\u001b[0m \u001b[0;34m' dimensions, but got array '\u001b[0m\u001b[0;34m\u001b[0m\u001b[0;34m\u001b[0m\u001b[0m\n\u001b[0;32m--> 512\u001b[0;31m                            'with shape ' + str(data_shape))\n\u001b[0m\u001b[1;32m    513\u001b[0m         \u001b[0;32mif\u001b[0m \u001b[0;32mnot\u001b[0m \u001b[0mcheck_batch_axis\u001b[0m\u001b[0;34m:\u001b[0m\u001b[0;34m\u001b[0m\u001b[0;34m\u001b[0m\u001b[0m\n\u001b[1;32m    514\u001b[0m           \u001b[0mdata_shape\u001b[0m \u001b[0;34m=\u001b[0m \u001b[0mdata_shape\u001b[0m\u001b[0;34m[\u001b[0m\u001b[0;36m1\u001b[0m\u001b[0;34m:\u001b[0m\u001b[0;34m]\u001b[0m\u001b[0;34m\u001b[0m\u001b[0;34m\u001b[0m\u001b[0m\n",
            "\u001b[0;31mValueError\u001b[0m: Error when checking input: expected conv1d_input to have 3 dimensions, but got array with shape (128, 30)"
          ]
        }
      ]
    },
    {
      "cell_type": "code",
      "metadata": {
        "id": "LjbKunaBM7TE",
        "colab_type": "code",
        "colab": {}
      },
      "source": [
        "model = tf.keras.models.Sequential([\n",
        "  tf.keras.layers.Conv1D(filters=32, kernel_size=3,\n",
        "                      strides=1, padding=\"causal\",\n",
        "                      activation=\"relu\",\n",
        "                      input_shape=[None, 1]),\n",
        "  tf.keras.layers.LSTM(32, return_sequences=True),\n",
        "  tf.keras.layers.LSTM(32, return_sequences=True),\n",
        "  tf.keras.layers.Dense(1),\n",
        "  tf.keras.layers.Lambda(lambda x: x * 200)\n",
        "])\n"
      ],
      "execution_count": 0,
      "outputs": []
    },
    {
      "cell_type": "code",
      "metadata": {
        "id": "KBDXZIVyNA8t",
        "colab_type": "code",
        "outputId": "28935fb1-99cf-4420-e479-5f177574594f",
        "colab": {
          "base_uri": "https://localhost:8080/",
          "height": 407
        }
      },
      "source": [
        "optimizer = tf.keras.optimizers.SGD(lr=1e-5, momentum=0.9)\n",
        "model.compile(loss=tf.keras.losses.Huber(),\n",
        "              optimizer=optimizer,\n",
        "              metrics=[\"mae\"])\n",
        "history = model.fit(dataset,epochs=500)\n",
        "\n",
        "rnn_forecast = model_forecast(model, series[..., np.newaxis], window_size)\n",
        "rnn_forecast = rnn_forecast[split_time - window_size:-1, -1, 0]\n",
        "\n",
        "plt.figure(figsize=(10, 6))\n",
        "plot_series(time_valid, x_valid)\n",
        "plot_series(time_valid, rnn_forecast)\n",
        "\n",
        "tf.keras.metrics.mean_absolute_error(x_valid, rnn_forecast).numpy()\n",
        "\n",
        "import matplotlib.image  as mpimg\n",
        "import matplotlib.pyplot as plt\n",
        "\n",
        "#-----------------------------------------------------------\n",
        "# Retrieve a list of list results on training and test data\n",
        "# sets for each training epoch\n",
        "#-----------------------------------------------------------\n",
        "mae=history.history['mae']\n",
        "loss=history.history['loss']\n",
        "\n",
        "epochs=range(len(loss)) # Get number of epochs\n",
        "\n",
        "#------------------------------------------------\n",
        "# Plot MAE and Loss\n",
        "#------------------------------------------------\n",
        "plt.plot(epochs, mae, 'r')\n",
        "plt.plot(epochs, loss, 'b')\n",
        "plt.title('MAE and Loss')\n",
        "plt.xlabel(\"Epochs\")\n",
        "plt.ylabel(\"Accuracy\")\n",
        "plt.legend([\"MAE\", \"Loss\"])\n",
        "\n",
        "plt.figure()\n",
        "\n",
        "epochs_zoom = epochs[200:]\n",
        "mae_zoom = mae[200:]\n",
        "loss_zoom = loss[200:]\n",
        "\n",
        "#------------------------------------------------\n",
        "# Plot Zoomed MAE and Loss\n",
        "#------------------------------------------------\n",
        "plt.plot(epochs_zoom, mae_zoom, 'r')\n",
        "plt.plot(epochs_zoom, loss_zoom, 'b')\n",
        "plt.title('MAE and Loss')\n",
        "plt.xlabel(\"Epochs\")\n",
        "plt.ylabel(\"Accuracy\")\n",
        "plt.legend([\"MAE\", \"Loss\"])\n",
        "\n",
        "plt.figure()"
      ],
      "execution_count": 0,
      "outputs": [
        {
          "output_type": "stream",
          "text": [
            "Epoch 1/500\n"
          ],
          "name": "stdout"
        },
        {
          "output_type": "error",
          "ename": "ValueError",
          "evalue": "ignored",
          "traceback": [
            "\u001b[0;31m---------------------------------------------------------------------------\u001b[0m",
            "\u001b[0;31mValueError\u001b[0m                                Traceback (most recent call last)",
            "\u001b[0;32m<ipython-input-37-0a5094d1a918>\u001b[0m in \u001b[0;36m<module>\u001b[0;34m()\u001b[0m\n\u001b[1;32m      3\u001b[0m               \u001b[0moptimizer\u001b[0m\u001b[0;34m=\u001b[0m\u001b[0moptimizer\u001b[0m\u001b[0;34m,\u001b[0m\u001b[0;34m\u001b[0m\u001b[0;34m\u001b[0m\u001b[0m\n\u001b[1;32m      4\u001b[0m               metrics=[\"mae\"])\n\u001b[0;32m----> 5\u001b[0;31m \u001b[0mhistory\u001b[0m \u001b[0;34m=\u001b[0m \u001b[0mmodel\u001b[0m\u001b[0;34m.\u001b[0m\u001b[0mfit\u001b[0m\u001b[0;34m(\u001b[0m\u001b[0mdataset\u001b[0m\u001b[0;34m,\u001b[0m\u001b[0mepochs\u001b[0m\u001b[0;34m=\u001b[0m\u001b[0;36m500\u001b[0m\u001b[0;34m)\u001b[0m\u001b[0;34m\u001b[0m\u001b[0;34m\u001b[0m\u001b[0m\n\u001b[0m\u001b[1;32m      6\u001b[0m \u001b[0;34m\u001b[0m\u001b[0m\n\u001b[1;32m      7\u001b[0m \u001b[0mrnn_forecast\u001b[0m \u001b[0;34m=\u001b[0m \u001b[0mmodel_forecast\u001b[0m\u001b[0;34m(\u001b[0m\u001b[0mmodel\u001b[0m\u001b[0;34m,\u001b[0m \u001b[0mseries\u001b[0m\u001b[0;34m[\u001b[0m\u001b[0;34m...\u001b[0m\u001b[0;34m,\u001b[0m \u001b[0mnp\u001b[0m\u001b[0;34m.\u001b[0m\u001b[0mnewaxis\u001b[0m\u001b[0;34m]\u001b[0m\u001b[0;34m,\u001b[0m \u001b[0mwindow_size\u001b[0m\u001b[0;34m)\u001b[0m\u001b[0;34m\u001b[0m\u001b[0;34m\u001b[0m\u001b[0m\n",
            "\u001b[0;32m/usr/local/lib/python3.6/dist-packages/tensorflow/python/keras/engine/training.py\u001b[0m in \u001b[0;36mfit\u001b[0;34m(self, x, y, batch_size, epochs, verbose, callbacks, validation_split, validation_data, shuffle, class_weight, sample_weight, initial_epoch, steps_per_epoch, validation_steps, validation_freq, max_queue_size, workers, use_multiprocessing, **kwargs)\u001b[0m\n\u001b[1;32m    641\u001b[0m         \u001b[0mmax_queue_size\u001b[0m\u001b[0;34m=\u001b[0m\u001b[0mmax_queue_size\u001b[0m\u001b[0;34m,\u001b[0m\u001b[0;34m\u001b[0m\u001b[0;34m\u001b[0m\u001b[0m\n\u001b[1;32m    642\u001b[0m         \u001b[0mworkers\u001b[0m\u001b[0;34m=\u001b[0m\u001b[0mworkers\u001b[0m\u001b[0;34m,\u001b[0m\u001b[0;34m\u001b[0m\u001b[0;34m\u001b[0m\u001b[0m\n\u001b[0;32m--> 643\u001b[0;31m         use_multiprocessing=use_multiprocessing)\n\u001b[0m\u001b[1;32m    644\u001b[0m \u001b[0;34m\u001b[0m\u001b[0m\n\u001b[1;32m    645\u001b[0m   def evaluate(self,\n",
            "\u001b[0;32m/usr/local/lib/python3.6/dist-packages/tensorflow/python/keras/engine/training_generator.py\u001b[0m in \u001b[0;36mfit\u001b[0;34m(self, model, x, y, batch_size, epochs, verbose, callbacks, validation_split, validation_data, shuffle, class_weight, sample_weight, initial_epoch, steps_per_epoch, validation_steps, validation_freq, **kwargs)\u001b[0m\n\u001b[1;32m    692\u001b[0m         \u001b[0mshuffle\u001b[0m\u001b[0;34m=\u001b[0m\u001b[0mshuffle\u001b[0m\u001b[0;34m,\u001b[0m\u001b[0;34m\u001b[0m\u001b[0;34m\u001b[0m\u001b[0m\n\u001b[1;32m    693\u001b[0m         \u001b[0minitial_epoch\u001b[0m\u001b[0;34m=\u001b[0m\u001b[0minitial_epoch\u001b[0m\u001b[0;34m,\u001b[0m\u001b[0;34m\u001b[0m\u001b[0;34m\u001b[0m\u001b[0m\n\u001b[0;32m--> 694\u001b[0;31m         steps_name='steps_per_epoch')\n\u001b[0m\u001b[1;32m    695\u001b[0m \u001b[0;34m\u001b[0m\u001b[0m\n\u001b[1;32m    696\u001b[0m   def evaluate(self,\n",
            "\u001b[0;32m/usr/local/lib/python3.6/dist-packages/tensorflow/python/keras/engine/training_generator.py\u001b[0m in \u001b[0;36mmodel_iteration\u001b[0;34m(model, data, steps_per_epoch, epochs, verbose, callbacks, validation_data, validation_steps, validation_freq, class_weight, max_queue_size, workers, use_multiprocessing, shuffle, initial_epoch, mode, batch_size, steps_name, **kwargs)\u001b[0m\n\u001b[1;32m    262\u001b[0m \u001b[0;34m\u001b[0m\u001b[0m\n\u001b[1;32m    263\u001b[0m       \u001b[0mis_deferred\u001b[0m \u001b[0;34m=\u001b[0m \u001b[0;32mnot\u001b[0m \u001b[0mmodel\u001b[0m\u001b[0;34m.\u001b[0m\u001b[0m_is_compiled\u001b[0m\u001b[0;34m\u001b[0m\u001b[0;34m\u001b[0m\u001b[0m\n\u001b[0;32m--> 264\u001b[0;31m       \u001b[0mbatch_outs\u001b[0m \u001b[0;34m=\u001b[0m \u001b[0mbatch_function\u001b[0m\u001b[0;34m(\u001b[0m\u001b[0;34m*\u001b[0m\u001b[0mbatch_data\u001b[0m\u001b[0;34m)\u001b[0m\u001b[0;34m\u001b[0m\u001b[0;34m\u001b[0m\u001b[0m\n\u001b[0m\u001b[1;32m    265\u001b[0m       \u001b[0;32mif\u001b[0m \u001b[0;32mnot\u001b[0m \u001b[0misinstance\u001b[0m\u001b[0;34m(\u001b[0m\u001b[0mbatch_outs\u001b[0m\u001b[0;34m,\u001b[0m \u001b[0mlist\u001b[0m\u001b[0;34m)\u001b[0m\u001b[0;34m:\u001b[0m\u001b[0;34m\u001b[0m\u001b[0;34m\u001b[0m\u001b[0m\n\u001b[1;32m    266\u001b[0m         \u001b[0mbatch_outs\u001b[0m \u001b[0;34m=\u001b[0m \u001b[0;34m[\u001b[0m\u001b[0mbatch_outs\u001b[0m\u001b[0;34m]\u001b[0m\u001b[0;34m\u001b[0m\u001b[0;34m\u001b[0m\u001b[0m\n",
            "\u001b[0;32m/usr/local/lib/python3.6/dist-packages/tensorflow/python/keras/engine/training.py\u001b[0m in \u001b[0;36mtrain_on_batch\u001b[0;34m(self, x, y, sample_weight, class_weight, reset_metrics)\u001b[0m\n\u001b[1;32m    894\u001b[0m     x, y, sample_weights = self._standardize_user_data(\n\u001b[1;32m    895\u001b[0m         \u001b[0mx\u001b[0m\u001b[0;34m,\u001b[0m \u001b[0my\u001b[0m\u001b[0;34m,\u001b[0m \u001b[0msample_weight\u001b[0m\u001b[0;34m=\u001b[0m\u001b[0msample_weight\u001b[0m\u001b[0;34m,\u001b[0m \u001b[0mclass_weight\u001b[0m\u001b[0;34m=\u001b[0m\u001b[0mclass_weight\u001b[0m\u001b[0;34m,\u001b[0m\u001b[0;34m\u001b[0m\u001b[0;34m\u001b[0m\u001b[0m\n\u001b[0;32m--> 896\u001b[0;31m         extract_tensors_from_dataset=True)\n\u001b[0m\u001b[1;32m    897\u001b[0m \u001b[0;34m\u001b[0m\u001b[0m\n\u001b[1;32m    898\u001b[0m     \u001b[0;31m# If `self._distribution_strategy` is True, then we are in a replica context\u001b[0m\u001b[0;34m\u001b[0m\u001b[0;34m\u001b[0m\u001b[0;34m\u001b[0m\u001b[0m\n",
            "\u001b[0;32m/usr/local/lib/python3.6/dist-packages/tensorflow/python/keras/engine/training.py\u001b[0m in \u001b[0;36m_standardize_user_data\u001b[0;34m(self, x, y, sample_weight, class_weight, batch_size, check_steps, steps_name, steps, validation_split, shuffle, extract_tensors_from_dataset)\u001b[0m\n\u001b[1;32m   2426\u001b[0m           \u001b[0mfeed_input_shapes\u001b[0m\u001b[0;34m,\u001b[0m\u001b[0;34m\u001b[0m\u001b[0;34m\u001b[0m\u001b[0m\n\u001b[1;32m   2427\u001b[0m           \u001b[0mcheck_batch_axis\u001b[0m\u001b[0;34m=\u001b[0m\u001b[0;32mFalse\u001b[0m\u001b[0;34m,\u001b[0m  \u001b[0;31m# Don't enforce the batch size.\u001b[0m\u001b[0;34m\u001b[0m\u001b[0;34m\u001b[0m\u001b[0m\n\u001b[0;32m-> 2428\u001b[0;31m           exception_prefix='input')\n\u001b[0m\u001b[1;32m   2429\u001b[0m \u001b[0;34m\u001b[0m\u001b[0m\n\u001b[1;32m   2430\u001b[0m     \u001b[0;32mif\u001b[0m \u001b[0my\u001b[0m \u001b[0;32mis\u001b[0m \u001b[0;32mnot\u001b[0m \u001b[0;32mNone\u001b[0m\u001b[0;34m:\u001b[0m\u001b[0;34m\u001b[0m\u001b[0;34m\u001b[0m\u001b[0m\n",
            "\u001b[0;32m/usr/local/lib/python3.6/dist-packages/tensorflow/python/keras/engine/training_utils.py\u001b[0m in \u001b[0;36mstandardize_input_data\u001b[0;34m(data, names, shapes, check_batch_axis, exception_prefix)\u001b[0m\n\u001b[1;32m    510\u001b[0m                            \u001b[0;34m': expected '\u001b[0m \u001b[0;34m+\u001b[0m \u001b[0mnames\u001b[0m\u001b[0;34m[\u001b[0m\u001b[0mi\u001b[0m\u001b[0;34m]\u001b[0m \u001b[0;34m+\u001b[0m \u001b[0;34m' to have '\u001b[0m \u001b[0;34m+\u001b[0m\u001b[0;34m\u001b[0m\u001b[0;34m\u001b[0m\u001b[0m\n\u001b[1;32m    511\u001b[0m                            \u001b[0mstr\u001b[0m\u001b[0;34m(\u001b[0m\u001b[0mlen\u001b[0m\u001b[0;34m(\u001b[0m\u001b[0mshape\u001b[0m\u001b[0;34m)\u001b[0m\u001b[0;34m)\u001b[0m \u001b[0;34m+\u001b[0m \u001b[0;34m' dimensions, but got array '\u001b[0m\u001b[0;34m\u001b[0m\u001b[0;34m\u001b[0m\u001b[0m\n\u001b[0;32m--> 512\u001b[0;31m                            'with shape ' + str(data_shape))\n\u001b[0m\u001b[1;32m    513\u001b[0m         \u001b[0;32mif\u001b[0m \u001b[0;32mnot\u001b[0m \u001b[0mcheck_batch_axis\u001b[0m\u001b[0;34m:\u001b[0m\u001b[0;34m\u001b[0m\u001b[0;34m\u001b[0m\u001b[0m\n\u001b[1;32m    514\u001b[0m           \u001b[0mdata_shape\u001b[0m \u001b[0;34m=\u001b[0m \u001b[0mdata_shape\u001b[0m\u001b[0;34m[\u001b[0m\u001b[0;36m1\u001b[0m\u001b[0;34m:\u001b[0m\u001b[0;34m]\u001b[0m\u001b[0;34m\u001b[0m\u001b[0;34m\u001b[0m\u001b[0m\n",
            "\u001b[0;31mValueError\u001b[0m: Error when checking input: expected conv1d_1_input to have 3 dimensions, but got array with shape (32, 20)"
          ]
        }
      ]
    },
    {
      "cell_type": "code",
      "metadata": {
        "id": "k36jGrDMNDte",
        "colab_type": "code",
        "outputId": "1f9b2673-3505-4d92-90c5-80f90340c2d1",
        "colab": {
          "base_uri": "https://localhost:8080/",
          "height": 1000
        }
      },
      "source": [
        "# -*- coding: utf-8 -*-\n",
        "\"\"\"S+P Week 4 Lesson 5.ipynb\n",
        "\n",
        "Automatically generated by Colaboratory.\n",
        "\n",
        "Original file is located at\n",
        "    https://colab.research.google.com/github/lmoroney/dlaicourse/blob/master/TensorFlow%20In%20Practice/Course%204%20-%20S%2BP/S%2BP%20Week%204%20Lesson%205.ipynb\n",
        "\"\"\"\n",
        "\n",
        "!pip install tensorflow==2.0.0b1\n",
        "\n",
        "import tensorflow as tf\n",
        "print(tf.__version__)\n",
        "\n",
        "import numpy as np\n",
        "import matplotlib.pyplot as plt\n",
        "def plot_series(time, series, format=\"-\", start=0, end=None):\n",
        "    plt.plot(time[start:end], series[start:end], format)\n",
        "    plt.xlabel(\"Time\")\n",
        "    plt.ylabel(\"Value\")\n",
        "    plt.grid(True)\n",
        "\n",
        "!wget --no-check-certificate \\\n",
        "    https://storage.googleapis.com/laurencemoroney-blog.appspot.com/Sunspots.csv \\\n",
        "    -O /tmp/sunspots.csv\n",
        "\n",
        "import csv\n",
        "time_step = []\n",
        "sunspots = []\n",
        "\n",
        "with open('/tmp/sunspots.csv') as csvfile:\n",
        "  reader = csv.reader(csvfile, delimiter=',')\n",
        "  next(reader)\n",
        "  for row in reader:\n",
        "    sunspots.append(float(row[2]))\n",
        "    time_step.append(int(row[0]))\n",
        "\n",
        "series = np.array(sunspots)\n",
        "time = np.array(time_step)\n",
        "plt.figure(figsize=(10, 6))\n",
        "plot_series(time, series)\n",
        "\n",
        "series = np.array(sunspots)\n",
        "time = np.array(time_step)\n",
        "plt.figure(figsize=(10, 6))\n",
        "plot_series(time, series)\n",
        "\n",
        "split_time = 3000\n",
        "time_train = time[:split_time]\n",
        "x_train = series[:split_time]\n",
        "time_valid = time[split_time:]\n",
        "x_valid = series[split_time:]\n",
        "\n",
        "window_size = 30\n",
        "batch_size = 32\n",
        "shuffle_buffer_size = 1000\n",
        "\n",
        "def windowed_dataset(series, window_size, batch_size, shuffle_buffer):\n",
        "    series = tf.expand_dims(series, axis=-1)\n",
        "    ds = tf.data.Dataset.from_tensor_slices(series)\n",
        "    ds = ds.window(window_size + 1, shift=1, drop_remainder=True)\n",
        "    ds = ds.flat_map(lambda w: w.batch(window_size + 1))\n",
        "    ds = ds.shuffle(shuffle_buffer)\n",
        "    ds = ds.map(lambda w: (w[:-1], w[1:]))\n",
        "    return ds.batch(batch_size).prefetch(1)\n",
        "\n",
        "def model_forecast(model, series, window_size):\n",
        "    ds = tf.data.Dataset.from_tensor_slices(series)\n",
        "    ds = ds.window(window_size, shift=1, drop_remainder=True)\n",
        "    ds = ds.flat_map(lambda w: w.batch(window_size))\n",
        "    ds = ds.batch(32).prefetch(1)\n",
        "    forecast = model.predict(ds)\n",
        "    return forecast\n",
        "\n",
        "tf.keras.backend.clear_session()\n",
        "tf.random.set_seed(51)\n",
        "np.random.seed(51)\n",
        "window_size = 64\n",
        "batch_size = 256\n",
        "train_set = windowed_dataset(x_train, window_size, batch_size, shuffle_buffer_size)\n",
        "print(train_set)\n",
        "print(x_train.shape)\n",
        "\n",
        "model = tf.keras.models.Sequential([\n",
        "  tf.keras.layers.Conv1D(filters=32, kernel_size=5,\n",
        "                      strides=1, padding=\"causal\",\n",
        "                      activation=\"relu\",\n",
        "                      input_shape=[None, 1]),\n",
        "  tf.keras.layers.LSTM(64, return_sequences=True),\n",
        "  tf.keras.layers.LSTM(64, return_sequences=True),\n",
        "  tf.keras.layers.Dense(30, activation=\"relu\"),\n",
        "  tf.keras.layers.Dense(10, activation=\"relu\"),\n",
        "  tf.keras.layers.Dense(1),\n",
        "  tf.keras.layers.Lambda(lambda x: x * 400)\n",
        "])\n",
        "\n",
        "lr_schedule = tf.keras.callbacks.LearningRateScheduler(\n",
        "    lambda epoch: 1e-8 * 10**(epoch / 20))\n",
        "optimizer = tf.keras.optimizers.SGD(lr=1e-8, momentum=0.9)\n",
        "model.compile(loss=tf.keras.losses.Huber(),\n",
        "              optimizer=optimizer,\n",
        "              metrics=[\"mae\"])\n",
        "history = model.fit(train_set, epochs=100, callbacks=[lr_schedule])\n",
        "\n",
        "plt.semilogx(history.history[\"lr\"], history.history[\"loss\"])\n",
        "plt.axis([1e-8, 1e-4, 0, 60])\n",
        "\n",
        "tf.keras.backend.clear_session()\n",
        "tf.random.set_seed(51)\n",
        "np.random.seed(51)\n",
        "train_set = windowed_dataset(x_train, window_size=60, batch_size=100, shuffle_buffer=shuffle_buffer_size)\n",
        "model = tf.keras.models.Sequential([\n",
        "  tf.keras.layers.Conv1D(filters=60, kernel_size=5,\n",
        "                      strides=1, padding=\"causal\",\n",
        "                      activation=\"relu\",\n",
        "                      input_shape=[None, 1]),\n",
        "  tf.keras.layers.LSTM(60, return_sequences=True),\n",
        "  tf.keras.layers.LSTM(60, return_sequences=True),\n",
        "  tf.keras.layers.Dense(30, activation=\"relu\"),\n",
        "  tf.keras.layers.Dense(10, activation=\"relu\"),\n",
        "  tf.keras.layers.Dense(1),\n",
        "  tf.keras.layers.Lambda(lambda x: x * 400)\n",
        "])\n",
        "\n",
        "\n",
        "optimizer = tf.keras.optimizers.SGD(lr=1e-5, momentum=0.9)\n",
        "model.compile(loss=tf.keras.losses.Huber(),\n",
        "              optimizer=optimizer,\n",
        "              metrics=[\"mae\"])\n",
        "history = model.fit(train_set,epochs=500)\n",
        "\n",
        "rnn_forecast = model_forecast(model, series[..., np.newaxis], window_size)\n",
        "rnn_forecast = rnn_forecast[split_time - window_size:-1, -1, 0]\n",
        "\n",
        "plt.figure(figsize=(10, 6))\n",
        "plot_series(time_valid, x_valid)\n",
        "plot_series(time_valid, rnn_forecast)\n",
        "\n",
        "tf.keras.metrics.mean_absolute_error(x_valid, rnn_forecast).numpy()\n",
        "\n",
        "import matplotlib.image  as mpimg\n",
        "import matplotlib.pyplot as plt\n",
        "\n",
        "#-----------------------------------------------------------\n",
        "# Retrieve a list of list results on training and test data\n",
        "# sets for each training epoch\n",
        "#-----------------------------------------------------------\n",
        "loss=history.history['loss']\n",
        "\n",
        "epochs=range(len(loss)) # Get number of epochs\n",
        "\n",
        "\n",
        "#------------------------------------------------\n",
        "# Plot training and validation loss per epoch\n",
        "#------------------------------------------------\n",
        "plt.plot(epochs, loss, 'r')\n",
        "plt.title('Training loss')\n",
        "plt.xlabel(\"Epochs\")\n",
        "plt.ylabel(\"Loss\")\n",
        "plt.legend([\"Loss\"])\n",
        "\n",
        "plt.figure()\n",
        "\n",
        "\n",
        "\n",
        "zoomed_loss = loss[200:]\n",
        "zoomed_epochs = range(200,500)\n",
        "\n",
        "\n",
        "#------------------------------------------------\n",
        "# Plot training and validation loss per epoch\n",
        "#------------------------------------------------\n",
        "plt.plot(zoomed_epochs, zoomed_loss, 'r')\n",
        "plt.title('Training loss')\n",
        "plt.xlabel(\"Epochs\")\n",
        "plt.ylabel(\"Loss\")\n",
        "plt.legend([\"Loss\"])\n",
        "\n",
        "plt.figure()\n",
        "\n",
        "print(rnn_forecast)"
      ],
      "execution_count": 0,
      "outputs": [
        {
          "output_type": "stream",
          "text": [
            "Requirement already satisfied: tensorflow==2.0.0b1 in /usr/local/lib/python3.6/dist-packages (2.0.0b1)\n",
            "Requirement already satisfied: keras-preprocessing>=1.0.5 in /usr/local/lib/python3.6/dist-packages (from tensorflow==2.0.0b1) (1.1.0)\n",
            "Requirement already satisfied: numpy<2.0,>=1.14.5 in /usr/local/lib/python3.6/dist-packages (from tensorflow==2.0.0b1) (1.16.4)\n",
            "Requirement already satisfied: keras-applications>=1.0.6 in /usr/local/lib/python3.6/dist-packages (from tensorflow==2.0.0b1) (1.0.8)\n",
            "Requirement already satisfied: termcolor>=1.1.0 in /usr/local/lib/python3.6/dist-packages (from tensorflow==2.0.0b1) (1.1.0)\n",
            "Requirement already satisfied: wrapt>=1.11.1 in /usr/local/lib/python3.6/dist-packages (from tensorflow==2.0.0b1) (1.11.2)\n",
            "Requirement already satisfied: google-pasta>=0.1.6 in /usr/local/lib/python3.6/dist-packages (from tensorflow==2.0.0b1) (0.1.7)\n",
            "Requirement already satisfied: tb-nightly<1.14.0a20190604,>=1.14.0a20190603 in /usr/local/lib/python3.6/dist-packages (from tensorflow==2.0.0b1) (1.14.0a20190603)\n",
            "Requirement already satisfied: absl-py>=0.7.0 in /usr/local/lib/python3.6/dist-packages (from tensorflow==2.0.0b1) (0.7.1)\n",
            "Requirement already satisfied: tf-estimator-nightly<1.14.0.dev2019060502,>=1.14.0.dev2019060501 in /usr/local/lib/python3.6/dist-packages (from tensorflow==2.0.0b1) (1.14.0.dev2019060501)\n",
            "Requirement already satisfied: protobuf>=3.6.1 in /usr/local/lib/python3.6/dist-packages (from tensorflow==2.0.0b1) (3.7.1)\n",
            "Requirement already satisfied: grpcio>=1.8.6 in /usr/local/lib/python3.6/dist-packages (from tensorflow==2.0.0b1) (1.15.0)\n",
            "Requirement already satisfied: six>=1.10.0 in /usr/local/lib/python3.6/dist-packages (from tensorflow==2.0.0b1) (1.12.0)\n",
            "Requirement already satisfied: gast>=0.2.0 in /usr/local/lib/python3.6/dist-packages (from tensorflow==2.0.0b1) (0.2.2)\n",
            "Requirement already satisfied: wheel>=0.26 in /usr/local/lib/python3.6/dist-packages (from tensorflow==2.0.0b1) (0.33.6)\n",
            "Requirement already satisfied: astor>=0.6.0 in /usr/local/lib/python3.6/dist-packages (from tensorflow==2.0.0b1) (0.8.0)\n",
            "Requirement already satisfied: h5py in /usr/local/lib/python3.6/dist-packages (from keras-applications>=1.0.6->tensorflow==2.0.0b1) (2.8.0)\n",
            "Requirement already satisfied: markdown>=2.6.8 in /usr/local/lib/python3.6/dist-packages (from tb-nightly<1.14.0a20190604,>=1.14.0a20190603->tensorflow==2.0.0b1) (3.1.1)\n",
            "Requirement already satisfied: setuptools>=41.0.0 in /usr/local/lib/python3.6/dist-packages (from tb-nightly<1.14.0a20190604,>=1.14.0a20190603->tensorflow==2.0.0b1) (41.2.0)\n",
            "Requirement already satisfied: werkzeug>=0.11.15 in /usr/local/lib/python3.6/dist-packages (from tb-nightly<1.14.0a20190604,>=1.14.0a20190603->tensorflow==2.0.0b1) (0.15.5)\n",
            "2.0.0-beta1\n",
            "--2019-09-03 03:57:56--  https://storage.googleapis.com/laurencemoroney-blog.appspot.com/Sunspots.csv\n",
            "Resolving storage.googleapis.com (storage.googleapis.com)... 172.217.194.128, 2404:6800:4003:808::2010\n",
            "Connecting to storage.googleapis.com (storage.googleapis.com)|172.217.194.128|:443... connected.\n",
            "HTTP request sent, awaiting response... 200 OK\n",
            "Length: 70827 (69K) [application/octet-stream]\n",
            "Saving to: ‘/tmp/sunspots.csv’\n",
            "\n",
            "/tmp/sunspots.csv   100%[===================>]  69.17K  --.-KB/s    in 0s      \n",
            "\n",
            "2019-09-03 03:57:56 (162 MB/s) - ‘/tmp/sunspots.csv’ saved [70827/70827]\n",
            "\n",
            "<PrefetchDataset shapes: ((None, None, 1), (None, None, 1)), types: (tf.float64, tf.float64)>\n",
            "(3000,)\n",
            "Epoch 1/100\n",
            "12/12 [==============================] - 6s 536ms/step - loss: 80.3072 - mae: 80.3315\n",
            "Epoch 2/100\n",
            "12/12 [==============================] - 4s 345ms/step - loss: 78.5038 - mae: 78.5937\n",
            "Epoch 3/100\n",
            "12/12 [==============================] - 4s 345ms/step - loss: 75.8321 - mae: 75.9399\n",
            "Epoch 4/100\n",
            "12/12 [==============================] - 4s 337ms/step - loss: 72.6364 - mae: 72.7566\n",
            "Epoch 5/100\n",
            "12/12 [==============================] - 4s 344ms/step - loss: 69.1225 - mae: 69.2522\n",
            "Epoch 6/100\n",
            "12/12 [==============================] - 4s 342ms/step - loss: 65.4573 - mae: 65.5938\n",
            "Epoch 7/100\n",
            "12/12 [==============================] - 4s 343ms/step - loss: 61.8589 - mae: 61.9999\n",
            "Epoch 8/100\n",
            "12/12 [==============================] - 4s 343ms/step - loss: 58.4736 - mae: 58.6180\n",
            "Epoch 9/100\n",
            "12/12 [==============================] - 4s 342ms/step - loss: 55.3957 - mae: 55.5447\n",
            "Epoch 10/100\n",
            "12/12 [==============================] - 4s 352ms/step - loss: 52.6479 - mae: 52.8029\n",
            "Epoch 11/100\n",
            "12/12 [==============================] - 4s 346ms/step - loss: 50.2344 - mae: 50.3963\n",
            "Epoch 12/100\n",
            "12/12 [==============================] - 4s 348ms/step - loss: 48.1493 - mae: 48.3203\n",
            "Epoch 13/100\n",
            "12/12 [==============================] - 4s 346ms/step - loss: 46.3469 - mae: 46.5276\n",
            "Epoch 14/100\n",
            "12/12 [==============================] - 4s 348ms/step - loss: 44.8374 - mae: 45.0277\n",
            "Epoch 15/100\n",
            "12/12 [==============================] - 4s 346ms/step - loss: 43.5976 - mae: 43.7990\n",
            "Epoch 16/100\n",
            "12/12 [==============================] - 4s 342ms/step - loss: 42.5599 - mae: 42.7725\n",
            "Epoch 17/100\n",
            "12/12 [==============================] - 4s 343ms/step - loss: 41.6401 - mae: 41.8637\n",
            "Epoch 18/100\n",
            "12/12 [==============================] - 4s 345ms/step - loss: 40.7971 - mae: 41.0316\n",
            "Epoch 19/100\n",
            "12/12 [==============================] - 4s 340ms/step - loss: 40.0066 - mae: 40.2502\n",
            "Epoch 20/100\n",
            "12/12 [==============================] - 4s 349ms/step - loss: 39.2516 - mae: 39.5037\n",
            "Epoch 21/100\n",
            "12/12 [==============================] - 4s 350ms/step - loss: 38.5018 - mae: 38.7622\n",
            "Epoch 22/100\n",
            "12/12 [==============================] - 4s 348ms/step - loss: 37.6536 - mae: 37.9251\n",
            "Epoch 23/100\n",
            "12/12 [==============================] - 4s 341ms/step - loss: 36.6116 - mae: 36.8974\n",
            "Epoch 24/100\n",
            "12/12 [==============================] - 4s 341ms/step - loss: 35.4554 - mae: 35.7561\n",
            "Epoch 25/100\n",
            "12/12 [==============================] - 4s 343ms/step - loss: 34.2928 - mae: 34.6124\n",
            "Epoch 26/100\n",
            "12/12 [==============================] - 4s 340ms/step - loss: 33.1539 - mae: 33.4851\n",
            "Epoch 27/100\n",
            "12/12 [==============================] - 4s 346ms/step - loss: 32.0168 - mae: 32.3622\n",
            "Epoch 28/100\n",
            "12/12 [==============================] - 4s 347ms/step - loss: 31.0494 - mae: 31.4062\n",
            "Epoch 29/100\n",
            "12/12 [==============================] - 4s 344ms/step - loss: 30.2568 - mae: 30.6244\n",
            "Epoch 30/100\n",
            "12/12 [==============================] - 4s 343ms/step - loss: 29.7004 - mae: 30.0788\n",
            "Epoch 31/100\n",
            "12/12 [==============================] - 4s 342ms/step - loss: 29.2814 - mae: 29.6641\n",
            "Epoch 32/100\n",
            "12/12 [==============================] - 4s 352ms/step - loss: 28.7757 - mae: 29.1674\n",
            "Epoch 33/100\n",
            "12/12 [==============================] - 4s 347ms/step - loss: 28.5145 - mae: 28.9213\n",
            "Epoch 34/100\n",
            "12/12 [==============================] - 4s 343ms/step - loss: 28.3717 - mae: 28.7886\n",
            "Epoch 35/100\n",
            "12/12 [==============================] - 4s 342ms/step - loss: 28.1632 - mae: 28.5757\n",
            "Epoch 36/100\n",
            "12/12 [==============================] - 4s 345ms/step - loss: 27.5649 - mae: 27.9769\n",
            "Epoch 37/100\n",
            "12/12 [==============================] - 4s 342ms/step - loss: 27.1874 - mae: 27.6007\n",
            "Epoch 38/100\n",
            "12/12 [==============================] - 4s 342ms/step - loss: 27.0168 - mae: 27.4365\n",
            "Epoch 39/100\n",
            "12/12 [==============================] - 4s 346ms/step - loss: 26.8605 - mae: 27.2629\n",
            "Epoch 40/100\n",
            "12/12 [==============================] - 4s 343ms/step - loss: 26.3290 - mae: 26.7292\n",
            "Epoch 41/100\n",
            "12/12 [==============================] - 4s 342ms/step - loss: 25.5991 - mae: 26.0118\n",
            "Epoch 42/100\n",
            "12/12 [==============================] - 4s 344ms/step - loss: 25.6075 - mae: 25.9974\n",
            "Epoch 43/100\n",
            "12/12 [==============================] - 4s 343ms/step - loss: 25.7147 - mae: 26.1235\n",
            "Epoch 44/100\n",
            "12/12 [==============================] - 4s 345ms/step - loss: 25.4167 - mae: 25.8240\n",
            "Epoch 45/100\n",
            "12/12 [==============================] - 4s 341ms/step - loss: 24.4851 - mae: 24.9107\n",
            "Epoch 46/100\n",
            "12/12 [==============================] - 4s 344ms/step - loss: 23.9028 - mae: 24.3112\n",
            "Epoch 47/100\n",
            "12/12 [==============================] - 4s 345ms/step - loss: 23.3513 - mae: 23.7734\n",
            "Epoch 48/100\n",
            "12/12 [==============================] - 4s 340ms/step - loss: 22.9242 - mae: 23.3498\n",
            "Epoch 49/100\n",
            "12/12 [==============================] - 4s 340ms/step - loss: 22.5785 - mae: 23.0000\n",
            "Epoch 50/100\n",
            "12/12 [==============================] - 4s 342ms/step - loss: 22.2857 - mae: 22.7121\n",
            "Epoch 51/100\n",
            "12/12 [==============================] - 4s 343ms/step - loss: 22.2507 - mae: 22.6879\n",
            "Epoch 52/100\n",
            "12/12 [==============================] - 4s 345ms/step - loss: 21.9695 - mae: 22.4142\n",
            "Epoch 53/100\n",
            "12/12 [==============================] - 4s 347ms/step - loss: 21.7861 - mae: 22.2271\n",
            "Epoch 54/100\n",
            "12/12 [==============================] - 4s 343ms/step - loss: 21.3907 - mae: 21.8272\n",
            "Epoch 55/100\n",
            "12/12 [==============================] - 4s 343ms/step - loss: 20.9888 - mae: 21.4176\n",
            "Epoch 56/100\n",
            "12/12 [==============================] - 4s 346ms/step - loss: 20.9431 - mae: 21.3626\n",
            "Epoch 57/100\n",
            "12/12 [==============================] - 4s 345ms/step - loss: 20.4420 - mae: 20.8717\n",
            "Epoch 58/100\n",
            "12/12 [==============================] - 4s 343ms/step - loss: 20.3244 - mae: 20.6865\n",
            "Epoch 59/100\n",
            "12/12 [==============================] - 4s 343ms/step - loss: 20.6998 - mae: 21.1484\n",
            "Epoch 60/100\n",
            "12/12 [==============================] - 4s 342ms/step - loss: 19.9331 - mae: 20.3632\n",
            "Epoch 61/100\n",
            "12/12 [==============================] - 4s 344ms/step - loss: 19.8845 - mae: 20.3118\n",
            "Epoch 62/100\n",
            "12/12 [==============================] - 4s 341ms/step - loss: 19.8450 - mae: 20.2835\n",
            "Epoch 63/100\n",
            "12/12 [==============================] - 4s 344ms/step - loss: 20.5400 - mae: 20.8531\n",
            "Epoch 64/100\n",
            "12/12 [==============================] - 4s 343ms/step - loss: 20.0240 - mae: 20.3753\n",
            "Epoch 65/100\n",
            "12/12 [==============================] - 4s 344ms/step - loss: 20.6968 - mae: 21.1196\n",
            "Epoch 66/100\n",
            "12/12 [==============================] - 4s 344ms/step - loss: 20.2383 - mae: 20.6108\n",
            "Epoch 67/100\n",
            "12/12 [==============================] - 4s 342ms/step - loss: 20.8619 - mae: 21.3070\n",
            "Epoch 68/100\n",
            "12/12 [==============================] - 4s 344ms/step - loss: 21.3951 - mae: 21.0548\n",
            "Epoch 69/100\n",
            "12/12 [==============================] - 4s 345ms/step - loss: 26.1125 - mae: 26.5056\n",
            "Epoch 70/100\n",
            "12/12 [==============================] - 4s 345ms/step - loss: 26.2201 - mae: 26.8235\n",
            "Epoch 71/100\n",
            "12/12 [==============================] - 4s 348ms/step - loss: 23.0181 - mae: 23.5530\n",
            "Epoch 72/100\n",
            "12/12 [==============================] - 4s 348ms/step - loss: 20.9905 - mae: 21.4004\n",
            "Epoch 73/100\n",
            "12/12 [==============================] - 4s 341ms/step - loss: 20.2708 - mae: 20.5621\n",
            "Epoch 74/100\n",
            "12/12 [==============================] - 4s 342ms/step - loss: 22.1338 - mae: 22.5977\n",
            "Epoch 75/100\n",
            "12/12 [==============================] - 4s 342ms/step - loss: 19.7185 - mae: 20.1998\n",
            "Epoch 76/100\n",
            "12/12 [==============================] - 4s 342ms/step - loss: 25.2680 - mae: 25.5678\n",
            "Epoch 77/100\n",
            "12/12 [==============================] - 4s 347ms/step - loss: 26.5931 - mae: 26.9950\n",
            "Epoch 78/100\n",
            "12/12 [==============================] - 4s 343ms/step - loss: 26.6525 - mae: 27.2148\n",
            "Epoch 79/100\n",
            "12/12 [==============================] - 4s 342ms/step - loss: 26.8677 - mae: 27.5443\n",
            "Epoch 80/100\n",
            "12/12 [==============================] - 4s 341ms/step - loss: 22.4169 - mae: 22.7050\n",
            "Epoch 81/100\n",
            "12/12 [==============================] - 4s 344ms/step - loss: 25.5772 - mae: 25.9790\n",
            "Epoch 82/100\n",
            "12/12 [==============================] - 4s 342ms/step - loss: 20.8966 - mae: 21.3725\n",
            "Epoch 83/100\n",
            "12/12 [==============================] - 4s 343ms/step - loss: 34.2390 - mae: 34.1730\n",
            "Epoch 84/100\n",
            "12/12 [==============================] - 4s 354ms/step - loss: 55.8987 - mae: 56.1740\n",
            "Epoch 85/100\n",
            "12/12 [==============================] - 4s 347ms/step - loss: 61.8465 - mae: 62.3736\n",
            "Epoch 86/100\n",
            "12/12 [==============================] - 4s 341ms/step - loss: 57.3297 - mae: 57.6293\n",
            "Epoch 87/100\n",
            "12/12 [==============================] - 4s 343ms/step - loss: 54.4588 - mae: 54.8684\n",
            "Epoch 88/100\n",
            "12/12 [==============================] - 4s 343ms/step - loss: 57.6392 - mae: 57.9608\n",
            "Epoch 89/100\n",
            "12/12 [==============================] - 4s 343ms/step - loss: 50.0471 - mae: 50.3065\n",
            "Epoch 90/100\n",
            "12/12 [==============================] - 4s 350ms/step - loss: 56.0527 - mae: 55.0515\n",
            "Epoch 91/100\n",
            "12/12 [==============================] - 4s 350ms/step - loss: 67.2755 - mae: 67.7751\n",
            "Epoch 92/100\n",
            "12/12 [==============================] - 4s 350ms/step - loss: 55.1185 - mae: 55.3647\n",
            "Epoch 93/100\n",
            "12/12 [==============================] - 4s 344ms/step - loss: 55.1160 - mae: 55.3303\n",
            "Epoch 94/100\n",
            "12/12 [==============================] - 4s 343ms/step - loss: 54.7590 - mae: 54.9589\n",
            "Epoch 95/100\n",
            "12/12 [==============================] - 4s 351ms/step - loss: 54.4825 - mae: 54.6948\n",
            "Epoch 96/100\n",
            "12/12 [==============================] - 4s 348ms/step - loss: 54.6906 - mae: 54.9177\n",
            "Epoch 97/100\n",
            "12/12 [==============================] - 4s 352ms/step - loss: 54.8663 - mae: 55.1114\n",
            "Epoch 98/100\n",
            "12/12 [==============================] - 4s 342ms/step - loss: 55.2269 - mae: 55.4783\n",
            "Epoch 99/100\n",
            "12/12 [==============================] - 4s 343ms/step - loss: 55.4474 - mae: 55.6597\n",
            "Epoch 100/100\n",
            "12/12 [==============================] - 4s 343ms/step - loss: 55.1079 - mae: 55.3541\n",
            "Epoch 1/500\n",
            "30/30 [==============================] - 6s 196ms/step - loss: 37.8896 - mae: 38.6059\n",
            "Epoch 2/500\n",
            "30/30 [==============================] - 4s 120ms/step - loss: 24.3137 - mae: 24.8470\n",
            "Epoch 3/500\n",
            "30/30 [==============================] - 4s 119ms/step - loss: 21.0376 - mae: 21.5412\n",
            "Epoch 4/500\n",
            "30/30 [==============================] - 4s 120ms/step - loss: 20.2604 - mae: 20.7556\n",
            "Epoch 5/500\n",
            "30/30 [==============================] - 4s 120ms/step - loss: 19.6226 - mae: 20.1157\n",
            "Epoch 6/500\n",
            "30/30 [==============================] - 4s 119ms/step - loss: 19.2406 - mae: 19.7160\n",
            "Epoch 7/500\n",
            "30/30 [==============================] - 4s 121ms/step - loss: 18.8684 - mae: 19.3572\n",
            "Epoch 8/500\n",
            "30/30 [==============================] - 4s 120ms/step - loss: 18.6414 - mae: 19.1303\n",
            "Epoch 9/500\n",
            "30/30 [==============================] - 4s 119ms/step - loss: 18.3319 - mae: 18.8184\n",
            "Epoch 10/500\n",
            "30/30 [==============================] - 4s 120ms/step - loss: 18.0562 - mae: 18.5398\n",
            "Epoch 11/500\n",
            "30/30 [==============================] - 4s 121ms/step - loss: 17.9810 - mae: 18.4535\n",
            "Epoch 12/500\n",
            "30/30 [==============================] - 4s 121ms/step - loss: 18.1221 - mae: 18.5999\n",
            "Epoch 13/500\n",
            "30/30 [==============================] - 4s 119ms/step - loss: 18.0651 - mae: 18.5252\n",
            "Epoch 14/500\n",
            "30/30 [==============================] - 4s 119ms/step - loss: 17.7861 - mae: 18.2709\n",
            "Epoch 15/500\n",
            "30/30 [==============================] - 4s 120ms/step - loss: 17.8317 - mae: 18.2976\n",
            "Epoch 16/500\n",
            "30/30 [==============================] - 4s 120ms/step - loss: 17.8733 - mae: 18.3504\n",
            "Epoch 17/500\n",
            "30/30 [==============================] - 4s 119ms/step - loss: 17.8476 - mae: 18.3366\n",
            "Epoch 18/500\n",
            "30/30 [==============================] - 4s 120ms/step - loss: 17.4424 - mae: 17.9248\n",
            "Epoch 19/500\n",
            "30/30 [==============================] - 4s 120ms/step - loss: 17.3558 - mae: 17.8342\n",
            "Epoch 20/500\n",
            "30/30 [==============================] - 4s 120ms/step - loss: 17.6471 - mae: 18.1257\n",
            "Epoch 21/500\n",
            "30/30 [==============================] - 4s 121ms/step - loss: 17.5979 - mae: 18.0850\n",
            "Epoch 22/500\n",
            "30/30 [==============================] - 4s 120ms/step - loss: 17.2557 - mae: 17.7383\n",
            "Epoch 23/500\n",
            "30/30 [==============================] - 4s 119ms/step - loss: 17.4762 - mae: 17.9535\n",
            "Epoch 24/500\n",
            "30/30 [==============================] - 4s 119ms/step - loss: 17.4770 - mae: 17.9421\n",
            "Epoch 25/500\n",
            "30/30 [==============================] - 4s 119ms/step - loss: 17.5380 - mae: 18.0132\n",
            "Epoch 26/500\n",
            "30/30 [==============================] - 4s 119ms/step - loss: 17.2549 - mae: 17.7340\n",
            "Epoch 27/500\n",
            "30/30 [==============================] - 4s 120ms/step - loss: 17.1579 - mae: 17.6354\n",
            "Epoch 28/500\n",
            "30/30 [==============================] - 4s 119ms/step - loss: 17.2286 - mae: 17.7137\n",
            "Epoch 29/500\n",
            "30/30 [==============================] - 4s 120ms/step - loss: 17.0821 - mae: 17.5609\n",
            "Epoch 30/500\n",
            "30/30 [==============================] - 4s 119ms/step - loss: 17.1587 - mae: 17.6405\n",
            "Epoch 31/500\n",
            "30/30 [==============================] - 4s 120ms/step - loss: 17.1101 - mae: 17.5918\n",
            "Epoch 32/500\n",
            "30/30 [==============================] - 4s 121ms/step - loss: 17.0714 - mae: 17.5552\n",
            "Epoch 33/500\n",
            "30/30 [==============================] - 4s 120ms/step - loss: 17.0534 - mae: 17.5376\n",
            "Epoch 34/500\n",
            "30/30 [==============================] - 4s 123ms/step - loss: 17.0213 - mae: 17.5062\n",
            "Epoch 35/500\n",
            "30/30 [==============================] - 4s 120ms/step - loss: 16.9862 - mae: 17.4670\n",
            "Epoch 36/500\n",
            "30/30 [==============================] - 4s 119ms/step - loss: 16.9095 - mae: 17.3828\n",
            "Epoch 37/500\n",
            "30/30 [==============================] - 4s 120ms/step - loss: 17.1090 - mae: 17.5953\n",
            "Epoch 38/500\n",
            "30/30 [==============================] - 4s 121ms/step - loss: 16.9883 - mae: 17.4645\n",
            "Epoch 39/500\n",
            "30/30 [==============================] - 4s 119ms/step - loss: 17.0849 - mae: 17.5704\n",
            "Epoch 40/500\n",
            "30/30 [==============================] - 4s 120ms/step - loss: 16.8545 - mae: 17.3374\n",
            "Epoch 41/500\n",
            "30/30 [==============================] - 4s 120ms/step - loss: 16.9221 - mae: 17.4053\n",
            "Epoch 42/500\n",
            "30/30 [==============================] - 4s 119ms/step - loss: 16.9210 - mae: 17.3926\n",
            "Epoch 43/500\n",
            "30/30 [==============================] - 4s 120ms/step - loss: 17.1371 - mae: 17.6142\n",
            "Epoch 44/500\n",
            "30/30 [==============================] - 4s 120ms/step - loss: 16.8160 - mae: 17.2977\n",
            "Epoch 45/500\n",
            "30/30 [==============================] - 4s 120ms/step - loss: 16.8466 - mae: 17.3287\n",
            "Epoch 46/500\n",
            "30/30 [==============================] - 4s 120ms/step - loss: 16.8060 - mae: 17.2885\n",
            "Epoch 47/500\n",
            "30/30 [==============================] - 4s 120ms/step - loss: 16.8747 - mae: 17.3591\n",
            "Epoch 48/500\n",
            "30/30 [==============================] - 4s 120ms/step - loss: 16.7896 - mae: 17.2722\n",
            "Epoch 49/500\n",
            "30/30 [==============================] - 4s 120ms/step - loss: 16.7441 - mae: 17.2259\n",
            "Epoch 50/500\n",
            "30/30 [==============================] - 4s 119ms/step - loss: 16.7234 - mae: 17.2055\n",
            "Epoch 51/500\n",
            "30/30 [==============================] - 4s 121ms/step - loss: 16.7007 - mae: 17.1832\n",
            "Epoch 52/500\n",
            "30/30 [==============================] - 4s 120ms/step - loss: 16.7465 - mae: 17.2262\n",
            "Epoch 53/500\n",
            "30/30 [==============================] - 4s 120ms/step - loss: 16.7266 - mae: 17.2071\n",
            "Epoch 54/500\n",
            "30/30 [==============================] - 4s 121ms/step - loss: 16.6735 - mae: 17.1553\n",
            "Epoch 55/500\n",
            "30/30 [==============================] - 4s 121ms/step - loss: 16.6545 - mae: 17.1368\n",
            "Epoch 56/500\n",
            "30/30 [==============================] - 4s 123ms/step - loss: 16.7774 - mae: 17.2513\n",
            "Epoch 57/500\n",
            "30/30 [==============================] - 4s 121ms/step - loss: 16.9464 - mae: 17.4319\n",
            "Epoch 58/500\n",
            "30/30 [==============================] - 4s 120ms/step - loss: 16.6419 - mae: 17.1241\n",
            "Epoch 59/500\n",
            "30/30 [==============================] - 4s 120ms/step - loss: 16.7839 - mae: 17.2674\n",
            "Epoch 60/500\n",
            "30/30 [==============================] - 4s 119ms/step - loss: 16.6947 - mae: 17.1792\n",
            "Epoch 61/500\n",
            "30/30 [==============================] - 4s 119ms/step - loss: 16.5983 - mae: 17.0809\n",
            "Epoch 62/500\n",
            "30/30 [==============================] - 4s 120ms/step - loss: 16.6056 - mae: 17.0871\n",
            "Epoch 63/500\n",
            "30/30 [==============================] - 4s 120ms/step - loss: 16.6297 - mae: 17.1106\n",
            "Epoch 64/500\n",
            "30/30 [==============================] - 4s 120ms/step - loss: 16.6054 - mae: 17.0876\n",
            "Epoch 65/500\n",
            "30/30 [==============================] - 4s 124ms/step - loss: 16.7204 - mae: 17.1796\n",
            "Epoch 66/500\n",
            "30/30 [==============================] - 4s 121ms/step - loss: 17.1396 - mae: 17.6145\n",
            "Epoch 67/500\n",
            "30/30 [==============================] - 4s 119ms/step - loss: 16.8063 - mae: 17.2874\n",
            "Epoch 68/500\n",
            "30/30 [==============================] - 4s 121ms/step - loss: 16.7011 - mae: 17.1843\n",
            "Epoch 69/500\n",
            "30/30 [==============================] - 4s 121ms/step - loss: 16.6115 - mae: 17.0915\n",
            "Epoch 70/500\n",
            "30/30 [==============================] - 4s 119ms/step - loss: 16.7030 - mae: 17.1865\n",
            "Epoch 71/500\n",
            "30/30 [==============================] - 4s 119ms/step - loss: 16.5724 - mae: 17.0473\n",
            "Epoch 72/500\n",
            "30/30 [==============================] - 4s 120ms/step - loss: 16.7748 - mae: 17.2468\n",
            "Epoch 73/500\n",
            "30/30 [==============================] - 4s 119ms/step - loss: 16.8454 - mae: 17.3317\n",
            "Epoch 74/500\n",
            "30/30 [==============================] - 4s 120ms/step - loss: 16.7583 - mae: 17.2402\n",
            "Epoch 75/500\n",
            "30/30 [==============================] - 4s 118ms/step - loss: 16.7685 - mae: 17.2508\n",
            "Epoch 76/500\n",
            "30/30 [==============================] - 4s 121ms/step - loss: 16.7273 - mae: 17.2112\n",
            "Epoch 77/500\n",
            "30/30 [==============================] - 4s 122ms/step - loss: 16.6941 - mae: 17.1731\n",
            "Epoch 78/500\n",
            "30/30 [==============================] - 4s 122ms/step - loss: 16.6840 - mae: 17.1684\n",
            "Epoch 79/500\n",
            "30/30 [==============================] - 4s 123ms/step - loss: 16.5582 - mae: 17.0339\n",
            "Epoch 80/500\n",
            "30/30 [==============================] - 4s 123ms/step - loss: 16.7058 - mae: 17.1874\n",
            "Epoch 81/500\n",
            "30/30 [==============================] - 4s 123ms/step - loss: 16.6919 - mae: 17.1723\n",
            "Epoch 82/500\n",
            "30/30 [==============================] - 4s 121ms/step - loss: 16.5479 - mae: 17.0205\n",
            "Epoch 83/500\n",
            "30/30 [==============================] - 4s 119ms/step - loss: 16.7521 - mae: 17.2320\n",
            "Epoch 84/500\n",
            "30/30 [==============================] - 4s 120ms/step - loss: 16.4951 - mae: 16.9707\n",
            "Epoch 85/500\n",
            "30/30 [==============================] - 4s 120ms/step - loss: 16.6451 - mae: 17.1292\n",
            "Epoch 86/500\n",
            "30/30 [==============================] - 4s 120ms/step - loss: 16.5167 - mae: 16.9910\n",
            "Epoch 87/500\n",
            "30/30 [==============================] - 4s 120ms/step - loss: 16.6550 - mae: 17.1361\n",
            "Epoch 88/500\n",
            "30/30 [==============================] - 4s 120ms/step - loss: 16.4751 - mae: 16.9509\n",
            "Epoch 89/500\n",
            "30/30 [==============================] - 4s 119ms/step - loss: 16.6485 - mae: 17.1282\n",
            "Epoch 90/500\n",
            "30/30 [==============================] - 4s 119ms/step - loss: 16.4391 - mae: 16.9191\n",
            "Epoch 91/500\n",
            "30/30 [==============================] - 4s 120ms/step - loss: 16.5336 - mae: 17.0095\n",
            "Epoch 92/500\n",
            "30/30 [==============================] - 4s 119ms/step - loss: 16.6515 - mae: 17.1336\n",
            "Epoch 93/500\n",
            "30/30 [==============================] - 4s 121ms/step - loss: 16.3804 - mae: 16.8587\n",
            "Epoch 94/500\n",
            "30/30 [==============================] - 4s 120ms/step - loss: 16.5093 - mae: 16.9866\n",
            "Epoch 95/500\n",
            "30/30 [==============================] - 4s 119ms/step - loss: 16.6147 - mae: 17.0979\n",
            "Epoch 96/500\n",
            "30/30 [==============================] - 4s 120ms/step - loss: 16.3839 - mae: 16.8618\n",
            "Epoch 97/500\n",
            "30/30 [==============================] - 4s 119ms/step - loss: 16.4718 - mae: 16.9538\n",
            "Epoch 98/500\n",
            "30/30 [==============================] - 4s 120ms/step - loss: 16.4700 - mae: 16.9527\n",
            "Epoch 99/500\n",
            "30/30 [==============================] - 4s 120ms/step - loss: 16.4232 - mae: 16.8979\n",
            "Epoch 100/500\n",
            "30/30 [==============================] - 4s 121ms/step - loss: 16.5540 - mae: 17.0356\n",
            "Epoch 101/500\n",
            "30/30 [==============================] - 4s 120ms/step - loss: 16.3595 - mae: 16.8408\n",
            "Epoch 102/500\n",
            "30/30 [==============================] - 4s 120ms/step - loss: 16.3689 - mae: 16.8438\n",
            "Epoch 103/500\n",
            "30/30 [==============================] - 4s 119ms/step - loss: 16.5204 - mae: 17.0023\n",
            "Epoch 104/500\n",
            "30/30 [==============================] - 4s 120ms/step - loss: 16.3450 - mae: 16.8264\n",
            "Epoch 105/500\n",
            "30/30 [==============================] - 4s 120ms/step - loss: 16.3489 - mae: 16.8237\n",
            "Epoch 106/500\n",
            "30/30 [==============================] - 4s 120ms/step - loss: 16.4868 - mae: 16.9686\n",
            "Epoch 107/500\n",
            "30/30 [==============================] - 4s 120ms/step - loss: 16.3381 - mae: 16.8181\n",
            "Epoch 108/500\n",
            "30/30 [==============================] - 4s 121ms/step - loss: 16.3243 - mae: 16.8056\n",
            "Epoch 109/500\n",
            "30/30 [==============================] - 4s 121ms/step - loss: 16.3170 - mae: 16.7912\n",
            "Epoch 110/500\n",
            "30/30 [==============================] - 4s 120ms/step - loss: 16.4376 - mae: 16.9183\n",
            "Epoch 111/500\n",
            "30/30 [==============================] - 4s 119ms/step - loss: 16.3139 - mae: 16.7933\n",
            "Epoch 112/500\n",
            "30/30 [==============================] - 4s 120ms/step - loss: 16.2933 - mae: 16.7746\n",
            "Epoch 113/500\n",
            "30/30 [==============================] - 4s 119ms/step - loss: 16.2759 - mae: 16.7499\n",
            "Epoch 114/500\n",
            "30/30 [==============================] - 4s 120ms/step - loss: 16.3587 - mae: 16.8399\n",
            "Epoch 115/500\n",
            "30/30 [==============================] - 4s 119ms/step - loss: 16.3335 - mae: 16.8130\n",
            "Epoch 116/500\n",
            "30/30 [==============================] - 4s 119ms/step - loss: 16.3356 - mae: 16.8166\n",
            "Epoch 117/500\n",
            "30/30 [==============================] - 4s 119ms/step - loss: 16.3131 - mae: 16.7935\n",
            "Epoch 118/500\n",
            "30/30 [==============================] - 4s 119ms/step - loss: 16.3025 - mae: 16.7807\n",
            "Epoch 119/500\n",
            "30/30 [==============================] - 4s 121ms/step - loss: 16.3293 - mae: 16.8110\n",
            "Epoch 120/500\n",
            "30/30 [==============================] - 4s 119ms/step - loss: 16.2662 - mae: 16.7443\n",
            "Epoch 121/500\n",
            "30/30 [==============================] - 4s 122ms/step - loss: 16.2946 - mae: 16.7746\n",
            "Epoch 122/500\n",
            "30/30 [==============================] - 4s 121ms/step - loss: 16.2834 - mae: 16.7636\n",
            "Epoch 123/500\n",
            "30/30 [==============================] - 4s 122ms/step - loss: 16.2643 - mae: 16.7419\n",
            "Epoch 124/500\n",
            "30/30 [==============================] - 4s 120ms/step - loss: 16.2874 - mae: 16.7686\n",
            "Epoch 125/500\n",
            "30/30 [==============================] - 4s 122ms/step - loss: 16.2382 - mae: 16.7163\n",
            "Epoch 126/500\n",
            "30/30 [==============================] - 4s 120ms/step - loss: 16.2553 - mae: 16.7338\n",
            "Epoch 127/500\n",
            "30/30 [==============================] - 4s 119ms/step - loss: 16.2661 - mae: 16.7471\n",
            "Epoch 128/500\n",
            "30/30 [==============================] - 4s 120ms/step - loss: 16.2142 - mae: 16.6920\n",
            "Epoch 129/500\n",
            "30/30 [==============================] - 4s 120ms/step - loss: 16.2324 - mae: 16.7110\n",
            "Epoch 130/500\n",
            "30/30 [==============================] - 4s 121ms/step - loss: 16.2428 - mae: 16.7236\n",
            "Epoch 131/500\n",
            "30/30 [==============================] - 4s 120ms/step - loss: 16.1994 - mae: 16.6772\n",
            "Epoch 132/500\n",
            "30/30 [==============================] - 4s 120ms/step - loss: 16.2097 - mae: 16.6881\n",
            "Epoch 133/500\n",
            "30/30 [==============================] - 4s 120ms/step - loss: 16.2114 - mae: 16.6909\n",
            "Epoch 134/500\n",
            "30/30 [==============================] - 4s 120ms/step - loss: 16.2081 - mae: 16.6888\n",
            "Epoch 135/500\n",
            "30/30 [==============================] - 4s 119ms/step - loss: 16.1895 - mae: 16.6692\n",
            "Epoch 136/500\n",
            "30/30 [==============================] - 4s 120ms/step - loss: 16.1818 - mae: 16.6611\n",
            "Epoch 137/500\n",
            "30/30 [==============================] - 4s 121ms/step - loss: 16.1790 - mae: 16.6592\n",
            "Epoch 138/500\n",
            "30/30 [==============================] - 4s 121ms/step - loss: 16.1787 - mae: 16.6596\n",
            "Epoch 139/500\n",
            "30/30 [==============================] - 4s 120ms/step - loss: 16.1677 - mae: 16.6483\n",
            "Epoch 140/500\n",
            "30/30 [==============================] - 4s 121ms/step - loss: 16.1585 - mae: 16.6390\n",
            "Epoch 141/500\n",
            "30/30 [==============================] - 4s 120ms/step - loss: 16.1530 - mae: 16.6336\n",
            "Epoch 142/500\n",
            "30/30 [==============================] - 4s 120ms/step - loss: 16.1488 - mae: 16.6297\n",
            "Epoch 143/500\n",
            "30/30 [==============================] - 4s 121ms/step - loss: 16.1394 - mae: 16.6198\n",
            "Epoch 144/500\n",
            "30/30 [==============================] - 4s 122ms/step - loss: 16.1282 - mae: 16.6080\n",
            "Epoch 145/500\n",
            "30/30 [==============================] - 4s 122ms/step - loss: 16.1201 - mae: 16.5993\n",
            "Epoch 146/500\n",
            "30/30 [==============================] - 4s 121ms/step - loss: 16.1094 - mae: 16.5885\n",
            "Epoch 147/500\n",
            "30/30 [==============================] - 4s 120ms/step - loss: 16.1041 - mae: 16.5837\n",
            "Epoch 148/500\n",
            "30/30 [==============================] - 4s 121ms/step - loss: 16.1018 - mae: 16.5819\n",
            "Epoch 149/500\n",
            "30/30 [==============================] - 4s 122ms/step - loss: 16.1007 - mae: 16.5819\n",
            "Epoch 150/500\n",
            "30/30 [==============================] - 4s 123ms/step - loss: 16.0912 - mae: 16.5717\n",
            "Epoch 151/500\n",
            "30/30 [==============================] - 4s 121ms/step - loss: 16.0811 - mae: 16.5595\n",
            "Epoch 152/500\n",
            "30/30 [==============================] - 4s 121ms/step - loss: 16.0813 - mae: 16.5618\n",
            "Epoch 153/500\n",
            "30/30 [==============================] - 4s 120ms/step - loss: 16.0740 - mae: 16.5521\n",
            "Epoch 154/500\n",
            "30/30 [==============================] - 4s 122ms/step - loss: 16.0738 - mae: 16.5542\n",
            "Epoch 155/500\n",
            "30/30 [==============================] - 4s 121ms/step - loss: 16.0673 - mae: 16.5470\n",
            "Epoch 156/500\n",
            "30/30 [==============================] - 4s 120ms/step - loss: 16.0547 - mae: 16.5342\n",
            "Epoch 157/500\n",
            "30/30 [==============================] - 4s 119ms/step - loss: 16.0631 - mae: 16.5443\n",
            "Epoch 158/500\n",
            "30/30 [==============================] - 4s 120ms/step - loss: 16.0476 - mae: 16.5277\n",
            "Epoch 159/500\n",
            "30/30 [==============================] - 4s 120ms/step - loss: 16.0457 - mae: 16.5262\n",
            "Epoch 160/500\n",
            "30/30 [==============================] - 4s 121ms/step - loss: 16.0407 - mae: 16.5212\n",
            "Epoch 161/500\n",
            "30/30 [==============================] - 4s 119ms/step - loss: 16.0406 - mae: 16.5212\n",
            "Epoch 162/500\n",
            "30/30 [==============================] - 4s 120ms/step - loss: 16.0308 - mae: 16.5112\n",
            "Epoch 163/500\n",
            "30/30 [==============================] - 4s 119ms/step - loss: 16.0211 - mae: 16.5010\n",
            "Epoch 164/500\n",
            "30/30 [==============================] - 4s 120ms/step - loss: 16.0258 - mae: 16.5066\n",
            "Epoch 165/500\n",
            "30/30 [==============================] - 4s 123ms/step - loss: 16.0089 - mae: 16.4893\n",
            "Epoch 166/500\n",
            "30/30 [==============================] - 4s 123ms/step - loss: 16.0012 - mae: 16.4811\n",
            "Epoch 167/500\n",
            "30/30 [==============================] - 4s 124ms/step - loss: 16.0038 - mae: 16.4842\n",
            "Epoch 168/500\n",
            "30/30 [==============================] - 4s 120ms/step - loss: 16.0009 - mae: 16.4819\n",
            "Epoch 169/500\n",
            "30/30 [==============================] - 4s 120ms/step - loss: 15.9829 - mae: 16.4635\n",
            "Epoch 170/500\n",
            "30/30 [==============================] - 4s 120ms/step - loss: 15.9702 - mae: 16.4492\n",
            "Epoch 171/500\n",
            "30/30 [==============================] - 4s 121ms/step - loss: 15.9883 - mae: 16.4692\n",
            "Epoch 172/500\n",
            "30/30 [==============================] - 4s 120ms/step - loss: 15.9848 - mae: 16.4660\n",
            "Epoch 173/500\n",
            "30/30 [==============================] - 4s 121ms/step - loss: 15.9826 - mae: 16.4636\n",
            "Epoch 174/500\n",
            "30/30 [==============================] - 4s 120ms/step - loss: 15.9399 - mae: 16.4206\n",
            "Epoch 175/500\n",
            "30/30 [==============================] - 4s 121ms/step - loss: 15.9276 - mae: 16.4063\n",
            "Epoch 176/500\n",
            "30/30 [==============================] - 4s 120ms/step - loss: 15.9437 - mae: 16.4219\n",
            "Epoch 177/500\n",
            "30/30 [==============================] - 4s 120ms/step - loss: 15.9963 - mae: 16.4761\n",
            "Epoch 178/500\n",
            "30/30 [==============================] - 4s 120ms/step - loss: 15.8955 - mae: 16.3753\n",
            "Epoch 179/500\n",
            "30/30 [==============================] - 4s 119ms/step - loss: 15.8952 - mae: 16.3746\n",
            "Epoch 180/500\n",
            "30/30 [==============================] - 4s 119ms/step - loss: 15.9256 - mae: 16.4038\n",
            "Epoch 181/500\n",
            "30/30 [==============================] - 4s 121ms/step - loss: 15.9787 - mae: 16.4589\n",
            "Epoch 182/500\n",
            "30/30 [==============================] - 4s 120ms/step - loss: 15.8715 - mae: 16.3513\n",
            "Epoch 183/500\n",
            "30/30 [==============================] - 4s 120ms/step - loss: 15.8658 - mae: 16.3448\n",
            "Epoch 184/500\n",
            "30/30 [==============================] - 4s 121ms/step - loss: 15.9083 - mae: 16.3859\n",
            "Epoch 185/500\n",
            "30/30 [==============================] - 4s 120ms/step - loss: 15.9975 - mae: 16.4783\n",
            "Epoch 186/500\n",
            "30/30 [==============================] - 4s 120ms/step - loss: 15.8581 - mae: 16.3380\n",
            "Epoch 187/500\n",
            "30/30 [==============================] - 4s 120ms/step - loss: 15.8307 - mae: 16.3093\n",
            "Epoch 188/500\n",
            "30/30 [==============================] - 4s 121ms/step - loss: 15.8913 - mae: 16.3703\n",
            "Epoch 189/500\n",
            "30/30 [==============================] - 4s 122ms/step - loss: 15.9673 - mae: 16.4482\n",
            "Epoch 190/500\n",
            "30/30 [==============================] - 4s 120ms/step - loss: 15.8334 - mae: 16.3133\n",
            "Epoch 191/500\n",
            "30/30 [==============================] - 4s 119ms/step - loss: 15.8173 - mae: 16.2958\n",
            "Epoch 192/500\n",
            "30/30 [==============================] - 4s 119ms/step - loss: 15.8946 - mae: 16.3758\n",
            "Epoch 193/500\n",
            "30/30 [==============================] - 4s 119ms/step - loss: 15.9014 - mae: 16.3825\n",
            "Epoch 194/500\n",
            "30/30 [==============================] - 4s 121ms/step - loss: 15.8233 - mae: 16.3032\n",
            "Epoch 195/500\n",
            "30/30 [==============================] - 4s 120ms/step - loss: 15.8660 - mae: 16.3468\n",
            "Epoch 196/500\n",
            "30/30 [==============================] - 4s 120ms/step - loss: 15.8840 - mae: 16.3654\n",
            "Epoch 197/500\n",
            "30/30 [==============================] - 4s 119ms/step - loss: 15.8200 - mae: 16.3001\n",
            "Epoch 198/500\n",
            "30/30 [==============================] - 4s 120ms/step - loss: 15.8679 - mae: 16.3492\n",
            "Epoch 199/500\n",
            "30/30 [==============================] - 4s 120ms/step - loss: 15.8248 - mae: 16.3053\n",
            "Epoch 200/500\n",
            "30/30 [==============================] - 4s 120ms/step - loss: 15.8398 - mae: 16.3209\n",
            "Epoch 201/500\n",
            "30/30 [==============================] - 4s 121ms/step - loss: 15.8340 - mae: 16.3149\n",
            "Epoch 202/500\n",
            "30/30 [==============================] - 4s 120ms/step - loss: 15.8175 - mae: 16.2981\n",
            "Epoch 203/500\n",
            "30/30 [==============================] - 4s 119ms/step - loss: 15.8267 - mae: 16.3077\n",
            "Epoch 204/500\n",
            "30/30 [==============================] - 4s 121ms/step - loss: 15.8203 - mae: 16.3011\n",
            "Epoch 205/500\n",
            "30/30 [==============================] - 4s 120ms/step - loss: 15.8102 - mae: 16.2910\n",
            "Epoch 206/500\n",
            "30/30 [==============================] - 4s 120ms/step - loss: 15.8049 - mae: 16.2856\n",
            "Epoch 207/500\n",
            "30/30 [==============================] - 4s 120ms/step - loss: 15.8057 - mae: 16.2866\n",
            "Epoch 208/500\n",
            "30/30 [==============================] - 4s 119ms/step - loss: 15.7899 - mae: 16.2703\n",
            "Epoch 209/500\n",
            "30/30 [==============================] - 4s 121ms/step - loss: 15.7938 - mae: 16.2747\n",
            "Epoch 210/500\n",
            "30/30 [==============================] - 4s 121ms/step - loss: 15.7787 - mae: 16.2590\n",
            "Epoch 211/500\n",
            "30/30 [==============================] - 4s 122ms/step - loss: 15.7846 - mae: 16.2656\n",
            "Epoch 212/500\n",
            "30/30 [==============================] - 4s 121ms/step - loss: 15.7629 - mae: 16.2430\n",
            "Epoch 213/500\n",
            "30/30 [==============================] - 4s 120ms/step - loss: 15.7739 - mae: 16.2549\n",
            "Epoch 214/500\n",
            "30/30 [==============================] - 4s 120ms/step - loss: 15.7475 - mae: 16.2275\n",
            "Epoch 215/500\n",
            "30/30 [==============================] - 4s 120ms/step - loss: 15.7614 - mae: 16.2423\n",
            "Epoch 216/500\n",
            "30/30 [==============================] - 4s 120ms/step - loss: 15.7434 - mae: 16.2237\n",
            "Epoch 217/500\n",
            "30/30 [==============================] - 4s 119ms/step - loss: 15.7475 - mae: 16.2282\n",
            "Epoch 218/500\n",
            "30/30 [==============================] - 4s 120ms/step - loss: 15.7366 - mae: 16.2171\n",
            "Epoch 219/500\n",
            "30/30 [==============================] - 4s 119ms/step - loss: 15.7324 - mae: 16.2129\n",
            "Epoch 220/500\n",
            "30/30 [==============================] - 4s 121ms/step - loss: 15.7298 - mae: 16.2104\n",
            "Epoch 221/500\n",
            "30/30 [==============================] - 4s 119ms/step - loss: 15.7192 - mae: 16.1995\n",
            "Epoch 222/500\n",
            "30/30 [==============================] - 4s 121ms/step - loss: 15.7181 - mae: 16.1986\n",
            "Epoch 223/500\n",
            "30/30 [==============================] - 4s 120ms/step - loss: 15.7064 - mae: 16.1867\n",
            "Epoch 224/500\n",
            "30/30 [==============================] - 4s 120ms/step - loss: 15.7106 - mae: 16.1913\n",
            "Epoch 225/500\n",
            "30/30 [==============================] - 4s 120ms/step - loss: 15.6878 - mae: 16.1673\n",
            "Epoch 226/500\n",
            "30/30 [==============================] - 4s 121ms/step - loss: 15.7170 - mae: 16.1980\n",
            "Epoch 227/500\n",
            "30/30 [==============================] - 4s 119ms/step - loss: 15.6728 - mae: 16.1526\n",
            "Epoch 228/500\n",
            "30/30 [==============================] - 4s 119ms/step - loss: 15.6800 - mae: 16.1591\n",
            "Epoch 229/500\n",
            "30/30 [==============================] - 4s 120ms/step - loss: 15.7136 - mae: 16.1947\n",
            "Epoch 230/500\n",
            "30/30 [==============================] - 4s 120ms/step - loss: 15.6479 - mae: 16.1268\n",
            "Epoch 231/500\n",
            "30/30 [==============================] - 4s 119ms/step - loss: 15.6909 - mae: 16.1716\n",
            "Epoch 232/500\n",
            "30/30 [==============================] - 4s 121ms/step - loss: 15.6519 - mae: 16.1307\n",
            "Epoch 233/500\n",
            "30/30 [==============================] - 4s 123ms/step - loss: 15.6942 - mae: 16.1751\n",
            "Epoch 234/500\n",
            "30/30 [==============================] - 4s 123ms/step - loss: 15.6283 - mae: 16.1075\n",
            "Epoch 235/500\n",
            "30/30 [==============================] - 4s 121ms/step - loss: 15.6675 - mae: 16.1479\n",
            "Epoch 236/500\n",
            "30/30 [==============================] - 4s 119ms/step - loss: 15.6505 - mae: 16.1308\n",
            "Epoch 237/500\n",
            "30/30 [==============================] - 4s 120ms/step - loss: 15.6232 - mae: 16.1016\n",
            "Epoch 238/500\n",
            "30/30 [==============================] - 4s 120ms/step - loss: 15.6880 - mae: 16.1693\n",
            "Epoch 239/500\n",
            "30/30 [==============================] - 4s 120ms/step - loss: 15.6040 - mae: 16.0836\n",
            "Epoch 240/500\n",
            "30/30 [==============================] - 4s 120ms/step - loss: 15.6020 - mae: 16.0791\n",
            "Epoch 241/500\n",
            "30/30 [==============================] - 4s 120ms/step - loss: 15.7205 - mae: 16.2026\n",
            "Epoch 242/500\n",
            "30/30 [==============================] - 4s 119ms/step - loss: 15.5684 - mae: 16.0477\n",
            "Epoch 243/500\n",
            "30/30 [==============================] - 4s 119ms/step - loss: 15.6027 - mae: 16.0807\n",
            "Epoch 244/500\n",
            "30/30 [==============================] - 4s 121ms/step - loss: 15.6791 - mae: 16.1607\n",
            "Epoch 245/500\n",
            "30/30 [==============================] - 4s 119ms/step - loss: 15.5565 - mae: 16.0351\n",
            "Epoch 246/500\n",
            "30/30 [==============================] - 4s 119ms/step - loss: 15.6079 - mae: 16.0873\n",
            "Epoch 247/500\n",
            "30/30 [==============================] - 4s 120ms/step - loss: 15.6296 - mae: 16.1104\n",
            "Epoch 248/500\n",
            "30/30 [==============================] - 4s 120ms/step - loss: 15.5492 - mae: 16.0255\n",
            "Epoch 249/500\n",
            "30/30 [==============================] - 4s 120ms/step - loss: 15.7041 - mae: 16.1854\n",
            "Epoch 250/500\n",
            "30/30 [==============================] - 4s 122ms/step - loss: 15.5773 - mae: 16.0574\n",
            "Epoch 251/500\n",
            "30/30 [==============================] - 4s 122ms/step - loss: 15.5485 - mae: 16.0264\n",
            "Epoch 252/500\n",
            "30/30 [==============================] - 4s 124ms/step - loss: 15.6576 - mae: 16.1391\n",
            "Epoch 253/500\n",
            "30/30 [==============================] - 4s 123ms/step - loss: 15.5203 - mae: 15.9956\n",
            "Epoch 254/500\n",
            "30/30 [==============================] - 4s 122ms/step - loss: 15.7034 - mae: 16.1817\n",
            "Epoch 255/500\n",
            "30/30 [==============================] - 4s 121ms/step - loss: 15.7020 - mae: 16.1762\n",
            "Epoch 256/500\n",
            "30/30 [==============================] - 4s 122ms/step - loss: 15.8131 - mae: 16.2952\n",
            "Epoch 257/500\n",
            "30/30 [==============================] - 4s 121ms/step - loss: 15.6627 - mae: 16.1399\n",
            "Epoch 258/500\n",
            "30/30 [==============================] - 4s 120ms/step - loss: 15.6867 - mae: 16.1643\n",
            "Epoch 259/500\n",
            "30/30 [==============================] - 4s 117ms/step - loss: 15.6816 - mae: 16.1597\n",
            "Epoch 260/500\n",
            "30/30 [==============================] - 4s 119ms/step - loss: 15.6614 - mae: 16.1395\n",
            "Epoch 261/500\n",
            "30/30 [==============================] - 4s 120ms/step - loss: 15.6439 - mae: 16.1222\n",
            "Epoch 262/500\n",
            "30/30 [==============================] - 4s 120ms/step - loss: 15.6316 - mae: 16.1103\n",
            "Epoch 263/500\n",
            "30/30 [==============================] - 4s 118ms/step - loss: 15.6152 - mae: 16.0937\n",
            "Epoch 264/500\n",
            "30/30 [==============================] - 4s 120ms/step - loss: 15.6076 - mae: 16.0862\n",
            "Epoch 265/500\n",
            "30/30 [==============================] - 4s 120ms/step - loss: 15.5959 - mae: 16.0745\n",
            "Epoch 266/500\n",
            "30/30 [==============================] - 4s 119ms/step - loss: 15.5820 - mae: 16.0606\n",
            "Epoch 267/500\n",
            "30/30 [==============================] - 4s 121ms/step - loss: 15.5753 - mae: 16.0537\n",
            "Epoch 268/500\n",
            "30/30 [==============================] - 4s 120ms/step - loss: 15.5692 - mae: 16.0477\n",
            "Epoch 269/500\n",
            "30/30 [==============================] - 4s 121ms/step - loss: 15.5557 - mae: 16.0341\n",
            "Epoch 270/500\n",
            "30/30 [==============================] - 4s 121ms/step - loss: 15.5537 - mae: 16.0321\n",
            "Epoch 271/500\n",
            "30/30 [==============================] - 4s 119ms/step - loss: 15.5481 - mae: 16.0263\n",
            "Epoch 272/500\n",
            "30/30 [==============================] - 4s 119ms/step - loss: 15.5427 - mae: 16.0210\n",
            "Epoch 273/500\n",
            "30/30 [==============================] - 4s 120ms/step - loss: 15.5361 - mae: 16.0143\n",
            "Epoch 274/500\n",
            "30/30 [==============================] - 4s 120ms/step - loss: 15.5344 - mae: 16.0125\n",
            "Epoch 275/500\n",
            "30/30 [==============================] - 4s 119ms/step - loss: 15.5312 - mae: 16.0094\n",
            "Epoch 276/500\n",
            "30/30 [==============================] - 4s 122ms/step - loss: 15.5252 - mae: 16.0034\n",
            "Epoch 277/500\n",
            "30/30 [==============================] - 4s 122ms/step - loss: 15.5214 - mae: 15.9995\n",
            "Epoch 278/500\n",
            "30/30 [==============================] - 4s 122ms/step - loss: 15.5235 - mae: 16.0013\n",
            "Epoch 279/500\n",
            "30/30 [==============================] - 4s 121ms/step - loss: 15.5371 - mae: 16.0152\n",
            "Epoch 280/500\n",
            "30/30 [==============================] - 4s 120ms/step - loss: 15.5311 - mae: 16.0098\n",
            "Epoch 281/500\n",
            "30/30 [==============================] - 4s 120ms/step - loss: 15.4956 - mae: 15.9742\n",
            "Epoch 282/500\n",
            "30/30 [==============================] - 4s 120ms/step - loss: 15.4718 - mae: 15.9500\n",
            "Epoch 283/500\n",
            "30/30 [==============================] - 4s 120ms/step - loss: 15.4657 - mae: 15.9436\n",
            "Epoch 284/500\n",
            "30/30 [==============================] - 4s 120ms/step - loss: 15.4793 - mae: 15.9568\n",
            "Epoch 285/500\n",
            "30/30 [==============================] - 4s 121ms/step - loss: 15.4928 - mae: 15.9707\n",
            "Epoch 286/500\n",
            "30/30 [==============================] - 4s 119ms/step - loss: 15.4799 - mae: 15.9578\n",
            "Epoch 287/500\n",
            "30/30 [==============================] - 4s 120ms/step - loss: 15.4595 - mae: 15.9372\n",
            "Epoch 288/500\n",
            "30/30 [==============================] - 4s 120ms/step - loss: 15.4465 - mae: 15.9239\n",
            "Epoch 289/500\n",
            "30/30 [==============================] - 4s 119ms/step - loss: 15.4430 - mae: 15.9203\n",
            "Epoch 290/500\n",
            "30/30 [==============================] - 4s 121ms/step - loss: 15.4625 - mae: 15.9400\n",
            "Epoch 291/500\n",
            "30/30 [==============================] - 4s 119ms/step - loss: 15.4482 - mae: 15.9257\n",
            "Epoch 292/500\n",
            "30/30 [==============================] - 4s 119ms/step - loss: 15.4369 - mae: 15.9142\n",
            "Epoch 293/500\n",
            "30/30 [==============================] - 4s 120ms/step - loss: 15.4310 - mae: 15.9082\n",
            "Epoch 294/500\n",
            "30/30 [==============================] - 4s 121ms/step - loss: 15.4284 - mae: 15.9056\n",
            "Epoch 295/500\n",
            "30/30 [==============================] - 4s 120ms/step - loss: 15.4357 - mae: 15.9132\n",
            "Epoch 296/500\n",
            "30/30 [==============================] - 4s 120ms/step - loss: 15.4250 - mae: 15.9024\n",
            "Epoch 297/500\n",
            "30/30 [==============================] - 4s 120ms/step - loss: 15.4190 - mae: 15.8964\n",
            "Epoch 298/500\n",
            "30/30 [==============================] - 4s 120ms/step - loss: 15.4139 - mae: 15.8913\n",
            "Epoch 299/500\n",
            "30/30 [==============================] - 4s 123ms/step - loss: 15.4082 - mae: 15.8856\n",
            "Epoch 300/500\n",
            "30/30 [==============================] - 4s 122ms/step - loss: 15.4030 - mae: 15.8803\n",
            "Epoch 301/500\n",
            "30/30 [==============================] - 4s 120ms/step - loss: 15.3958 - mae: 15.8730\n",
            "Epoch 302/500\n",
            "30/30 [==============================] - 4s 121ms/step - loss: 15.3982 - mae: 15.8755\n",
            "Epoch 303/500\n",
            "30/30 [==============================] - 4s 120ms/step - loss: 15.3922 - mae: 15.8696\n",
            "Epoch 304/500\n",
            "30/30 [==============================] - 4s 121ms/step - loss: 15.3838 - mae: 15.8611\n",
            "Epoch 305/500\n",
            "30/30 [==============================] - 4s 120ms/step - loss: 15.3839 - mae: 15.8611\n",
            "Epoch 306/500\n",
            "30/30 [==============================] - 4s 121ms/step - loss: 15.3831 - mae: 15.8605\n",
            "Epoch 307/500\n",
            "30/30 [==============================] - 4s 120ms/step - loss: 15.3762 - mae: 15.8535\n",
            "Epoch 308/500\n",
            "30/30 [==============================] - 4s 120ms/step - loss: 15.3701 - mae: 15.8472\n",
            "Epoch 309/500\n",
            "30/30 [==============================] - 4s 120ms/step - loss: 15.3772 - mae: 15.8545\n",
            "Epoch 310/500\n",
            "30/30 [==============================] - 4s 120ms/step - loss: 15.3637 - mae: 15.8411\n",
            "Epoch 311/500\n",
            "30/30 [==============================] - 4s 120ms/step - loss: 15.3589 - mae: 15.8360\n",
            "Epoch 312/500\n",
            "30/30 [==============================] - 4s 120ms/step - loss: 15.3624 - mae: 15.8399\n",
            "Epoch 313/500\n",
            "30/30 [==============================] - 4s 119ms/step - loss: 15.3499 - mae: 15.8272\n",
            "Epoch 314/500\n",
            "30/30 [==============================] - 4s 120ms/step - loss: 15.3468 - mae: 15.8242\n",
            "Epoch 315/500\n",
            "30/30 [==============================] - 4s 120ms/step - loss: 15.3412 - mae: 15.8184\n",
            "Epoch 316/500\n",
            "30/30 [==============================] - 4s 119ms/step - loss: 15.3393 - mae: 15.8166\n",
            "Epoch 317/500\n",
            "30/30 [==============================] - 4s 120ms/step - loss: 15.3366 - mae: 15.8141\n",
            "Epoch 318/500\n",
            "30/30 [==============================] - 4s 123ms/step - loss: 15.3301 - mae: 15.8077\n",
            "Epoch 319/500\n",
            "30/30 [==============================] - 4s 123ms/step - loss: 15.3201 - mae: 15.7975\n",
            "Epoch 320/500\n",
            "30/30 [==============================] - 4s 121ms/step - loss: 15.3077 - mae: 15.7847\n",
            "Epoch 321/500\n",
            "30/30 [==============================] - 4s 123ms/step - loss: 15.2985 - mae: 15.7755\n",
            "Epoch 322/500\n",
            "30/30 [==============================] - 4s 122ms/step - loss: 15.2941 - mae: 15.7707\n",
            "Epoch 323/500\n",
            "30/30 [==============================] - 4s 120ms/step - loss: 15.3009 - mae: 15.7774\n",
            "Epoch 324/500\n",
            "30/30 [==============================] - 4s 120ms/step - loss: 15.3103 - mae: 15.7870\n",
            "Epoch 325/500\n",
            "30/30 [==============================] - 4s 120ms/step - loss: 15.3121 - mae: 15.7896\n",
            "Epoch 326/500\n",
            "30/30 [==============================] - 4s 119ms/step - loss: 15.3036 - mae: 15.7814\n",
            "Epoch 327/500\n",
            "30/30 [==============================] - 4s 120ms/step - loss: 15.2835 - mae: 15.7608\n",
            "Epoch 328/500\n",
            "30/30 [==============================] - 4s 120ms/step - loss: 15.2697 - mae: 15.7463\n",
            "Epoch 329/500\n",
            "30/30 [==============================] - 4s 120ms/step - loss: 15.2716 - mae: 15.7484\n",
            "Epoch 330/500\n",
            "30/30 [==============================] - 4s 120ms/step - loss: 15.2779 - mae: 15.7546\n",
            "Epoch 331/500\n",
            "30/30 [==============================] - 4s 120ms/step - loss: 15.2865 - mae: 15.7638\n",
            "Epoch 332/500\n",
            "30/30 [==============================] - 4s 121ms/step - loss: 15.2755 - mae: 15.7530\n",
            "Epoch 333/500\n",
            "30/30 [==============================] - 4s 120ms/step - loss: 15.2614 - mae: 15.7385\n",
            "Epoch 334/500\n",
            "30/30 [==============================] - 4s 119ms/step - loss: 15.2483 - mae: 15.7254\n",
            "Epoch 335/500\n",
            "30/30 [==============================] - 4s 120ms/step - loss: 15.2461 - mae: 15.7229\n",
            "Epoch 336/500\n",
            "30/30 [==============================] - 4s 123ms/step - loss: 15.2464 - mae: 15.7233\n",
            "Epoch 337/500\n",
            "30/30 [==============================] - 4s 123ms/step - loss: 15.2452 - mae: 15.7221\n",
            "Epoch 338/500\n",
            "30/30 [==============================] - 4s 122ms/step - loss: 15.2482 - mae: 15.7248\n",
            "Epoch 339/500\n",
            "30/30 [==============================] - 4s 121ms/step - loss: 15.2445 - mae: 15.7213\n",
            "Epoch 340/500\n",
            "30/30 [==============================] - 4s 119ms/step - loss: 15.2363 - mae: 15.7131\n",
            "Epoch 341/500\n",
            "30/30 [==============================] - 4s 119ms/step - loss: 15.2319 - mae: 15.7086\n",
            "Epoch 342/500\n",
            "30/30 [==============================] - 4s 119ms/step - loss: 15.2252 - mae: 15.7017\n",
            "Epoch 343/500\n",
            "30/30 [==============================] - 4s 121ms/step - loss: 15.2247 - mae: 15.7012\n",
            "Epoch 344/500\n",
            "30/30 [==============================] - 4s 124ms/step - loss: 15.2252 - mae: 15.7017\n",
            "Epoch 345/500\n",
            "30/30 [==============================] - 4s 121ms/step - loss: 15.2234 - mae: 15.7001\n",
            "Epoch 346/500\n",
            "30/30 [==============================] - 4s 121ms/step - loss: 15.2143 - mae: 15.6911\n",
            "Epoch 347/500\n",
            "30/30 [==============================] - 4s 120ms/step - loss: 15.2030 - mae: 15.6795\n",
            "Epoch 348/500\n",
            "30/30 [==============================] - 4s 120ms/step - loss: 15.1982 - mae: 15.6748\n",
            "Epoch 349/500\n",
            "30/30 [==============================] - 4s 120ms/step - loss: 15.2025 - mae: 15.6789\n",
            "Epoch 350/500\n",
            "30/30 [==============================] - 4s 120ms/step - loss: 15.1975 - mae: 15.6740\n",
            "Epoch 351/500\n",
            "30/30 [==============================] - 4s 119ms/step - loss: 15.1974 - mae: 15.6740\n",
            "Epoch 352/500\n",
            "30/30 [==============================] - 4s 120ms/step - loss: 15.1966 - mae: 15.6735\n",
            "Epoch 353/500\n",
            "30/30 [==============================] - 4s 121ms/step - loss: 15.1878 - mae: 15.6647\n",
            "Epoch 354/500\n",
            "30/30 [==============================] - 4s 120ms/step - loss: 15.1817 - mae: 15.6585\n",
            "Epoch 355/500\n",
            "30/30 [==============================] - 4s 121ms/step - loss: 15.1703 - mae: 15.6469\n",
            "Epoch 356/500\n",
            "30/30 [==============================] - 4s 121ms/step - loss: 15.1626 - mae: 15.6392\n",
            "Epoch 357/500\n",
            "30/30 [==============================] - 4s 121ms/step - loss: 15.1578 - mae: 15.6341\n",
            "Epoch 358/500\n",
            "30/30 [==============================] - 4s 121ms/step - loss: 15.1627 - mae: 15.6390\n",
            "Epoch 359/500\n",
            "30/30 [==============================] - 4s 120ms/step - loss: 15.1668 - mae: 15.6433\n",
            "Epoch 360/500\n",
            "30/30 [==============================] - 4s 121ms/step - loss: 15.1653 - mae: 15.6420\n",
            "Epoch 361/500\n",
            "30/30 [==============================] - 4s 120ms/step - loss: 15.1613 - mae: 15.6382\n",
            "Epoch 362/500\n",
            "30/30 [==============================] - 4s 121ms/step - loss: 15.1494 - mae: 15.6261\n",
            "Epoch 363/500\n",
            "30/30 [==============================] - 4s 119ms/step - loss: 15.1396 - mae: 15.6160\n",
            "Epoch 364/500\n",
            "30/30 [==============================] - 4s 119ms/step - loss: 15.1343 - mae: 15.6107\n",
            "Epoch 365/500\n",
            "30/30 [==============================] - 4s 121ms/step - loss: 15.1362 - mae: 15.6126\n",
            "Epoch 366/500\n",
            "30/30 [==============================] - 4s 122ms/step - loss: 15.1383 - mae: 15.6148\n",
            "Epoch 367/500\n",
            "30/30 [==============================] - 4s 122ms/step - loss: 15.1396 - mae: 15.6163\n",
            "Epoch 368/500\n",
            "30/30 [==============================] - 4s 119ms/step - loss: 15.1368 - mae: 15.6137\n",
            "Epoch 369/500\n",
            "30/30 [==============================] - 4s 121ms/step - loss: 15.1276 - mae: 15.6046\n",
            "Epoch 370/500\n",
            "30/30 [==============================] - 4s 120ms/step - loss: 15.1161 - mae: 15.5929\n",
            "Epoch 371/500\n",
            "30/30 [==============================] - 4s 121ms/step - loss: 15.1092 - mae: 15.5859\n",
            "Epoch 372/500\n",
            "30/30 [==============================] - 4s 120ms/step - loss: 15.1090 - mae: 15.5855\n",
            "Epoch 373/500\n",
            "30/30 [==============================] - 4s 120ms/step - loss: 15.1085 - mae: 15.5850\n",
            "Epoch 374/500\n",
            "30/30 [==============================] - 4s 120ms/step - loss: 15.1045 - mae: 15.5811\n",
            "Epoch 375/500\n",
            "30/30 [==============================] - 4s 120ms/step - loss: 15.0973 - mae: 15.5737\n",
            "Epoch 376/500\n",
            "30/30 [==============================] - 4s 120ms/step - loss: 15.1001 - mae: 15.5765\n",
            "Epoch 377/500\n",
            "30/30 [==============================] - 4s 119ms/step - loss: 15.0998 - mae: 15.5763\n",
            "Epoch 378/500\n",
            "30/30 [==============================] - 4s 120ms/step - loss: 15.0941 - mae: 15.5706\n",
            "Epoch 379/500\n",
            "30/30 [==============================] - 4s 121ms/step - loss: 15.0959 - mae: 15.5724\n",
            "Epoch 380/500\n",
            "30/30 [==============================] - 4s 120ms/step - loss: 15.0936 - mae: 15.5702\n",
            "Epoch 381/500\n",
            "30/30 [==============================] - 4s 119ms/step - loss: 15.0892 - mae: 15.5656\n",
            "Epoch 382/500\n",
            "30/30 [==============================] - 4s 121ms/step - loss: 15.0926 - mae: 15.5693\n",
            "Epoch 383/500\n",
            "30/30 [==============================] - 4s 119ms/step - loss: 15.0868 - mae: 15.5638\n",
            "Epoch 384/500\n",
            "30/30 [==============================] - 4s 120ms/step - loss: 15.0852 - mae: 15.5625\n",
            "Epoch 385/500\n",
            "30/30 [==============================] - 4s 119ms/step - loss: 15.0768 - mae: 15.5543\n",
            "Epoch 386/500\n",
            "30/30 [==============================] - 4s 120ms/step - loss: 15.0711 - mae: 15.5486\n",
            "Epoch 387/500\n",
            "30/30 [==============================] - 4s 121ms/step - loss: 15.0649 - mae: 15.5423\n",
            "Epoch 388/500\n",
            "30/30 [==============================] - 4s 121ms/step - loss: 15.0624 - mae: 15.5400\n",
            "Epoch 389/500\n",
            "30/30 [==============================] - 4s 121ms/step - loss: 15.0582 - mae: 15.5361\n",
            "Epoch 390/500\n",
            "30/30 [==============================] - 4s 120ms/step - loss: 15.0452 - mae: 15.5228\n",
            "Epoch 391/500\n",
            "30/30 [==============================] - 4s 120ms/step - loss: 15.0437 - mae: 15.5213\n",
            "Epoch 392/500\n",
            "30/30 [==============================] - 4s 119ms/step - loss: 15.0370 - mae: 15.5142\n",
            "Epoch 393/500\n",
            "30/30 [==============================] - 4s 122ms/step - loss: 15.0412 - mae: 15.5186\n",
            "Epoch 394/500\n",
            "30/30 [==============================] - 4s 120ms/step - loss: 15.0371 - mae: 15.5145\n",
            "Epoch 395/500\n",
            "30/30 [==============================] - 4s 120ms/step - loss: 15.0364 - mae: 15.5140\n",
            "Epoch 396/500\n",
            "30/30 [==============================] - 4s 120ms/step - loss: 15.0276 - mae: 15.5054\n",
            "Epoch 397/500\n",
            "30/30 [==============================] - 4s 121ms/step - loss: 15.0160 - mae: 15.4934\n",
            "Epoch 398/500\n",
            "30/30 [==============================] - 4s 120ms/step - loss: 15.0171 - mae: 15.4944\n",
            "Epoch 399/500\n",
            "30/30 [==============================] - 4s 119ms/step - loss: 15.0168 - mae: 15.4942\n",
            "Epoch 400/500\n",
            "30/30 [==============================] - 4s 120ms/step - loss: 15.0158 - mae: 15.4936\n",
            "Epoch 401/500\n",
            "30/30 [==============================] - 4s 121ms/step - loss: 15.0116 - mae: 15.4896\n",
            "Epoch 402/500\n",
            "30/30 [==============================] - 4s 123ms/step - loss: 15.0030 - mae: 15.4810\n",
            "Epoch 403/500\n",
            "30/30 [==============================] - 4s 120ms/step - loss: 14.9951 - mae: 15.4730\n",
            "Epoch 404/500\n",
            "30/30 [==============================] - 4s 119ms/step - loss: 14.9884 - mae: 15.4657\n",
            "Epoch 405/500\n",
            "30/30 [==============================] - 4s 119ms/step - loss: 14.9853 - mae: 15.4627\n",
            "Epoch 406/500\n",
            "30/30 [==============================] - 4s 120ms/step - loss: 14.9830 - mae: 15.4602\n",
            "Epoch 407/500\n",
            "30/30 [==============================] - 4s 119ms/step - loss: 14.9803 - mae: 15.4575\n",
            "Epoch 408/500\n",
            "30/30 [==============================] - 4s 120ms/step - loss: 14.9747 - mae: 15.4518\n",
            "Epoch 409/500\n",
            "30/30 [==============================] - 4s 120ms/step - loss: 14.9684 - mae: 15.4452\n",
            "Epoch 410/500\n",
            "30/30 [==============================] - 4s 122ms/step - loss: 14.9668 - mae: 15.4437\n",
            "Epoch 411/500\n",
            "30/30 [==============================] - 4s 121ms/step - loss: 14.9628 - mae: 15.4395\n",
            "Epoch 412/500\n",
            "30/30 [==============================] - 4s 121ms/step - loss: 14.9621 - mae: 15.4389\n",
            "Epoch 413/500\n",
            "30/30 [==============================] - 4s 120ms/step - loss: 14.9575 - mae: 15.4342\n",
            "Epoch 414/500\n",
            "30/30 [==============================] - 4s 119ms/step - loss: 14.9574 - mae: 15.4342\n",
            "Epoch 415/500\n",
            "30/30 [==============================] - 4s 120ms/step - loss: 14.9597 - mae: 15.4367\n",
            "Epoch 416/500\n",
            "30/30 [==============================] - 4s 119ms/step - loss: 14.9609 - mae: 15.4381\n",
            "Epoch 417/500\n",
            "30/30 [==============================] - 4s 120ms/step - loss: 14.9636 - mae: 15.4413\n",
            "Epoch 418/500\n",
            "30/30 [==============================] - 4s 119ms/step - loss: 14.9590 - mae: 15.4370\n",
            "Epoch 419/500\n",
            "30/30 [==============================] - 4s 120ms/step - loss: 14.9551 - mae: 15.4334\n",
            "Epoch 420/500\n",
            "30/30 [==============================] - 4s 119ms/step - loss: 14.9523 - mae: 15.4312\n",
            "Epoch 421/500\n",
            "30/30 [==============================] - 4s 120ms/step - loss: 14.9413 - mae: 15.4199\n",
            "Epoch 422/500\n",
            "30/30 [==============================] - 4s 122ms/step - loss: 14.9393 - mae: 15.4179\n",
            "Epoch 423/500\n",
            "30/30 [==============================] - 4s 123ms/step - loss: 14.9337 - mae: 15.4123\n",
            "Epoch 424/500\n",
            "30/30 [==============================] - 4s 123ms/step - loss: 14.9291 - mae: 15.4077\n",
            "Epoch 425/500\n",
            "30/30 [==============================] - 4s 121ms/step - loss: 14.9229 - mae: 15.4014\n",
            "Epoch 426/500\n",
            "30/30 [==============================] - 4s 120ms/step - loss: 14.9172 - mae: 15.3953\n",
            "Epoch 427/500\n",
            "30/30 [==============================] - 4s 119ms/step - loss: 14.9090 - mae: 15.3869\n",
            "Epoch 428/500\n",
            "30/30 [==============================] - 4s 120ms/step - loss: 14.9024 - mae: 15.3799\n",
            "Epoch 429/500\n",
            "30/30 [==============================] - 4s 120ms/step - loss: 14.9000 - mae: 15.3775\n",
            "Epoch 430/500\n",
            "30/30 [==============================] - 4s 120ms/step - loss: 14.8900 - mae: 15.3673\n",
            "Epoch 431/500\n",
            "30/30 [==============================] - 4s 120ms/step - loss: 14.8677 - mae: 15.3451\n",
            "Epoch 432/500\n",
            "30/30 [==============================] - 4s 121ms/step - loss: 14.8472 - mae: 15.3248\n",
            "Epoch 433/500\n",
            "30/30 [==============================] - 4s 123ms/step - loss: 14.8261 - mae: 15.3042\n",
            "Epoch 434/500\n",
            "30/30 [==============================] - 4s 122ms/step - loss: 14.8062 - mae: 15.2840\n",
            "Epoch 435/500\n",
            "30/30 [==============================] - 4s 119ms/step - loss: 14.7952 - mae: 15.2738\n",
            "Epoch 436/500\n",
            "30/30 [==============================] - 4s 119ms/step - loss: 14.7654 - mae: 15.2433\n",
            "Epoch 437/500\n",
            "30/30 [==============================] - 4s 121ms/step - loss: 14.7590 - mae: 15.2371\n",
            "Epoch 438/500\n",
            "30/30 [==============================] - 4s 120ms/step - loss: 14.7409 - mae: 15.2188\n",
            "Epoch 439/500\n",
            "30/30 [==============================] - 4s 121ms/step - loss: 14.7369 - mae: 15.2145\n",
            "Epoch 440/500\n",
            "30/30 [==============================] - 4s 120ms/step - loss: 14.7359 - mae: 15.2128\n",
            "Epoch 441/500\n",
            "30/30 [==============================] - 4s 121ms/step - loss: 14.7529 - mae: 15.2294\n",
            "Epoch 442/500\n",
            "30/30 [==============================] - 4s 120ms/step - loss: 14.7586 - mae: 15.2364\n",
            "Epoch 443/500\n",
            "30/30 [==============================] - 4s 119ms/step - loss: 14.7411 - mae: 15.2179\n",
            "Epoch 444/500\n",
            "30/30 [==============================] - 4s 121ms/step - loss: 14.7496 - mae: 15.2256\n",
            "Epoch 445/500\n",
            "30/30 [==============================] - 4s 120ms/step - loss: 14.7623 - mae: 15.2386\n",
            "Epoch 446/500\n",
            "30/30 [==============================] - 4s 120ms/step - loss: 14.7594 - mae: 15.2359\n",
            "Epoch 447/500\n",
            "30/30 [==============================] - 4s 120ms/step - loss: 14.7482 - mae: 15.2246\n",
            "Epoch 448/500\n",
            "30/30 [==============================] - 4s 121ms/step - loss: 14.7512 - mae: 15.2256\n",
            "Epoch 449/500\n",
            "30/30 [==============================] - 4s 120ms/step - loss: 14.7993 - mae: 15.2779\n",
            "Epoch 450/500\n",
            "30/30 [==============================] - 4s 120ms/step - loss: 14.7277 - mae: 15.2037\n",
            "Epoch 451/500\n",
            "30/30 [==============================] - 4s 120ms/step - loss: 14.7533 - mae: 15.2273\n",
            "Epoch 452/500\n",
            "30/30 [==============================] - 4s 120ms/step - loss: 14.7952 - mae: 15.2748\n",
            "Epoch 453/500\n",
            "30/30 [==============================] - 4s 120ms/step - loss: 14.7063 - mae: 15.1814\n",
            "Epoch 454/500\n",
            "30/30 [==============================] - 4s 124ms/step - loss: 14.7631 - mae: 15.2386\n",
            "Epoch 455/500\n",
            "30/30 [==============================] - 4s 121ms/step - loss: 14.7732 - mae: 15.2499\n",
            "Epoch 456/500\n",
            "30/30 [==============================] - 4s 120ms/step - loss: 14.7496 - mae: 15.2261\n",
            "Epoch 457/500\n",
            "30/30 [==============================] - 4s 120ms/step - loss: 14.7387 - mae: 15.2135\n",
            "Epoch 458/500\n",
            "30/30 [==============================] - 4s 120ms/step - loss: 14.7660 - mae: 15.2421\n",
            "Epoch 459/500\n",
            "30/30 [==============================] - 4s 120ms/step - loss: 14.7536 - mae: 15.2308\n",
            "Epoch 460/500\n",
            "30/30 [==============================] - 4s 121ms/step - loss: 14.7186 - mae: 15.1929\n",
            "Epoch 461/500\n",
            "30/30 [==============================] - 4s 119ms/step - loss: 14.7576 - mae: 15.2340\n",
            "Epoch 462/500\n",
            "30/30 [==============================] - 4s 119ms/step - loss: 14.7405 - mae: 15.2161\n",
            "Epoch 463/500\n",
            "30/30 [==============================] - 4s 121ms/step - loss: 14.7459 - mae: 15.2233\n",
            "Epoch 464/500\n",
            "30/30 [==============================] - 4s 120ms/step - loss: 14.7082 - mae: 15.1823\n",
            "Epoch 465/500\n",
            "30/30 [==============================] - 4s 120ms/step - loss: 14.7462 - mae: 15.2231\n",
            "Epoch 466/500\n",
            "30/30 [==============================] - 4s 121ms/step - loss: 14.7128 - mae: 15.1876\n",
            "Epoch 467/500\n",
            "30/30 [==============================] - 4s 120ms/step - loss: 14.7396 - mae: 15.2177\n",
            "Epoch 468/500\n",
            "30/30 [==============================] - 4s 120ms/step - loss: 14.6750 - mae: 15.1490\n",
            "Epoch 469/500\n",
            "30/30 [==============================] - 4s 121ms/step - loss: 14.7325 - mae: 15.2082\n",
            "Epoch 470/500\n",
            "30/30 [==============================] - 4s 118ms/step - loss: 14.7191 - mae: 15.1959\n",
            "Epoch 471/500\n",
            "30/30 [==============================] - 4s 119ms/step - loss: 14.6834 - mae: 15.1574\n",
            "Epoch 472/500\n",
            "30/30 [==============================] - 4s 121ms/step - loss: 14.7225 - mae: 15.2007\n",
            "Epoch 473/500\n",
            "30/30 [==============================] - 4s 120ms/step - loss: 14.6300 - mae: 15.1033\n",
            "Epoch 474/500\n",
            "30/30 [==============================] - 4s 120ms/step - loss: 14.7171 - mae: 15.1931\n",
            "Epoch 475/500\n",
            "30/30 [==============================] - 4s 120ms/step - loss: 14.6865 - mae: 15.1614\n",
            "Epoch 476/500\n",
            "30/30 [==============================] - 4s 122ms/step - loss: 14.6942 - mae: 15.1701\n",
            "Epoch 477/500\n",
            "30/30 [==============================] - 4s 121ms/step - loss: 14.6815 - mae: 15.1562\n",
            "Epoch 478/500\n",
            "30/30 [==============================] - 4s 121ms/step - loss: 14.6963 - mae: 15.1730\n",
            "Epoch 479/500\n",
            "30/30 [==============================] - 4s 120ms/step - loss: 14.6516 - mae: 15.1249\n",
            "Epoch 480/500\n",
            "30/30 [==============================] - 4s 119ms/step - loss: 14.7075 - mae: 15.1856\n",
            "Epoch 481/500\n",
            "30/30 [==============================] - 4s 120ms/step - loss: 14.6256 - mae: 15.0971\n",
            "Epoch 482/500\n",
            "30/30 [==============================] - 4s 120ms/step - loss: 14.7322 - mae: 15.2145\n",
            "Epoch 483/500\n",
            "30/30 [==============================] - 4s 121ms/step - loss: 14.5774 - mae: 15.0521\n",
            "Epoch 484/500\n",
            "30/30 [==============================] - 4s 120ms/step - loss: 14.6449 - mae: 15.1149\n",
            "Epoch 485/500\n",
            "30/30 [==============================] - 4s 120ms/step - loss: 14.8674 - mae: 15.3445\n",
            "Epoch 486/500\n",
            "30/30 [==============================] - 4s 122ms/step - loss: 14.6951 - mae: 15.1767\n",
            "Epoch 487/500\n",
            "30/30 [==============================] - 4s 122ms/step - loss: 14.5554 - mae: 15.0313\n",
            "Epoch 488/500\n",
            "30/30 [==============================] - 4s 120ms/step - loss: 14.5959 - mae: 15.0650\n",
            "Epoch 489/500\n",
            "30/30 [==============================] - 4s 119ms/step - loss: 14.8240 - mae: 15.3052\n",
            "Epoch 490/500\n",
            "30/30 [==============================] - 4s 120ms/step - loss: 14.5971 - mae: 15.0731\n",
            "Epoch 491/500\n",
            "30/30 [==============================] - 4s 120ms/step - loss: 14.6331 - mae: 15.1062\n",
            "Epoch 492/500\n",
            "30/30 [==============================] - 4s 121ms/step - loss: 14.6785 - mae: 15.1581\n",
            "Epoch 493/500\n",
            "30/30 [==============================] - 4s 120ms/step - loss: 14.5661 - mae: 15.0376\n",
            "Epoch 494/500\n",
            "30/30 [==============================] - 4s 120ms/step - loss: 14.6962 - mae: 15.1786\n",
            "Epoch 495/500\n",
            "30/30 [==============================] - 4s 120ms/step - loss: 14.5328 - mae: 15.0051\n",
            "Epoch 496/500\n",
            "30/30 [==============================] - 4s 120ms/step - loss: 14.6723 - mae: 15.1502\n",
            "Epoch 497/500\n",
            "30/30 [==============================] - 4s 119ms/step - loss: 14.5884 - mae: 15.0601\n",
            "Epoch 498/500\n",
            "30/30 [==============================] - 4s 121ms/step - loss: 14.6835 - mae: 15.1656\n",
            "Epoch 499/500\n",
            "30/30 [==============================] - 4s 123ms/step - loss: 14.5250 - mae: 14.9968\n",
            "Epoch 500/500\n",
            "30/30 [==============================] - 4s 121ms/step - loss: 14.6739 - mae: 15.1532\n",
            "[126.17376   123.49763   118.71698   132.8444    119.71278   131.0426\n",
            " 159.7123    174.81494   180.8845    156.17044   156.6485    163.52107\n",
            " 163.59355   157.6514    177.47095   181.14268   183.77678   182.8567\n",
            " 181.68445   189.02428   190.51366   180.30048   181.54225   152.0596\n",
            " 145.45972   136.8493    131.70099   147.94078   156.38983   134.60303\n",
            " 178.43864   129.88184   143.20374   209.28867   170.33574   182.15956\n",
            " 202.31421   159.35117   142.91582   142.88327   140.5145    159.9052\n",
            " 145.63895   147.79672   164.54137   160.60583   166.6184    153.6318\n",
            " 148.37546   135.9055     97.30059   107.44273   102.77123    96.144775\n",
            " 114.076706  113.66007   101.71246    92.40133    89.772446   78.314896\n",
            "  72.03176    64.093575   77.93597    81.77874    71.38627    74.16182\n",
            "  69.083855   76.06215    69.93829    61.20775    70.01817    72.514496\n",
            "  59.53175    51.626617   50.728573   43.282234   39.69892    58.560474\n",
            "  40.985165   42.920464   47.79779    31.264198   28.0061     26.128742\n",
            "  48.400497   30.019093   34.435844   26.300856   37.457447   25.9598\n",
            "  23.093668   28.74928    18.832762   16.761314   15.524411   19.663446\n",
            "  15.778563   17.65447    11.911884   11.1977     13.1547     15.09428\n",
            "  15.214807   11.735165   11.0789     11.667721   10.602199    8.766566\n",
            "  13.577935    6.178041    3.4610257   8.697271    6.464595    6.6767483\n",
            "   8.307827    8.675051    8.795839    7.5356603   8.185103   10.088028\n",
            "   8.893371    7.2448745   6.394242    5.458184    4.7468395   4.680799\n",
            "   5.6833835   6.8940625   4.6092525   5.1983953   5.376409    7.088621\n",
            "  11.4576845  15.759966   25.38915    28.663387   31.121836   36.695568\n",
            "  30.126541   31.35311    41.79305    47.69974    51.39304    55.7703\n",
            "  54.23673    50.596203   51.447903   62.66424    68.83934    66.30468\n",
            "  69.68663    73.355415   82.68747   100.48644   104.94762   118.018486\n",
            " 108.22758    93.516716   65.40067    86.64652   103.43387   101.61243\n",
            " 109.8536    102.79262   101.379585   98.02118    88.6814     89.73434\n",
            "  77.74684    99.47359    95.62019    97.66094   117.90714   100.96791\n",
            " 106.675316   90.33117    91.93265    78.61991   103.622986   99.65776\n",
            "  93.193275  100.94481   110.909584  111.28593   102.55611   106.82485\n",
            "  92.984825   89.77823    94.47835   107.52413   106.205345  105.087875\n",
            " 124.89374   104.48465    92.07841    75.34975    84.08975    98.4753\n",
            "  83.826836   83.489746   80.26268    81.796524   77.13013    69.13313\n",
            "  62.924374   59.55352    59.143066   57.791233   49.266346   58.508324\n",
            "  44.59702    46.23823    42.089092   38.915306   34.06425    30.741915\n",
            "  28.542503   21.554144   19.563528   19.327827   20.267195   18.796528\n",
            "  15.954873   17.38999    19.98913    19.540808    9.844417    9.147181\n",
            "  11.002837   12.104769   11.096534    8.266052    9.091188    8.69845\n",
            "  11.169231 ]\n"
          ],
          "name": "stdout"
        },
        {
          "output_type": "display_data",
          "data": {
            "image/png": "[encoded data removed]",
            "text/plain": [
              "<Figure size 720x432 with 1 Axes>"
            ]
          },
          "metadata": {
            "tags": []
          }
        },
        {
          "output_type": "display_data",
          "data": {
            "image/png": "[encoded data removed]",
            "text/plain": [
              "<Figure size 720x432 with 1 Axes>"
            ]
          },
          "metadata": {
            "tags": []
          }
        },
        {
          "output_type": "display_data",
          "data": {
            "image/png": "[encoded data removed]",
            "text/plain": [
              "<Figure size 720x432 with 1 Axes>"
            ]
          },
          "metadata": {
            "tags": []
          }
        },
        {
          "output_type": "display_data",
          "data": {
            "image/png": "[encoded data removed]",
            "text/plain": [
              "<Figure size 432x288 with 1 Axes>"
            ]
          },
          "metadata": {
            "tags": []
          }
        },
        {
          "output_type": "display_data",
          "data": {
            "text/plain": [
              "<Figure size 432x288 with 0 Axes>"
            ]
          },
          "metadata": {
            "tags": []
          }
        }
      ]
    },
    {
      "cell_type": "code",
      "metadata": {
        "id": "zv0xSU3CRXuH",
        "colab_type": "code",
        "colab": {}
      },
      "source": [
        ""
      ],
      "execution_count": 0,
      "outputs": []
    },
    {
      "cell_type": "markdown",
      "metadata": {
        "id": "_aFCZZdqdLQ0",
        "colab_type": "text"
      },
      "source": [
        "**PLEASE WORK**\n",
        "\n",
        "**PLEASE WORK**\n",
        "\n",
        "**PLEASE WORK**\n",
        "\n",
        "**PLEASE WORK**\n",
        "\n",
        "**PLEASE WORK**\n",
        "\n",
        "**PLEASE WORK**\n",
        "\n",
        "**PLEASE WORK**\n",
        "\n",
        "**PLEASE WORK**"
      ]
    },
    {
      "cell_type": "code",
      "metadata": {
        "id": "I588RCTYdUZ1",
        "colab_type": "code",
        "outputId": "0b0e5cd7-f13c-47ea-e17c-06a3328c305f",
        "colab": {
          "base_uri": "https://localhost:8080/",
          "height": 121
        }
      },
      "source": [
        "from google.colab import drive\n",
        "drive.mount('/content/gdrive')\n"
      ],
      "execution_count": 0,
      "outputs": [
        {
          "output_type": "stream",
          "text": [
            "Go to this URL in a browser: https://accounts.google.com/o/oauth2/auth?client_id=947318989803-6bn6qk8qdgf4n4g3pfee6491hc0brc4i.apps.googleusercontent.com&redirect_uri=urn%3aietf%3awg%3aoauth%3a2.0%3aoob&response_type=code&scope=email%20https%3a%2f%2fwww.googleapis.com%2fauth%2fdocs.test%20https%3a%2f%2fwww.googleapis.com%2fauth%2fdrive%20https%3a%2f%2fwww.googleapis.com%2fauth%2fdrive.photos.readonly%20https%3a%2f%2fwww.googleapis.com%2fauth%2fpeopleapi.readonly\n",
            "\n",
            "Enter your authorization code:\n",
            "··········\n",
            "Mounted at /content/gdrive\n"
          ],
          "name": "stdout"
        }
      ]
    },
    {
      "cell_type": "code",
      "metadata": {
        "id": "VljxMKDAdWw2",
        "colab_type": "code",
        "colab": {}
      },
      "source": [
        "root_path = 'gdrive/My Drive/Colab Notebooks/'"
      ],
      "execution_count": 0,
      "outputs": []
    },
    {
      "cell_type": "code",
      "metadata": {
        "id": "W-ABz9EDd1Qu",
        "colab_type": "code",
        "colab": {}
      },
      "source": [
        "import csv\n",
        "load = []\n",
        "time_step = []\n",
        "\n",
        "with open(root_path +'ercot/ercot-dataset.csv') as csvfile:\n",
        "  reader = csv.reader(csvfile, delimiter=',')\n",
        "  next(reader)\n",
        "  i =0;\n",
        "  for row in reader:\n",
        "    load.append(float(row[10]))\n",
        "    time_step.append(i)\n",
        "    i += 1\n",
        "    "
      ],
      "execution_count": 0,
      "outputs": []
    },
    {
      "cell_type": "code",
      "metadata": {
        "id": "Y9Zgi5aje3DX",
        "colab_type": "code",
        "outputId": "171714cc-669f-4ad8-a269-918ea7796409",
        "colab": {
          "base_uri": "https://localhost:8080/",
          "height": 54
        }
      },
      "source": [
        "import numpy as np\n",
        "import matplotlib.pyplot as plt\n",
        "\n",
        "\n",
        "def plot_series(time, series, format=\"-\", start=0, end=None):\n",
        "    plt.plot(time[start:end], series[start:end], format)\n",
        "    plt.xlabel(\"Time\")\n",
        "    plt.ylabel(\"Value\")\n",
        "    plt.grid(True)\n",
        "\n",
        "series = np.array(load)\n",
        "time = np.array(time_step)\n",
        "#plt.figure(figsize=(10, 6))\n",
        "#plot_series(time, series)\n",
        "\n",
        "\n",
        "'''series = np.array(load[:1440])\n",
        "time = np.array(time_step[:1440])\n",
        "plt.figure(figsize=(10, 6))\n",
        "plot_series(time, series)\n",
        "\n",
        "\n",
        "series = np.array(load[:17520])\n",
        "time = np.array(time_step[:17520])\n",
        "plt.figure(figsize=(10, 6))\n",
        "plot_series(time, series)\n",
        "\n",
        "series = np.array(load[17520:35040])\n",
        "time = np.array(time_step[17520:35040])\n",
        "plt.figure(figsize=(10, 6))\n",
        "plot_series(time, series)\n",
        "\n",
        "series = np.array(load[35040:52560])\n",
        "time = np.array(time_step[35040:52560])\n",
        "plt.figure(figsize=(10, 6))\n",
        "plot_series(time, series)\n",
        "\n",
        "series = np.array(load[52560:70080])\n",
        "time = np.array(time_step[52560:70080])\n",
        "plt.figure(figsize=(10, 6))\n",
        "plot_series(time, series)'''"
      ],
      "execution_count": 0,
      "outputs": [
        {
          "output_type": "execute_result",
          "data": {
            "text/plain": [
              "'series = np.array(load[:1440])\\ntime = np.array(time_step[:1440])\\nplt.figure(figsize=(10, 6))\\nplot_series(time, series)\\n\\n\\nseries = np.array(load[:17520])\\ntime = np.array(time_step[:17520])\\nplt.figure(figsize=(10, 6))\\nplot_series(time, series)\\n\\nseries = np.array(load[17520:35040])\\ntime = np.array(time_step[17520:35040])\\nplt.figure(figsize=(10, 6))\\nplot_series(time, series)\\n\\nseries = np.array(load[35040:52560])\\ntime = np.array(time_step[35040:52560])\\nplt.figure(figsize=(10, 6))\\nplot_series(time, series)\\n\\nseries = np.array(load[52560:70080])\\ntime = np.array(time_step[52560:70080])\\nplt.figure(figsize=(10, 6))\\nplot_series(time, series)'"
            ]
          },
          "metadata": {
            "tags": []
          },
          "execution_count": 17
        }
      ]
    },
    {
      "cell_type": "code",
      "metadata": {
        "id": "a-1iRJslfF09",
        "colab_type": "code",
        "outputId": "f1fb84a1-1060-46fd-be83-5f8588f7c03c",
        "colab": {
          "base_uri": "https://localhost:8080/",
          "height": 229
        }
      },
      "source": [
        "split_time = 70000\n",
        "time_train = time[:split_time]\n",
        "x_train = load[:split_time]\n",
        "time_valid = time[split_time:]\n",
        "x_valid = load[split_time:]\n",
        "\n",
        "\n",
        "window_size = 2\n",
        "batch_size = 32\n",
        "shuffle_buffer_size = 1000\n"
      ],
      "execution_count": 0,
      "outputs": [
        {
          "output_type": "error",
          "ename": "TypeError",
          "evalue": "ignored",
          "traceback": [
            "\u001b[0;31m---------------------------------------------------------------------------\u001b[0m",
            "\u001b[0;31mTypeError\u001b[0m                                 Traceback (most recent call last)",
            "\u001b[0;32m<ipython-input-50-6a96eb774d81>\u001b[0m in \u001b[0;36m<module>\u001b[0;34m()\u001b[0m\n\u001b[1;32m      1\u001b[0m \u001b[0msplit_time\u001b[0m \u001b[0;34m=\u001b[0m \u001b[0;36m70000\u001b[0m\u001b[0;34m\u001b[0m\u001b[0;34m\u001b[0m\u001b[0m\n\u001b[0;32m----> 2\u001b[0;31m \u001b[0mtime_train\u001b[0m \u001b[0;34m=\u001b[0m \u001b[0mtime\u001b[0m\u001b[0;34m[\u001b[0m\u001b[0;34m:\u001b[0m\u001b[0msplit_time\u001b[0m\u001b[0;34m]\u001b[0m\u001b[0;34m\u001b[0m\u001b[0;34m\u001b[0m\u001b[0m\n\u001b[0m\u001b[1;32m      3\u001b[0m \u001b[0mx_train\u001b[0m \u001b[0;34m=\u001b[0m \u001b[0mload\u001b[0m\u001b[0;34m[\u001b[0m\u001b[0;34m:\u001b[0m\u001b[0msplit_time\u001b[0m\u001b[0;34m]\u001b[0m\u001b[0;34m\u001b[0m\u001b[0;34m\u001b[0m\u001b[0m\n\u001b[1;32m      4\u001b[0m \u001b[0mtime_valid\u001b[0m \u001b[0;34m=\u001b[0m \u001b[0mtime\u001b[0m\u001b[0;34m[\u001b[0m\u001b[0msplit_time\u001b[0m\u001b[0;34m:\u001b[0m\u001b[0;34m]\u001b[0m\u001b[0;34m\u001b[0m\u001b[0;34m\u001b[0m\u001b[0m\n\u001b[1;32m      5\u001b[0m \u001b[0mx_valid\u001b[0m \u001b[0;34m=\u001b[0m \u001b[0mload\u001b[0m\u001b[0;34m[\u001b[0m\u001b[0msplit_time\u001b[0m\u001b[0;34m:\u001b[0m\u001b[0;34m]\u001b[0m\u001b[0;34m\u001b[0m\u001b[0;34m\u001b[0m\u001b[0m\n",
            "\u001b[0;31mTypeError\u001b[0m: 'int' object is not subscriptable"
          ]
        }
      ]
    },
    {
      "cell_type": "code",
      "metadata": {
        "id": "h9TZyfaEH9GQ",
        "colab_type": "code",
        "colab": {}
      },
      "source": [
        "def windowed_dataset(series, window_size, batch_size, shuffle_buffer):\n",
        "  dataset = tf.data.Dataset.from_tensor_slices(series)\n",
        "  dataset = dataset.window(window_size + 1, shift=1, drop_remainder=True)\n",
        "  dataset = dataset.flat_map(lambda window: window.batch(window_size + 1))\n",
        "  dataset = dataset.shuffle(shuffle_buffer).map(lambda window: (window[:-1], window[-1]))\n",
        "  dataset = dataset.batch(batch_size).prefetch(1)\n",
        "  return dataset"
      ],
      "execution_count": 0,
      "outputs": []
    },
    {
      "cell_type": "code",
      "metadata": {
        "id": "gfZ1WbIcIFg7",
        "colab_type": "code",
        "outputId": "2eb44308-8177-40cd-9919-b06ba3d65347",
        "colab": {
          "base_uri": "https://localhost:8080/",
          "height": 1000
        }
      },
      "source": [
        "dataset = windowed_dataset(x_train, window_size, batch_size, shuffle_buffer_size)\n",
        "\n",
        "model = tf.keras.models.Sequential([\n",
        "    tf.keras.layers.Dense(20, input_shape=[window_size], activation=\"relu\"), \n",
        "    tf.keras.layers.Dense(10, activation=\"relu\"),\n",
        "    tf.keras.layers.Dense(1)\n",
        "])\n",
        "\n",
        "model.compile(loss=\"mean_absolute_percentage_error\", optimizer='adam', metrics=[\"mape\"])\n",
        "history = model.fit(dataset,epochs=100,verbose=1)\n",
        "\n",
        "\n"
      ],
      "execution_count": 0,
      "outputs": [
        {
          "output_type": "stream",
          "text": [
            "Epoch 1/100\n",
            "2188/2188 [==============================] - 18s 8ms/step - loss: 4.5649 - mape: 4.5657\n",
            "Epoch 2/100\n",
            "2188/2188 [==============================] - 10s 5ms/step - loss: 1.2696 - mape: 1.2697\n",
            "Epoch 3/100\n",
            "2188/2188 [==============================] - 10s 5ms/step - loss: 1.2174 - mape: 1.2174\n",
            "Epoch 4/100\n",
            "2188/2188 [==============================] - 10s 5ms/step - loss: 1.2141 - mape: 1.2142\n",
            "Epoch 5/100\n",
            "2188/2188 [==============================] - 10s 4ms/step - loss: 1.2166 - mape: 1.2167\n",
            "Epoch 6/100\n",
            "2188/2188 [==============================] - 11s 5ms/step - loss: 1.2128 - mape: 1.2129\n",
            "Epoch 7/100\n",
            "2188/2188 [==============================] - 10s 5ms/step - loss: 1.2130 - mape: 1.2130\n",
            "Epoch 8/100\n",
            "2188/2188 [==============================] - 10s 5ms/step - loss: 1.2126 - mape: 1.2127\n",
            "Epoch 9/100\n",
            "2188/2188 [==============================] - 10s 5ms/step - loss: 1.2100 - mape: 1.2101\n",
            "Epoch 10/100\n",
            "2188/2188 [==============================] - 10s 5ms/step - loss: 1.2103 - mape: 1.2103\n",
            "Epoch 11/100\n",
            "2188/2188 [==============================] - 10s 5ms/step - loss: 1.2055 - mape: 1.2056\n",
            "Epoch 12/100\n",
            "2188/2188 [==============================] - 10s 5ms/step - loss: 1.2093 - mape: 1.2093\n",
            "Epoch 13/100\n",
            "2188/2188 [==============================] - 10s 5ms/step - loss: 1.2067 - mape: 1.2068\n",
            "Epoch 14/100\n",
            "2188/2188 [==============================] - 10s 4ms/step - loss: 1.2036 - mape: 1.2037\n",
            "Epoch 15/100\n",
            "2188/2188 [==============================] - 10s 5ms/step - loss: 1.2037 - mape: 1.2038\n",
            "Epoch 16/100\n",
            "2188/2188 [==============================] - 10s 5ms/step - loss: 1.2029 - mape: 1.2029\n",
            "Epoch 17/100\n",
            "2188/2188 [==============================] - 11s 5ms/step - loss: 1.2021 - mape: 1.2021\n",
            "Epoch 18/100\n",
            "2188/2188 [==============================] - 10s 5ms/step - loss: 1.2023 - mape: 1.2023\n",
            "Epoch 19/100\n",
            "2188/2188 [==============================] - 10s 4ms/step - loss: 1.2005 - mape: 1.2005\n",
            "Epoch 20/100\n",
            "2188/2188 [==============================] - 10s 5ms/step - loss: 1.1989 - mape: 1.1990\n",
            "Epoch 21/100\n",
            "2188/2188 [==============================] - 10s 5ms/step - loss: 1.1999 - mape: 1.2000\n",
            "Epoch 22/100\n",
            "2188/2188 [==============================] - 10s 4ms/step - loss: 1.1990 - mape: 1.1991\n",
            "Epoch 23/100\n",
            "2188/2188 [==============================] - 10s 5ms/step - loss: 1.1980 - mape: 1.1980\n",
            "Epoch 24/100\n",
            "2188/2188 [==============================] - 11s 5ms/step - loss: 1.1982 - mape: 1.1982\n",
            "Epoch 25/100\n",
            "2188/2188 [==============================] - 10s 5ms/step - loss: 1.1951 - mape: 1.1952\n",
            "Epoch 26/100\n",
            "2188/2188 [==============================] - 10s 5ms/step - loss: 1.1963 - mape: 1.1963\n",
            "Epoch 27/100\n",
            "2188/2188 [==============================] - 10s 5ms/step - loss: 1.1942 - mape: 1.1942\n",
            "Epoch 28/100\n",
            "2188/2188 [==============================] - 10s 5ms/step - loss: 1.1931 - mape: 1.1931\n",
            "Epoch 29/100\n",
            "2188/2188 [==============================] - 10s 5ms/step - loss: 1.1911 - mape: 1.1912\n",
            "Epoch 30/100\n",
            "2188/2188 [==============================] - 11s 5ms/step - loss: 1.1923 - mape: 1.1924\n",
            "Epoch 31/100\n",
            "2188/2188 [==============================] - 11s 5ms/step - loss: 1.1918 - mape: 1.1919\n",
            "Epoch 32/100\n",
            "2188/2188 [==============================] - 11s 5ms/step - loss: 1.1908 - mape: 1.1908\n",
            "Epoch 33/100\n",
            "2188/2188 [==============================] - 11s 5ms/step - loss: 1.1901 - mape: 1.1901\n",
            "Epoch 34/100\n",
            "2188/2188 [==============================] - 10s 5ms/step - loss: 1.1887 - mape: 1.1888\n",
            "Epoch 35/100\n",
            "2188/2188 [==============================] - 11s 5ms/step - loss: 1.1898 - mape: 1.1898\n",
            "Epoch 36/100\n",
            "2188/2188 [==============================] - 11s 5ms/step - loss: 1.1893 - mape: 1.1893\n",
            "Epoch 37/100\n",
            "2188/2188 [==============================] - 10s 5ms/step - loss: 1.1868 - mape: 1.1868\n",
            "Epoch 38/100\n",
            "2188/2188 [==============================] - 10s 5ms/step - loss: 1.1852 - mape: 1.1853\n",
            "Epoch 39/100\n",
            "2188/2188 [==============================] - 10s 4ms/step - loss: 1.1846 - mape: 1.1846\n",
            "Epoch 40/100\n",
            "2188/2188 [==============================] - 10s 4ms/step - loss: 1.1850 - mape: 1.1851\n",
            "Epoch 41/100\n",
            "2188/2188 [==============================] - 10s 5ms/step - loss: 1.1848 - mape: 1.1848\n",
            "Epoch 42/100\n",
            "2188/2188 [==============================] - 10s 4ms/step - loss: 1.1822 - mape: 1.1822\n",
            "Epoch 43/100\n",
            "2188/2188 [==============================] - 10s 5ms/step - loss: 1.1813 - mape: 1.1814\n",
            "Epoch 44/100\n",
            "2188/2188 [==============================] - 10s 5ms/step - loss: 1.1819 - mape: 1.1819\n",
            "Epoch 45/100\n",
            "2188/2188 [==============================] - 10s 5ms/step - loss: 1.1793 - mape: 1.1793\n",
            "Epoch 46/100\n",
            "2188/2188 [==============================] - 10s 5ms/step - loss: 1.1805 - mape: 1.1805\n",
            "Epoch 47/100\n",
            "2188/2188 [==============================] - 10s 4ms/step - loss: 1.1819 - mape: 1.1820\n",
            "Epoch 48/100\n",
            "2188/2188 [==============================] - 10s 5ms/step - loss: 1.1803 - mape: 1.1803\n",
            "Epoch 49/100\n",
            "2188/2188 [==============================] - 10s 4ms/step - loss: 1.1791 - mape: 1.1791\n",
            "Epoch 50/100\n",
            "2188/2188 [==============================] - 10s 4ms/step - loss: 1.1786 - mape: 1.1786\n",
            "Epoch 51/100\n",
            "2188/2188 [==============================] - 10s 4ms/step - loss: 1.1778 - mape: 1.1778\n",
            "Epoch 52/100\n",
            "2188/2188 [==============================] - 10s 5ms/step - loss: 1.1777 - mape: 1.1777\n",
            "Epoch 53/100\n",
            "2188/2188 [==============================] - 10s 5ms/step - loss: 1.1778 - mape: 1.1779\n",
            "Epoch 54/100\n",
            "2188/2188 [==============================] - 10s 5ms/step - loss: 1.1751 - mape: 1.1752\n",
            "Epoch 55/100\n",
            "2188/2188 [==============================] - 10s 5ms/step - loss: 1.1758 - mape: 1.1759\n",
            "Epoch 56/100\n",
            "2188/2188 [==============================] - 10s 5ms/step - loss: 1.1751 - mape: 1.1751\n",
            "Epoch 57/100\n",
            "2188/2188 [==============================] - 10s 5ms/step - loss: 1.1738 - mape: 1.1739\n",
            "Epoch 58/100\n",
            "2188/2188 [==============================] - 10s 4ms/step - loss: 1.1754 - mape: 1.1755\n",
            "Epoch 59/100\n",
            "2188/2188 [==============================] - 10s 5ms/step - loss: 1.1715 - mape: 1.1716\n",
            "Epoch 60/100\n",
            "2188/2188 [==============================] - 10s 5ms/step - loss: 1.1676 - mape: 1.1677\n",
            "Epoch 61/100\n",
            "2188/2188 [==============================] - 10s 5ms/step - loss: 1.1693 - mape: 1.1694\n",
            "Epoch 62/100\n",
            "2188/2188 [==============================] - 10s 5ms/step - loss: 1.1643 - mape: 1.1643\n",
            "Epoch 63/100\n",
            "2188/2188 [==============================] - 10s 5ms/step - loss: 1.1653 - mape: 1.1654\n",
            "Epoch 64/100\n",
            "2188/2188 [==============================] - 10s 5ms/step - loss: 1.1660 - mape: 1.1660\n",
            "Epoch 65/100\n",
            "2188/2188 [==============================] - 10s 5ms/step - loss: 1.1644 - mape: 1.1644\n",
            "Epoch 66/100\n",
            "2188/2188 [==============================] - 10s 5ms/step - loss: 1.1648 - mape: 1.1649\n",
            "Epoch 67/100\n",
            "2188/2188 [==============================] - 10s 5ms/step - loss: 1.1616 - mape: 1.1617\n",
            "Epoch 68/100\n",
            "2188/2188 [==============================] - 10s 5ms/step - loss: 1.1626 - mape: 1.1626\n",
            "Epoch 69/100\n",
            "2188/2188 [==============================] - 10s 4ms/step - loss: 1.1617 - mape: 1.1617\n",
            "Epoch 70/100\n",
            "2188/2188 [==============================] - 11s 5ms/step - loss: 1.1621 - mape: 1.1621\n",
            "Epoch 71/100\n",
            "2188/2188 [==============================] - 10s 4ms/step - loss: 1.1611 - mape: 1.1611\n",
            "Epoch 72/100\n",
            "2188/2188 [==============================] - 10s 5ms/step - loss: 1.1621 - mape: 1.1621\n",
            "Epoch 73/100\n",
            "2188/2188 [==============================] - 11s 5ms/step - loss: 1.1601 - mape: 1.1601\n",
            "Epoch 74/100\n",
            "2188/2188 [==============================] - 10s 5ms/step - loss: 1.1608 - mape: 1.1608\n",
            "Epoch 75/100\n",
            "2188/2188 [==============================] - 10s 5ms/step - loss: 1.1591 - mape: 1.1592\n",
            "Epoch 76/100\n",
            "2188/2188 [==============================] - 10s 5ms/step - loss: 1.1598 - mape: 1.1599\n",
            "Epoch 77/100\n",
            "2188/2188 [==============================] - 10s 4ms/step - loss: 1.1588 - mape: 1.1588\n",
            "Epoch 78/100\n",
            "2188/2188 [==============================] - 10s 5ms/step - loss: 1.1589 - mape: 1.1589\n",
            "Epoch 79/100\n",
            "2188/2188 [==============================] - 10s 4ms/step - loss: 1.1570 - mape: 1.1571\n",
            "Epoch 80/100\n",
            "2188/2188 [==============================] - 10s 4ms/step - loss: 1.1589 - mape: 1.1589\n",
            "Epoch 81/100\n",
            "2188/2188 [==============================] - 9s 4ms/step - loss: 1.1574 - mape: 1.1574\n",
            "Epoch 82/100\n",
            "2188/2188 [==============================] - 10s 5ms/step - loss: 1.1554 - mape: 1.1555\n",
            "Epoch 83/100\n",
            "2188/2188 [==============================] - 10s 5ms/step - loss: 1.1567 - mape: 1.1568\n",
            "Epoch 84/100\n",
            "2188/2188 [==============================] - 10s 5ms/step - loss: 1.1563 - mape: 1.1564\n",
            "Epoch 85/100\n",
            "2188/2188 [==============================] - 10s 5ms/step - loss: 1.1566 - mape: 1.1566\n",
            "Epoch 86/100\n",
            "2188/2188 [==============================] - 10s 5ms/step - loss: 1.1566 - mape: 1.1567\n",
            "Epoch 87/100\n",
            "2188/2188 [==============================] - 10s 5ms/step - loss: 1.1559 - mape: 1.1560\n",
            "Epoch 88/100\n",
            "2188/2188 [==============================] - 10s 5ms/step - loss: 1.1559 - mape: 1.1560\n",
            "Epoch 89/100\n",
            "2188/2188 [==============================] - 10s 4ms/step - loss: 1.1545 - mape: 1.1546\n",
            "Epoch 90/100\n",
            "2188/2188 [==============================] - 10s 5ms/step - loss: 1.1550 - mape: 1.1551\n",
            "Epoch 91/100\n",
            "2188/2188 [==============================] - 10s 4ms/step - loss: 1.1559 - mape: 1.1560\n",
            "Epoch 92/100\n",
            "2188/2188 [==============================] - 10s 5ms/step - loss: 1.1539 - mape: 1.1540\n",
            "Epoch 93/100\n",
            "2188/2188 [==============================] - 9s 4ms/step - loss: 1.1536 - mape: 1.1536\n",
            "Epoch 94/100\n",
            "2188/2188 [==============================] - 10s 5ms/step - loss: 1.1540 - mape: 1.1541\n",
            "Epoch 95/100\n",
            "2188/2188 [==============================] - 10s 5ms/step - loss: 1.1556 - mape: 1.1557\n",
            "Epoch 96/100\n",
            "2188/2188 [==============================] - 10s 4ms/step - loss: 1.1527 - mape: 1.1528\n",
            "Epoch 97/100\n",
            "2188/2188 [==============================] - 10s 5ms/step - loss: 1.1547 - mape: 1.1548\n",
            "Epoch 98/100\n",
            "2188/2188 [==============================] - 10s 5ms/step - loss: 1.1538 - mape: 1.1539\n",
            "Epoch 99/100\n",
            "2188/2188 [==============================] - 10s 5ms/step - loss: 1.1538 - mape: 1.1538\n",
            "Epoch 100/100\n",
            "2188/2188 [==============================] - 11s 5ms/step - loss: 1.1519 - mape: 1.1520\n"
          ],
          "name": "stdout"
        }
      ]
    },
    {
      "cell_type": "code",
      "metadata": {
        "id": "DgFvop0_En3D",
        "colab_type": "code",
        "colab": {}
      },
      "source": [
        "forecast=[]\n",
        "for time in range(len(series) - window_size):\n",
        "  forecast.append(model.predict(series[time:time + window_size][np.newaxis]))\n",
        "\n",
        "forecast = forecast[split_time-window_size:]\n",
        "results = np.array(forecast)[:, 0, 0]\n",
        "\n",
        "\n",
        "#plt.figure(figsize=(10, 6))\n",
        "\n",
        "#plot_series(time_valid, x_valid)\n",
        "#plot_series(time_valid, results)"
      ],
      "execution_count": 0,
      "outputs": []
    },
    {
      "cell_type": "code",
      "metadata": {
        "id": "osfWCCOUFoPk",
        "colab_type": "code",
        "outputId": "34100967-bb05-4366-fd07-51f4fa22b61d",
        "colab": {
          "base_uri": "https://localhost:8080/",
          "height": 34
        }
      },
      "source": [
        "tf.keras.metrics.mean_absolute_percentage_error(x_valid, results).numpy()"
      ],
      "execution_count": 0,
      "outputs": [
        {
          "output_type": "execute_result",
          "data": {
            "text/plain": [
              "1.0635368"
            ]
          },
          "metadata": {
            "tags": []
          },
          "execution_count": 40
        }
      ]
    },
    {
      "cell_type": "code",
      "metadata": {
        "id": "80vdLouQNAgd",
        "colab_type": "code",
        "outputId": "84da4059-31c4-442c-e802-8b743628ff01",
        "colab": {
          "base_uri": "https://localhost:8080/",
          "height": 392
        }
      },
      "source": [
        "plt.figure(figsize=(10, 6))\n",
        "\n",
        "plot_series(time_valid[:250], x_valid[:250])\n",
        "plot_series(time_valid[:250], results[:250])"
      ],
      "execution_count": 0,
      "outputs": [
        {
          "output_type": "display_data",
          "data": {
            "image/png": "[encoded data removed]",
            "text/plain": [
              "<Figure size 720x432 with 1 Axes>"
            ]
          },
          "metadata": {
            "tags": []
          }
        }
      ]
    },
    {
      "cell_type": "code",
      "metadata": {
        "id": "va6c9rdvOeaO",
        "colab_type": "code",
        "outputId": "b2a36645-11a9-411c-a90c-267aeddd64bb",
        "colab": {
          "base_uri": "https://localhost:8080/",
          "height": 607
        }
      },
      "source": [
        "#-----------------------------------------------------------\n",
        "# Retrieve a list of list results on training and test data\n",
        "# sets for each training epoch\n",
        "#-----------------------------------------------------------\n",
        "mape=history.history['mape']\n",
        "loss=history.history['loss']\n",
        "\n",
        "epochs=range(len(loss)) # Get number of epochs\n",
        "\n",
        "#------------------------------------------------\n",
        "# Plot MAPE and Loss\n",
        "#------------------------------------------------\n",
        "plt.plot(epochs, mape, 'r')\n",
        "plt.plot(epochs, loss, 'b')\n",
        "plt.title('MAPE and Loss')\n",
        "plt.xlabel(\"Epochs\")\n",
        "plt.ylabel(\"Accuracy\")\n",
        "plt.legend([\"MAPE\", \"Loss\"])\n",
        "\n",
        "plt.figure()\n",
        "\n",
        "epochs_zoom = epochs[20:]\n",
        "mae_zoom = mape[20:]\n",
        "loss_zoom = loss[20:]\n",
        "\n",
        "#------------------------------------------------\n",
        "# Plot Zoomed MAPE and Loss\n",
        "#------------------------------------------------\n",
        "plt.plot(epochs_zoom, mae_zoom, 'r')\n",
        "plt.plot(epochs_zoom, loss_zoom, 'b')\n",
        "plt.title('MAPE and Loss')\n",
        "plt.xlabel(\"Epochs\")\n",
        "plt.ylabel(\"Accuracy\")\n",
        "plt.legend([\"MAPE\", \"Loss\"])\n",
        "\n",
        "plt.figure()"
      ],
      "execution_count": 0,
      "outputs": [
        {
          "output_type": "execute_result",
          "data": {
            "text/plain": [
              "<Figure size 432x288 with 0 Axes>"
            ]
          },
          "metadata": {
            "tags": []
          },
          "execution_count": 45
        },
        {
          "output_type": "display_data",
          "data": {
            "image/png": "[encoded data removed]",
            "text/plain": [
              "<Figure size 432x288 with 1 Axes>"
            ]
          },
          "metadata": {
            "tags": []
          }
        },
        {
          "output_type": "display_data",
          "data": {
            "image/png": "[encoded data removed]",
            "text/plain": [
              "<Figure size 432x288 with 1 Axes>"
            ]
          },
          "metadata": {
            "tags": []
          }
        },
        {
          "output_type": "display_data",
          "data": {
            "text/plain": [
              "<Figure size 432x288 with 0 Axes>"
            ]
          },
          "metadata": {
            "tags": []
          }
        }
      ]
    },
    {
      "cell_type": "code",
      "metadata": {
        "id": "6yI0R5MpS0az",
        "colab_type": "code",
        "outputId": "381501a6-1b44-4e78-94ba-034c81e6d887",
        "colab": {
          "base_uri": "https://localhost:8080/",
          "height": 404
        }
      },
      "source": [
        "dataset = windowed_dataset(x_train, window_size, batch_size, shuffle_buffer_size)\n",
        "\n",
        "model = tf.keras.models.Sequential([\n",
        "    tf.keras.layers.Dense(1)\n",
        "])\n",
        "\n",
        "model.compile(loss=\"mean_absolute_percentage_error\", optimizer='adam', metrics=[\"mean_absolute_percentage_error\"])\n",
        "history = model.fit(dataset,epochs=10,verbose=1)\n",
        "\n",
        "\n",
        "\n",
        "\n",
        "\n",
        "\n",
        "\n",
        "forecast=[]\n",
        "for time in range(len(series) - window_size):\n",
        "  forecast.append(model.predict(series[time:time + window_size][np.newaxis]))\n",
        "\n",
        "forecast = forecast[split_time-window_size:]\n",
        "results = np.array(forecast)[:, 0, 0]\n",
        "\n",
        "\n",
        "plt.figure(figsize=(10, 6))\n",
        "\n",
        "plot_series(time_valid, x_valid)\n",
        "plot_series(time_valid, results)\n",
        "\n",
        "\n",
        "\n",
        "\n",
        "\n",
        "\n",
        "\n",
        "tf.keras.metrics.mean_absolute_percentage_error(x_valid, results).numpy()\n",
        "\n",
        "\n",
        "\n",
        "\n",
        "\n",
        "plt.figure(figsize=(10, 6))\n",
        "\n",
        "plot_series(time_valid[:250], x_valid[:250])\n",
        "plot_series(time_valid[:250], results[:250])\n",
        "\n",
        "\n",
        "\n"
      ],
      "execution_count": 0,
      "outputs": [
        {
          "output_type": "stream",
          "text": [
            "Epoch 1/10\n",
            "   1222/Unknown - 11s 9ms/step - loss: 41.2798 - mean_absolute_percentage_error: 93.8951\b\b\b\b\b\b\b\b\b\b\b\b\b\b\b\b\b\b\b\b\b\b\b\b\b\b\b\b\b\b\b\b\b\b\b\b\b\b\b\b\b\b\b\b\b\b\b\b\b\b\b\b\b\b\b\b\b\b\b\b\b\b\b\b\b\b\b\b\b\b\b\b\b\b\b\b\b\b\b\b\b\b\b\b\b\b\b\b"
          ],
          "name": "stdout"
        },
        {
          "output_type": "error",
          "ename": "KeyboardInterrupt",
          "evalue": "ignored",
          "traceback": [
            "\u001b[0;31m---------------------------------------------------------------------------\u001b[0m",
            "\u001b[0;31mKeyboardInterrupt\u001b[0m                         Traceback (most recent call last)",
            "\u001b[0;32m<ipython-input-71-adc3f750d768>\u001b[0m in \u001b[0;36m<module>\u001b[0;34m()\u001b[0m\n\u001b[1;32m      6\u001b[0m \u001b[0;34m\u001b[0m\u001b[0m\n\u001b[1;32m      7\u001b[0m \u001b[0mmodel\u001b[0m\u001b[0;34m.\u001b[0m\u001b[0mcompile\u001b[0m\u001b[0;34m(\u001b[0m\u001b[0mloss\u001b[0m\u001b[0;34m=\u001b[0m\u001b[0;34m\"mean_absolute_percentage_error\"\u001b[0m\u001b[0;34m,\u001b[0m \u001b[0moptimizer\u001b[0m\u001b[0;34m=\u001b[0m\u001b[0;34m'adam'\u001b[0m\u001b[0;34m,\u001b[0m \u001b[0mmetrics\u001b[0m\u001b[0;34m=\u001b[0m\u001b[0;34m[\u001b[0m\u001b[0;34m\"mean_absolute_percentage_error\"\u001b[0m\u001b[0;34m]\u001b[0m\u001b[0;34m)\u001b[0m\u001b[0;34m\u001b[0m\u001b[0;34m\u001b[0m\u001b[0m\n\u001b[0;32m----> 8\u001b[0;31m \u001b[0mhistory\u001b[0m \u001b[0;34m=\u001b[0m \u001b[0mmodel\u001b[0m\u001b[0;34m.\u001b[0m\u001b[0mfit\u001b[0m\u001b[0;34m(\u001b[0m\u001b[0mdataset\u001b[0m\u001b[0;34m,\u001b[0m\u001b[0mepochs\u001b[0m\u001b[0;34m=\u001b[0m\u001b[0;36m10\u001b[0m\u001b[0;34m,\u001b[0m\u001b[0mverbose\u001b[0m\u001b[0;34m=\u001b[0m\u001b[0;36m1\u001b[0m\u001b[0;34m)\u001b[0m\u001b[0;34m\u001b[0m\u001b[0;34m\u001b[0m\u001b[0m\n\u001b[0m\u001b[1;32m      9\u001b[0m \u001b[0;34m\u001b[0m\u001b[0m\n\u001b[1;32m     10\u001b[0m \u001b[0;34m\u001b[0m\u001b[0m\n",
            "\u001b[0;32m/usr/local/lib/python3.6/dist-packages/tensorflow/python/keras/engine/training.py\u001b[0m in \u001b[0;36mfit\u001b[0;34m(self, x, y, batch_size, epochs, verbose, callbacks, validation_split, validation_data, shuffle, class_weight, sample_weight, initial_epoch, steps_per_epoch, validation_steps, validation_freq, max_queue_size, workers, use_multiprocessing, **kwargs)\u001b[0m\n\u001b[1;32m    641\u001b[0m         \u001b[0mmax_queue_size\u001b[0m\u001b[0;34m=\u001b[0m\u001b[0mmax_queue_size\u001b[0m\u001b[0;34m,\u001b[0m\u001b[0;34m\u001b[0m\u001b[0;34m\u001b[0m\u001b[0m\n\u001b[1;32m    642\u001b[0m         \u001b[0mworkers\u001b[0m\u001b[0;34m=\u001b[0m\u001b[0mworkers\u001b[0m\u001b[0;34m,\u001b[0m\u001b[0;34m\u001b[0m\u001b[0;34m\u001b[0m\u001b[0m\n\u001b[0;32m--> 643\u001b[0;31m         use_multiprocessing=use_multiprocessing)\n\u001b[0m\u001b[1;32m    644\u001b[0m \u001b[0;34m\u001b[0m\u001b[0m\n\u001b[1;32m    645\u001b[0m   def evaluate(self,\n",
            "\u001b[0;32m/usr/local/lib/python3.6/dist-packages/tensorflow/python/keras/engine/training_generator.py\u001b[0m in \u001b[0;36mfit\u001b[0;34m(self, model, x, y, batch_size, epochs, verbose, callbacks, validation_split, validation_data, shuffle, class_weight, sample_weight, initial_epoch, steps_per_epoch, validation_steps, validation_freq, **kwargs)\u001b[0m\n\u001b[1;32m    692\u001b[0m         \u001b[0mshuffle\u001b[0m\u001b[0;34m=\u001b[0m\u001b[0mshuffle\u001b[0m\u001b[0;34m,\u001b[0m\u001b[0;34m\u001b[0m\u001b[0;34m\u001b[0m\u001b[0m\n\u001b[1;32m    693\u001b[0m         \u001b[0minitial_epoch\u001b[0m\u001b[0;34m=\u001b[0m\u001b[0minitial_epoch\u001b[0m\u001b[0;34m,\u001b[0m\u001b[0;34m\u001b[0m\u001b[0;34m\u001b[0m\u001b[0m\n\u001b[0;32m--> 694\u001b[0;31m         steps_name='steps_per_epoch')\n\u001b[0m\u001b[1;32m    695\u001b[0m \u001b[0;34m\u001b[0m\u001b[0m\n\u001b[1;32m    696\u001b[0m   def evaluate(self,\n",
            "\u001b[0;32m/usr/local/lib/python3.6/dist-packages/tensorflow/python/keras/engine/training_generator.py\u001b[0m in \u001b[0;36mmodel_iteration\u001b[0;34m(model, data, steps_per_epoch, epochs, verbose, callbacks, validation_data, validation_steps, validation_freq, class_weight, max_queue_size, workers, use_multiprocessing, shuffle, initial_epoch, mode, batch_size, steps_name, **kwargs)\u001b[0m\n\u001b[1;32m    292\u001b[0m       \u001b[0mbatch_logs\u001b[0m \u001b[0;34m=\u001b[0m \u001b[0mcbks\u001b[0m\u001b[0;34m.\u001b[0m\u001b[0mmake_logs\u001b[0m\u001b[0;34m(\u001b[0m\u001b[0mmodel\u001b[0m\u001b[0;34m,\u001b[0m \u001b[0mbatch_logs\u001b[0m\u001b[0;34m,\u001b[0m \u001b[0mbatch_outs\u001b[0m\u001b[0;34m,\u001b[0m \u001b[0mmode\u001b[0m\u001b[0;34m)\u001b[0m\u001b[0;34m\u001b[0m\u001b[0;34m\u001b[0m\u001b[0m\n\u001b[1;32m    293\u001b[0m       \u001b[0mcallbacks\u001b[0m\u001b[0;34m.\u001b[0m\u001b[0m_call_batch_hook\u001b[0m\u001b[0;34m(\u001b[0m\u001b[0mmode\u001b[0m\u001b[0;34m,\u001b[0m \u001b[0;34m'end'\u001b[0m\u001b[0;34m,\u001b[0m \u001b[0mstep\u001b[0m\u001b[0;34m,\u001b[0m \u001b[0mbatch_logs\u001b[0m\u001b[0;34m)\u001b[0m\u001b[0;34m\u001b[0m\u001b[0;34m\u001b[0m\u001b[0m\n\u001b[0;32m--> 294\u001b[0;31m       \u001b[0mprogbar\u001b[0m\u001b[0;34m.\u001b[0m\u001b[0mon_batch_end\u001b[0m\u001b[0;34m(\u001b[0m\u001b[0mstep\u001b[0m\u001b[0;34m,\u001b[0m \u001b[0mbatch_logs\u001b[0m\u001b[0;34m)\u001b[0m\u001b[0;34m\u001b[0m\u001b[0;34m\u001b[0m\u001b[0m\n\u001b[0m\u001b[1;32m    295\u001b[0m       \u001b[0mstep\u001b[0m \u001b[0;34m+=\u001b[0m \u001b[0;36m1\u001b[0m\u001b[0;34m\u001b[0m\u001b[0;34m\u001b[0m\u001b[0m\n\u001b[1;32m    296\u001b[0m \u001b[0;34m\u001b[0m\u001b[0m\n",
            "\u001b[0;32m/usr/local/lib/python3.6/dist-packages/tensorflow/python/keras/callbacks.py\u001b[0m in \u001b[0;36mon_batch_end\u001b[0;34m(self, batch, logs)\u001b[0m\n\u001b[1;32m    755\u001b[0m     \u001b[0;31m# will be handled by on_epoch_end.\u001b[0m\u001b[0;34m\u001b[0m\u001b[0;34m\u001b[0m\u001b[0;34m\u001b[0m\u001b[0m\n\u001b[1;32m    756\u001b[0m     \u001b[0;32mif\u001b[0m \u001b[0mself\u001b[0m\u001b[0;34m.\u001b[0m\u001b[0mverbose\u001b[0m \u001b[0;32mand\u001b[0m \u001b[0;34m(\u001b[0m\u001b[0mself\u001b[0m\u001b[0;34m.\u001b[0m\u001b[0mtarget\u001b[0m \u001b[0;32mis\u001b[0m \u001b[0;32mNone\u001b[0m \u001b[0;32mor\u001b[0m \u001b[0mself\u001b[0m\u001b[0;34m.\u001b[0m\u001b[0mseen\u001b[0m \u001b[0;34m<\u001b[0m \u001b[0mself\u001b[0m\u001b[0;34m.\u001b[0m\u001b[0mtarget\u001b[0m\u001b[0;34m)\u001b[0m\u001b[0;34m:\u001b[0m\u001b[0;34m\u001b[0m\u001b[0;34m\u001b[0m\u001b[0m\n\u001b[0;32m--> 757\u001b[0;31m       \u001b[0mself\u001b[0m\u001b[0;34m.\u001b[0m\u001b[0mprogbar\u001b[0m\u001b[0;34m.\u001b[0m\u001b[0mupdate\u001b[0m\u001b[0;34m(\u001b[0m\u001b[0mself\u001b[0m\u001b[0;34m.\u001b[0m\u001b[0mseen\u001b[0m\u001b[0;34m,\u001b[0m \u001b[0mself\u001b[0m\u001b[0;34m.\u001b[0m\u001b[0mlog_values\u001b[0m\u001b[0;34m)\u001b[0m\u001b[0;34m\u001b[0m\u001b[0;34m\u001b[0m\u001b[0m\n\u001b[0m\u001b[1;32m    758\u001b[0m \u001b[0;34m\u001b[0m\u001b[0m\n\u001b[1;32m    759\u001b[0m   \u001b[0;32mdef\u001b[0m \u001b[0mon_epoch_end\u001b[0m\u001b[0;34m(\u001b[0m\u001b[0mself\u001b[0m\u001b[0;34m,\u001b[0m \u001b[0mepoch\u001b[0m\u001b[0;34m,\u001b[0m \u001b[0mlogs\u001b[0m\u001b[0;34m=\u001b[0m\u001b[0;32mNone\u001b[0m\u001b[0;34m)\u001b[0m\u001b[0;34m:\u001b[0m\u001b[0;34m\u001b[0m\u001b[0;34m\u001b[0m\u001b[0m\n",
            "\u001b[0;32m/usr/local/lib/python3.6/dist-packages/tensorflow/python/keras/utils/generic_utils.py\u001b[0m in \u001b[0;36mupdate\u001b[0;34m(self, current, values)\u001b[0m\n\u001b[1;32m    389\u001b[0m       \u001b[0mprev_total_width\u001b[0m \u001b[0;34m=\u001b[0m \u001b[0mself\u001b[0m\u001b[0;34m.\u001b[0m\u001b[0m_total_width\u001b[0m\u001b[0;34m\u001b[0m\u001b[0;34m\u001b[0m\u001b[0m\n\u001b[1;32m    390\u001b[0m       \u001b[0;32mif\u001b[0m \u001b[0mself\u001b[0m\u001b[0;34m.\u001b[0m\u001b[0m_dynamic_display\u001b[0m\u001b[0;34m:\u001b[0m\u001b[0;34m\u001b[0m\u001b[0;34m\u001b[0m\u001b[0m\n\u001b[0;32m--> 391\u001b[0;31m         \u001b[0msys\u001b[0m\u001b[0;34m.\u001b[0m\u001b[0mstdout\u001b[0m\u001b[0;34m.\u001b[0m\u001b[0mwrite\u001b[0m\u001b[0;34m(\u001b[0m\u001b[0;34m'\\b'\u001b[0m \u001b[0;34m*\u001b[0m \u001b[0mprev_total_width\u001b[0m\u001b[0;34m)\u001b[0m\u001b[0;34m\u001b[0m\u001b[0;34m\u001b[0m\u001b[0m\n\u001b[0m\u001b[1;32m    392\u001b[0m         \u001b[0msys\u001b[0m\u001b[0;34m.\u001b[0m\u001b[0mstdout\u001b[0m\u001b[0;34m.\u001b[0m\u001b[0mwrite\u001b[0m\u001b[0;34m(\u001b[0m\u001b[0;34m'\\r'\u001b[0m\u001b[0;34m)\u001b[0m\u001b[0;34m\u001b[0m\u001b[0;34m\u001b[0m\u001b[0m\n\u001b[1;32m    393\u001b[0m       \u001b[0;32melse\u001b[0m\u001b[0;34m:\u001b[0m\u001b[0;34m\u001b[0m\u001b[0;34m\u001b[0m\u001b[0m\n",
            "\u001b[0;32m/usr/local/lib/python3.6/dist-packages/ipykernel/iostream.py\u001b[0m in \u001b[0;36mwrite\u001b[0;34m(self, string)\u001b[0m\n\u001b[1;32m    350\u001b[0m             \u001b[0mis_child\u001b[0m \u001b[0;34m=\u001b[0m \u001b[0;34m(\u001b[0m\u001b[0;32mnot\u001b[0m \u001b[0mself\u001b[0m\u001b[0;34m.\u001b[0m\u001b[0m_is_master_process\u001b[0m\u001b[0;34m(\u001b[0m\u001b[0;34m)\u001b[0m\u001b[0;34m)\u001b[0m\u001b[0;34m\u001b[0m\u001b[0;34m\u001b[0m\u001b[0m\n\u001b[1;32m    351\u001b[0m             \u001b[0;31m# only touch the buffer in the IO thread to avoid races\u001b[0m\u001b[0;34m\u001b[0m\u001b[0;34m\u001b[0m\u001b[0;34m\u001b[0m\u001b[0m\n\u001b[0;32m--> 352\u001b[0;31m             \u001b[0mself\u001b[0m\u001b[0;34m.\u001b[0m\u001b[0mpub_thread\u001b[0m\u001b[0;34m.\u001b[0m\u001b[0mschedule\u001b[0m\u001b[0;34m(\u001b[0m\u001b[0;32mlambda\u001b[0m \u001b[0;34m:\u001b[0m \u001b[0mself\u001b[0m\u001b[0;34m.\u001b[0m\u001b[0m_buffer\u001b[0m\u001b[0;34m.\u001b[0m\u001b[0mwrite\u001b[0m\u001b[0;34m(\u001b[0m\u001b[0mstring\u001b[0m\u001b[0;34m)\u001b[0m\u001b[0;34m)\u001b[0m\u001b[0;34m\u001b[0m\u001b[0;34m\u001b[0m\u001b[0m\n\u001b[0m\u001b[1;32m    353\u001b[0m             \u001b[0;32mif\u001b[0m \u001b[0mis_child\u001b[0m\u001b[0;34m:\u001b[0m\u001b[0;34m\u001b[0m\u001b[0;34m\u001b[0m\u001b[0m\n\u001b[1;32m    354\u001b[0m                 \u001b[0;31m# newlines imply flush in subprocesses\u001b[0m\u001b[0;34m\u001b[0m\u001b[0;34m\u001b[0m\u001b[0;34m\u001b[0m\u001b[0m\n",
            "\u001b[0;32m/usr/local/lib/python3.6/dist-packages/ipykernel/iostream.py\u001b[0m in \u001b[0;36mschedule\u001b[0;34m(self, f)\u001b[0m\n\u001b[1;32m    188\u001b[0m                 \u001b[0mevent_id\u001b[0m \u001b[0;34m=\u001b[0m \u001b[0mos\u001b[0m\u001b[0;34m.\u001b[0m\u001b[0murandom\u001b[0m\u001b[0;34m(\u001b[0m\u001b[0;36m16\u001b[0m\u001b[0;34m)\u001b[0m\u001b[0;34m\u001b[0m\u001b[0;34m\u001b[0m\u001b[0m\n\u001b[1;32m    189\u001b[0m             \u001b[0mself\u001b[0m\u001b[0;34m.\u001b[0m\u001b[0m_events\u001b[0m\u001b[0;34m[\u001b[0m\u001b[0mevent_id\u001b[0m\u001b[0;34m]\u001b[0m \u001b[0;34m=\u001b[0m \u001b[0mf\u001b[0m\u001b[0;34m\u001b[0m\u001b[0;34m\u001b[0m\u001b[0m\n\u001b[0;32m--> 190\u001b[0;31m             \u001b[0mself\u001b[0m\u001b[0;34m.\u001b[0m\u001b[0m_event_pipe\u001b[0m\u001b[0;34m.\u001b[0m\u001b[0msend\u001b[0m\u001b[0;34m(\u001b[0m\u001b[0mevent_id\u001b[0m\u001b[0;34m)\u001b[0m\u001b[0;34m\u001b[0m\u001b[0;34m\u001b[0m\u001b[0m\n\u001b[0m\u001b[1;32m    191\u001b[0m         \u001b[0;32melse\u001b[0m\u001b[0;34m:\u001b[0m\u001b[0;34m\u001b[0m\u001b[0;34m\u001b[0m\u001b[0m\n\u001b[1;32m    192\u001b[0m             \u001b[0mf\u001b[0m\u001b[0;34m(\u001b[0m\u001b[0;34m)\u001b[0m\u001b[0;34m\u001b[0m\u001b[0;34m\u001b[0m\u001b[0m\n",
            "\u001b[0;32m/usr/local/lib/python3.6/dist-packages/zmq/sugar/socket.py\u001b[0m in \u001b[0;36msend\u001b[0;34m(self, data, flags, copy, track, routing_id, group)\u001b[0m\n\u001b[1;32m    389\u001b[0m                                  copy_threshold=self.copy_threshold)\n\u001b[1;32m    390\u001b[0m             \u001b[0mdata\u001b[0m\u001b[0;34m.\u001b[0m\u001b[0mgroup\u001b[0m \u001b[0;34m=\u001b[0m \u001b[0mgroup\u001b[0m\u001b[0;34m\u001b[0m\u001b[0;34m\u001b[0m\u001b[0m\n\u001b[0;32m--> 391\u001b[0;31m         \u001b[0;32mreturn\u001b[0m \u001b[0msuper\u001b[0m\u001b[0;34m(\u001b[0m\u001b[0mSocket\u001b[0m\u001b[0;34m,\u001b[0m \u001b[0mself\u001b[0m\u001b[0;34m)\u001b[0m\u001b[0;34m.\u001b[0m\u001b[0msend\u001b[0m\u001b[0;34m(\u001b[0m\u001b[0mdata\u001b[0m\u001b[0;34m,\u001b[0m \u001b[0mflags\u001b[0m\u001b[0;34m=\u001b[0m\u001b[0mflags\u001b[0m\u001b[0;34m,\u001b[0m \u001b[0mcopy\u001b[0m\u001b[0;34m=\u001b[0m\u001b[0mcopy\u001b[0m\u001b[0;34m,\u001b[0m \u001b[0mtrack\u001b[0m\u001b[0;34m=\u001b[0m\u001b[0mtrack\u001b[0m\u001b[0;34m)\u001b[0m\u001b[0;34m\u001b[0m\u001b[0;34m\u001b[0m\u001b[0m\n\u001b[0m\u001b[1;32m    392\u001b[0m \u001b[0;34m\u001b[0m\u001b[0m\n\u001b[1;32m    393\u001b[0m     \u001b[0;32mdef\u001b[0m \u001b[0msend_multipart\u001b[0m\u001b[0;34m(\u001b[0m\u001b[0mself\u001b[0m\u001b[0;34m,\u001b[0m \u001b[0mmsg_parts\u001b[0m\u001b[0;34m,\u001b[0m \u001b[0mflags\u001b[0m\u001b[0;34m=\u001b[0m\u001b[0;36m0\u001b[0m\u001b[0;34m,\u001b[0m \u001b[0mcopy\u001b[0m\u001b[0;34m=\u001b[0m\u001b[0;32mTrue\u001b[0m\u001b[0;34m,\u001b[0m \u001b[0mtrack\u001b[0m\u001b[0;34m=\u001b[0m\u001b[0;32mFalse\u001b[0m\u001b[0;34m,\u001b[0m \u001b[0;34m**\u001b[0m\u001b[0mkwargs\u001b[0m\u001b[0;34m)\u001b[0m\u001b[0;34m:\u001b[0m\u001b[0;34m\u001b[0m\u001b[0;34m\u001b[0m\u001b[0m\n",
            "\u001b[0;32mzmq/backend/cython/socket.pyx\u001b[0m in \u001b[0;36mzmq.backend.cython.socket.Socket.send\u001b[0;34m()\u001b[0m\n",
            "\u001b[0;32mzmq/backend/cython/socket.pyx\u001b[0m in \u001b[0;36mzmq.backend.cython.socket.Socket.send\u001b[0;34m()\u001b[0m\n",
            "\u001b[0;32mzmq/backend/cython/socket.pyx\u001b[0m in \u001b[0;36mzmq.backend.cython.socket._send_copy\u001b[0;34m()\u001b[0m\n",
            "\u001b[0;32m/usr/local/lib/python3.6/dist-packages/zmq/backend/cython/checkrc.pxd\u001b[0m in \u001b[0;36mzmq.backend.cython.checkrc._check_rc\u001b[0;34m()\u001b[0m\n",
            "\u001b[0;31mKeyboardInterrupt\u001b[0m: "
          ]
        }
      ]
    },
    {
      "cell_type": "code",
      "metadata": {
        "id": "ha6njpd-UwCs",
        "colab_type": "code",
        "outputId": "05cb9df6-db95-4e19-bb61-fe571bfce5ed",
        "colab": {
          "base_uri": "https://localhost:8080/",
          "height": 34
        }
      },
      "source": [
        "tf.keras.metrics.mean_absolute_percentage_error(x_valid, results).numpy()"
      ],
      "execution_count": 0,
      "outputs": [
        {
          "output_type": "execute_result",
          "data": {
            "text/plain": [
              "1.4307379"
            ]
          },
          "metadata": {
            "tags": []
          },
          "execution_count": 37
        }
      ]
    },
    {
      "cell_type": "code",
      "metadata": {
        "id": "eQ8ToO-BTNCP",
        "colab_type": "code",
        "outputId": "a74f5488-e446-4212-b085-4b9552a9f716",
        "colab": {
          "base_uri": "https://localhost:8080/",
          "height": 1000
        }
      },
      "source": [
        "def windowed_dataset_1(series, window_size, batch_size, shuffle_buffer):\n",
        "    series = tf.expand_dims(series, axis=-1)\n",
        "    ds = tf.data.Dataset.from_tensor_slices(series)\n",
        "    ds = ds.window(window_size + 1, shift=1, drop_remainder=True)\n",
        "    ds = ds.flat_map(lambda w: w.batch(window_size + 1))\n",
        "    ds = ds.shuffle(shuffle_buffer)\n",
        "    ds = ds.map(lambda w: (w[:-1], w[1:]))\n",
        "    return ds.batch(batch_size).prefetch(1)\n",
        "\n",
        "window_size = 16\n",
        "batch_size = 32\n",
        "shuffle_buffer_size = 1000\n",
        "\n",
        "dataset = windowed_dataset_1(x_train, window_size, batch_size, shuffle_buffer_size)\n",
        "\n",
        "model = tf.keras.models.Sequential([\n",
        "  tf.keras.layers.Conv1D(filters=32, kernel_size=5,\n",
        "                      strides=1, padding=\"causal\",\n",
        "                      activation=\"relu\",\n",
        "                      input_shape=[None, 1]),\n",
        "  tf.keras.layers.Dense(30, activation=\"relu\"),\n",
        "  tf.keras.layers.Dense(1)\n",
        "])\n",
        "\n",
        "model.compile(loss=\"mean_absolute_percentage_error\", optimizer='adam', metrics=[\"mape\"])\n",
        "history = model.fit(dataset,epochs=100,verbose=1)\n",
        "\n",
        "\n",
        "\n",
        "\n",
        "\n",
        "\n",
        "\n",
        "forecast=[]\n",
        "for time in range(len(series) - window_size):\n",
        "  forecast.append(model.predict(series[time:time + window_size][np.newaxis]))\n",
        "\n",
        "forecast = forecast[split_time-window_size:]\n",
        "results = np.array(forecast)[:, 0, 0]\n",
        "\n",
        "\n",
        "plt.figure(figsize=(10, 6))\n",
        "\n",
        "plot_series(time_valid, x_valid)\n",
        "plot_series(time_valid, results)\n",
        "\n",
        "\n",
        "\n",
        "\n",
        "\n",
        "\n",
        "\n",
        "tf.keras.metrics.mean_absolute_percentage_error(x_valid, results).numpy()\n",
        "\n",
        "\n",
        "\n",
        "\n",
        "\n",
        "plt.figure(figsize=(10, 6))\n",
        "\n",
        "plot_series(time_valid[:250], x_valid[:250])\n",
        "plot_series(time_valid[:250], results[:250])\n",
        "\n",
        "\n",
        "\n"
      ],
      "execution_count": 0,
      "outputs": [
        {
          "output_type": "stream",
          "text": [
            "Epoch 1/100\n",
            "2187/2187 [==============================] - 20s 9ms/step - loss: 2.1252 - mape: 2.1252\n",
            "Epoch 2/100\n",
            "2187/2187 [==============================] - 12s 6ms/step - loss: 1.2991 - mape: 1.2991\n",
            "Epoch 3/100\n",
            "2187/2187 [==============================] - 13s 6ms/step - loss: 1.2090 - mape: 1.2090\n",
            "Epoch 4/100\n",
            "2187/2187 [==============================] - 13s 6ms/step - loss: 1.1841 - mape: 1.1841\n",
            "Epoch 5/100\n",
            "2187/2187 [==============================] - 13s 6ms/step - loss: 1.1739 - mape: 1.1739\n",
            "Epoch 6/100\n",
            "2187/2187 [==============================] - 13s 6ms/step - loss: 1.1585 - mape: 1.1585\n",
            "Epoch 7/100\n",
            "2187/2187 [==============================] - 13s 6ms/step - loss: 1.1502 - mape: 1.1502\n",
            "Epoch 8/100\n",
            "2187/2187 [==============================] - 13s 6ms/step - loss: 1.1430 - mape: 1.1430\n",
            "Epoch 9/100\n",
            "2187/2187 [==============================] - 12s 6ms/step - loss: 1.1384 - mape: 1.1384\n",
            "Epoch 10/100\n",
            "2187/2187 [==============================] - 13s 6ms/step - loss: 1.1349 - mape: 1.1349\n",
            "Epoch 11/100\n",
            "2187/2187 [==============================] - 12s 6ms/step - loss: 1.1311 - mape: 1.1311\n",
            "Epoch 12/100\n",
            "2187/2187 [==============================] - 13s 6ms/step - loss: 1.1272 - mape: 1.1272\n",
            "Epoch 13/100\n",
            "2187/2187 [==============================] - 12s 6ms/step - loss: 1.1243 - mape: 1.1243\n",
            "Epoch 14/100\n",
            "2187/2187 [==============================] - 12s 6ms/step - loss: 1.1191 - mape: 1.1191\n",
            "Epoch 15/100\n",
            "2187/2187 [==============================] - 13s 6ms/step - loss: 1.1196 - mape: 1.1196\n",
            "Epoch 16/100\n",
            "2187/2187 [==============================] - 13s 6ms/step - loss: 1.1188 - mape: 1.1188\n",
            "Epoch 17/100\n",
            "2187/2187 [==============================] - 13s 6ms/step - loss: 1.1152 - mape: 1.1152\n",
            "Epoch 18/100\n",
            "2187/2187 [==============================] - 13s 6ms/step - loss: 1.1152 - mape: 1.1152\n",
            "Epoch 19/100\n",
            "2187/2187 [==============================] - 13s 6ms/step - loss: 1.1139 - mape: 1.1139\n",
            "Epoch 20/100\n",
            "2187/2187 [==============================] - 13s 6ms/step - loss: 1.1137 - mape: 1.1137\n",
            "Epoch 21/100\n",
            "2187/2187 [==============================] - 12s 6ms/step - loss: 1.1111 - mape: 1.1111\n",
            "Epoch 22/100\n",
            "2187/2187 [==============================] - 13s 6ms/step - loss: 1.1110 - mape: 1.1110\n",
            "Epoch 23/100\n",
            "2187/2187 [==============================] - 13s 6ms/step - loss: 1.1082 - mape: 1.1082\n",
            "Epoch 24/100\n",
            "2187/2187 [==============================] - 13s 6ms/step - loss: 1.1092 - mape: 1.1092\n",
            "Epoch 25/100\n",
            "2187/2187 [==============================] - 12s 6ms/step - loss: 1.1075 - mape: 1.1075\n",
            "Epoch 26/100\n",
            "2187/2187 [==============================] - 13s 6ms/step - loss: 1.1084 - mape: 1.1084\n",
            "Epoch 27/100\n",
            "2187/2187 [==============================] - 13s 6ms/step - loss: 1.1027 - mape: 1.1027\n",
            "Epoch 28/100\n",
            "2187/2187 [==============================] - 13s 6ms/step - loss: 1.1048 - mape: 1.1048\n",
            "Epoch 29/100\n",
            "2187/2187 [==============================] - 13s 6ms/step - loss: 1.1033 - mape: 1.1033\n",
            "Epoch 30/100\n",
            "2187/2187 [==============================] - 13s 6ms/step - loss: 1.1018 - mape: 1.1018\n",
            "Epoch 31/100\n",
            "2187/2187 [==============================] - 13s 6ms/step - loss: 1.1034 - mape: 1.1034\n",
            "Epoch 32/100\n",
            "2187/2187 [==============================] - 13s 6ms/step - loss: 1.1015 - mape: 1.1015\n",
            "Epoch 33/100\n",
            "2187/2187 [==============================] - 13s 6ms/step - loss: 1.0993 - mape: 1.0993\n",
            "Epoch 34/100\n",
            "2187/2187 [==============================] - 13s 6ms/step - loss: 1.1006 - mape: 1.1006\n",
            "Epoch 35/100\n",
            "2187/2187 [==============================] - 13s 6ms/step - loss: 1.1001 - mape: 1.1001\n",
            "Epoch 36/100\n",
            "2187/2187 [==============================] - 13s 6ms/step - loss: 1.0983 - mape: 1.0983\n",
            "Epoch 37/100\n",
            "2187/2187 [==============================] - 13s 6ms/step - loss: 1.0986 - mape: 1.0986\n",
            "Epoch 38/100\n",
            "2187/2187 [==============================] - 13s 6ms/step - loss: 1.0985 - mape: 1.0985\n",
            "Epoch 39/100\n",
            "2187/2187 [==============================] - 13s 6ms/step - loss: 1.0959 - mape: 1.0959\n",
            "Epoch 40/100\n",
            "2187/2187 [==============================] - 13s 6ms/step - loss: 1.0961 - mape: 1.0961\n",
            "Epoch 41/100\n",
            "2187/2187 [==============================] - 13s 6ms/step - loss: 1.0951 - mape: 1.0951\n",
            "Epoch 42/100\n",
            "2187/2187 [==============================] - 13s 6ms/step - loss: 1.0967 - mape: 1.0967\n",
            "Epoch 43/100\n",
            "2187/2187 [==============================] - 13s 6ms/step - loss: 1.0941 - mape: 1.0941\n",
            "Epoch 44/100\n",
            "2187/2187 [==============================] - 13s 6ms/step - loss: 1.0970 - mape: 1.0970\n",
            "Epoch 45/100\n",
            "2187/2187 [==============================] - 13s 6ms/step - loss: 1.0951 - mape: 1.0951\n",
            "Epoch 46/100\n",
            "2187/2187 [==============================] - 13s 6ms/step - loss: 1.0943 - mape: 1.0943\n",
            "Epoch 47/100\n",
            "2187/2187 [==============================] - 13s 6ms/step - loss: 1.0921 - mape: 1.0921\n",
            "Epoch 48/100\n",
            "2187/2187 [==============================] - 13s 6ms/step - loss: 1.0916 - mape: 1.0916\n",
            "Epoch 49/100\n",
            "2187/2187 [==============================] - 13s 6ms/step - loss: 1.0928 - mape: 1.0928\n",
            "Epoch 50/100\n",
            "2187/2187 [==============================] - 13s 6ms/step - loss: 1.0909 - mape: 1.0909\n",
            "Epoch 51/100\n",
            "2187/2187 [==============================] - 13s 6ms/step - loss: 1.0914 - mape: 1.0914\n",
            "Epoch 52/100\n",
            "2187/2187 [==============================] - 13s 6ms/step - loss: 1.0909 - mape: 1.0909\n",
            "Epoch 53/100\n",
            "2187/2187 [==============================] - 13s 6ms/step - loss: 1.0900 - mape: 1.0900\n",
            "Epoch 54/100\n",
            "2187/2187 [==============================] - 13s 6ms/step - loss: 1.0893 - mape: 1.0893\n",
            "Epoch 55/100\n",
            "2187/2187 [==============================] - 13s 6ms/step - loss: 1.0886 - mape: 1.0886\n",
            "Epoch 56/100\n",
            "2187/2187 [==============================] - 13s 6ms/step - loss: 1.0892 - mape: 1.0892\n",
            "Epoch 57/100\n",
            "2187/2187 [==============================] - 13s 6ms/step - loss: 1.0865 - mape: 1.0865\n",
            "Epoch 58/100\n",
            "2187/2187 [==============================] - 13s 6ms/step - loss: 1.0870 - mape: 1.0870\n",
            "Epoch 59/100\n",
            "2187/2187 [==============================] - 13s 6ms/step - loss: 1.0862 - mape: 1.0862\n",
            "Epoch 60/100\n",
            "2187/2187 [==============================] - 13s 6ms/step - loss: 1.0874 - mape: 1.0874\n",
            "Epoch 61/100\n",
            "2187/2187 [==============================] - 13s 6ms/step - loss: 1.0863 - mape: 1.0863\n",
            "Epoch 62/100\n",
            "2187/2187 [==============================] - 13s 6ms/step - loss: 1.0869 - mape: 1.0869\n",
            "Epoch 63/100\n",
            "2187/2187 [==============================] - 13s 6ms/step - loss: 1.0849 - mape: 1.0849\n",
            "Epoch 64/100\n",
            "2187/2187 [==============================] - 13s 6ms/step - loss: 1.0843 - mape: 1.0843\n",
            "Epoch 65/100\n",
            "2187/2187 [==============================] - 13s 6ms/step - loss: 1.0830 - mape: 1.0830\n",
            "Epoch 66/100\n",
            "2187/2187 [==============================] - 13s 6ms/step - loss: 1.0836 - mape: 1.0836\n",
            "Epoch 67/100\n",
            "2187/2187 [==============================] - 13s 6ms/step - loss: 1.0852 - mape: 1.0852\n",
            "Epoch 68/100\n",
            "2187/2187 [==============================] - 13s 6ms/step - loss: 1.0809 - mape: 1.0809\n",
            "Epoch 69/100\n",
            "2187/2187 [==============================] - 13s 6ms/step - loss: 1.0810 - mape: 1.0810\n",
            "Epoch 70/100\n",
            "2187/2187 [==============================] - 13s 6ms/step - loss: 1.0806 - mape: 1.0806\n",
            "Epoch 71/100\n",
            "2187/2187 [==============================] - 13s 6ms/step - loss: 1.0798 - mape: 1.0798\n",
            "Epoch 72/100\n",
            "2187/2187 [==============================] - 13s 6ms/step - loss: 1.0785 - mape: 1.0785\n",
            "Epoch 73/100\n",
            "2187/2187 [==============================] - 13s 6ms/step - loss: 1.0779 - mape: 1.0779\n",
            "Epoch 74/100\n",
            "2187/2187 [==============================] - 13s 6ms/step - loss: 1.0779 - mape: 1.0779\n",
            "Epoch 75/100\n",
            "2187/2187 [==============================] - 13s 6ms/step - loss: 1.0770 - mape: 1.0770\n",
            "Epoch 76/100\n",
            "2187/2187 [==============================] - 13s 6ms/step - loss: 1.0795 - mape: 1.0795\n",
            "Epoch 77/100\n",
            "2187/2187 [==============================] - 13s 6ms/step - loss: 1.0792 - mape: 1.0792\n",
            "Epoch 78/100\n",
            "2187/2187 [==============================] - 13s 6ms/step - loss: 1.0788 - mape: 1.0788\n",
            "Epoch 79/100\n",
            "2187/2187 [==============================] - 13s 6ms/step - loss: 1.0751 - mape: 1.0751\n",
            "Epoch 80/100\n",
            "2187/2187 [==============================] - 13s 6ms/step - loss: 1.0735 - mape: 1.0735\n",
            "Epoch 81/100\n",
            "2187/2187 [==============================] - 13s 6ms/step - loss: 1.0714 - mape: 1.0714\n",
            "Epoch 82/100\n",
            "2187/2187 [==============================] - 13s 6ms/step - loss: 1.0688 - mape: 1.0688\n",
            "Epoch 83/100\n",
            "2187/2187 [==============================] - 13s 6ms/step - loss: 1.0683 - mape: 1.0683\n",
            "Epoch 84/100\n",
            "2187/2187 [==============================] - 13s 6ms/step - loss: 1.0663 - mape: 1.0663\n",
            "Epoch 85/100\n",
            "2187/2187 [==============================] - 13s 6ms/step - loss: 1.0668 - mape: 1.0668\n",
            "Epoch 86/100\n",
            "2187/2187 [==============================] - 13s 6ms/step - loss: 1.0653 - mape: 1.0653\n",
            "Epoch 87/100\n",
            "2187/2187 [==============================] - 13s 6ms/step - loss: 1.0662 - mape: 1.0662\n",
            "Epoch 88/100\n",
            "2187/2187 [==============================] - 13s 6ms/step - loss: 1.0651 - mape: 1.0651\n",
            "Epoch 89/100\n",
            "2187/2187 [==============================] - 13s 6ms/step - loss: 1.0645 - mape: 1.0645\n",
            "Epoch 90/100\n",
            "2187/2187 [==============================] - 13s 6ms/step - loss: 1.0643 - mape: 1.0643\n",
            "Epoch 91/100\n",
            "2187/2187 [==============================] - 13s 6ms/step - loss: 1.0654 - mape: 1.0654\n",
            "Epoch 92/100\n",
            "2187/2187 [==============================] - 13s 6ms/step - loss: 1.0627 - mape: 1.0627\n",
            "Epoch 93/100\n",
            "2187/2187 [==============================] - 13s 6ms/step - loss: 1.0620 - mape: 1.0620\n",
            "Epoch 94/100\n",
            "2187/2187 [==============================] - 13s 6ms/step - loss: 1.0614 - mape: 1.0614\n",
            "Epoch 95/100\n",
            "2187/2187 [==============================] - 13s 6ms/step - loss: 1.0632 - mape: 1.0632\n",
            "Epoch 96/100\n",
            "2187/2187 [==============================] - 13s 6ms/step - loss: 1.0610 - mape: 1.0610\n",
            "Epoch 97/100\n",
            "2187/2187 [==============================] - 13s 6ms/step - loss: 1.0609 - mape: 1.0609\n",
            "Epoch 98/100\n",
            "2187/2187 [==============================] - 13s 6ms/step - loss: 1.0590 - mape: 1.0590\n",
            "Epoch 99/100\n",
            "2187/2187 [==============================] - 14s 6ms/step - loss: 1.0587 - mape: 1.0587\n",
            "Epoch 100/100\n",
            "2187/2187 [==============================] - 14s 6ms/step - loss: 1.0592 - mape: 1.0592\n"
          ],
          "name": "stdout"
        },
        {
          "output_type": "error",
          "ename": "ValueError",
          "evalue": "ignored",
          "traceback": [
            "\u001b[0;31m---------------------------------------------------------------------------\u001b[0m",
            "\u001b[0;31mValueError\u001b[0m                                Traceback (most recent call last)",
            "\u001b[0;32m<ipython-input-66-4b0cfe9fdc16>\u001b[0m in \u001b[0;36m<module>\u001b[0;34m()\u001b[0m\n\u001b[1;32m     34\u001b[0m \u001b[0mforecast\u001b[0m\u001b[0;34m=\u001b[0m\u001b[0;34m[\u001b[0m\u001b[0;34m]\u001b[0m\u001b[0;34m\u001b[0m\u001b[0;34m\u001b[0m\u001b[0m\n\u001b[1;32m     35\u001b[0m \u001b[0;32mfor\u001b[0m \u001b[0mtime\u001b[0m \u001b[0;32min\u001b[0m \u001b[0mrange\u001b[0m\u001b[0;34m(\u001b[0m\u001b[0mlen\u001b[0m\u001b[0;34m(\u001b[0m\u001b[0mseries\u001b[0m\u001b[0;34m)\u001b[0m \u001b[0;34m-\u001b[0m \u001b[0mwindow_size\u001b[0m\u001b[0;34m)\u001b[0m\u001b[0;34m:\u001b[0m\u001b[0;34m\u001b[0m\u001b[0;34m\u001b[0m\u001b[0m\n\u001b[0;32m---> 36\u001b[0;31m   \u001b[0mforecast\u001b[0m\u001b[0;34m.\u001b[0m\u001b[0mappend\u001b[0m\u001b[0;34m(\u001b[0m\u001b[0mmodel\u001b[0m\u001b[0;34m.\u001b[0m\u001b[0mpredict\u001b[0m\u001b[0;34m(\u001b[0m\u001b[0mseries\u001b[0m\u001b[0;34m[\u001b[0m\u001b[0mtime\u001b[0m\u001b[0;34m:\u001b[0m\u001b[0mtime\u001b[0m \u001b[0;34m+\u001b[0m \u001b[0mwindow_size\u001b[0m\u001b[0;34m]\u001b[0m\u001b[0;34m[\u001b[0m\u001b[0mnp\u001b[0m\u001b[0;34m.\u001b[0m\u001b[0mnewaxis\u001b[0m\u001b[0;34m]\u001b[0m\u001b[0;34m)\u001b[0m\u001b[0;34m)\u001b[0m\u001b[0;34m\u001b[0m\u001b[0;34m\u001b[0m\u001b[0m\n\u001b[0m\u001b[1;32m     37\u001b[0m \u001b[0;34m\u001b[0m\u001b[0m\n\u001b[1;32m     38\u001b[0m \u001b[0mforecast\u001b[0m \u001b[0;34m=\u001b[0m \u001b[0mforecast\u001b[0m\u001b[0;34m[\u001b[0m\u001b[0msplit_time\u001b[0m\u001b[0;34m-\u001b[0m\u001b[0mwindow_size\u001b[0m\u001b[0;34m:\u001b[0m\u001b[0;34m]\u001b[0m\u001b[0;34m\u001b[0m\u001b[0;34m\u001b[0m\u001b[0m\n",
            "\u001b[0;32m/usr/local/lib/python3.6/dist-packages/tensorflow/python/keras/engine/training.py\u001b[0m in \u001b[0;36mpredict\u001b[0;34m(self, x, batch_size, verbose, steps, callbacks, max_queue_size, workers, use_multiprocessing)\u001b[0m\n\u001b[1;32m    819\u001b[0m         \u001b[0mmax_queue_size\u001b[0m\u001b[0;34m=\u001b[0m\u001b[0mmax_queue_size\u001b[0m\u001b[0;34m,\u001b[0m\u001b[0;34m\u001b[0m\u001b[0;34m\u001b[0m\u001b[0m\n\u001b[1;32m    820\u001b[0m         \u001b[0mworkers\u001b[0m\u001b[0;34m=\u001b[0m\u001b[0mworkers\u001b[0m\u001b[0;34m,\u001b[0m\u001b[0;34m\u001b[0m\u001b[0;34m\u001b[0m\u001b[0m\n\u001b[0;32m--> 821\u001b[0;31m         use_multiprocessing=use_multiprocessing)\n\u001b[0m\u001b[1;32m    822\u001b[0m \u001b[0;34m\u001b[0m\u001b[0m\n\u001b[1;32m    823\u001b[0m   \u001b[0;32mdef\u001b[0m \u001b[0mreset_metrics\u001b[0m\u001b[0;34m(\u001b[0m\u001b[0mself\u001b[0m\u001b[0;34m)\u001b[0m\u001b[0;34m:\u001b[0m\u001b[0;34m\u001b[0m\u001b[0;34m\u001b[0m\u001b[0m\n",
            "\u001b[0;32m/usr/local/lib/python3.6/dist-packages/tensorflow/python/keras/engine/training_arrays.py\u001b[0m in \u001b[0;36mpredict\u001b[0;34m(self, model, x, batch_size, verbose, steps, callbacks, **kwargs)\u001b[0m\n\u001b[1;32m    703\u001b[0m     \u001b[0mbatch_size\u001b[0m \u001b[0;34m=\u001b[0m \u001b[0mmodel\u001b[0m\u001b[0;34m.\u001b[0m\u001b[0m_validate_or_infer_batch_size\u001b[0m\u001b[0;34m(\u001b[0m\u001b[0mbatch_size\u001b[0m\u001b[0;34m,\u001b[0m \u001b[0msteps\u001b[0m\u001b[0;34m,\u001b[0m \u001b[0mx\u001b[0m\u001b[0;34m)\u001b[0m\u001b[0;34m\u001b[0m\u001b[0;34m\u001b[0m\u001b[0m\n\u001b[1;32m    704\u001b[0m     x, _, _ = model._standardize_user_data(\n\u001b[0;32m--> 705\u001b[0;31m         x, check_steps=True, steps_name='steps', steps=steps)\n\u001b[0m\u001b[1;32m    706\u001b[0m     return predict_loop(\n\u001b[1;32m    707\u001b[0m         \u001b[0mmodel\u001b[0m\u001b[0;34m,\u001b[0m\u001b[0;34m\u001b[0m\u001b[0;34m\u001b[0m\u001b[0m\n",
            "\u001b[0;32m/usr/local/lib/python3.6/dist-packages/tensorflow/python/keras/engine/training.py\u001b[0m in \u001b[0;36m_standardize_user_data\u001b[0;34m(self, x, y, sample_weight, class_weight, batch_size, check_steps, steps_name, steps, validation_split, shuffle, extract_tensors_from_dataset)\u001b[0m\n\u001b[1;32m   2426\u001b[0m           \u001b[0mfeed_input_shapes\u001b[0m\u001b[0;34m,\u001b[0m\u001b[0;34m\u001b[0m\u001b[0;34m\u001b[0m\u001b[0m\n\u001b[1;32m   2427\u001b[0m           \u001b[0mcheck_batch_axis\u001b[0m\u001b[0;34m=\u001b[0m\u001b[0;32mFalse\u001b[0m\u001b[0;34m,\u001b[0m  \u001b[0;31m# Don't enforce the batch size.\u001b[0m\u001b[0;34m\u001b[0m\u001b[0;34m\u001b[0m\u001b[0m\n\u001b[0;32m-> 2428\u001b[0;31m           exception_prefix='input')\n\u001b[0m\u001b[1;32m   2429\u001b[0m \u001b[0;34m\u001b[0m\u001b[0m\n\u001b[1;32m   2430\u001b[0m     \u001b[0;32mif\u001b[0m \u001b[0my\u001b[0m \u001b[0;32mis\u001b[0m \u001b[0;32mnot\u001b[0m \u001b[0;32mNone\u001b[0m\u001b[0;34m:\u001b[0m\u001b[0;34m\u001b[0m\u001b[0;34m\u001b[0m\u001b[0m\n",
            "\u001b[0;32m/usr/local/lib/python3.6/dist-packages/tensorflow/python/keras/engine/training_utils.py\u001b[0m in \u001b[0;36mstandardize_input_data\u001b[0;34m(data, names, shapes, check_batch_axis, exception_prefix)\u001b[0m\n\u001b[1;32m    510\u001b[0m                            \u001b[0;34m': expected '\u001b[0m \u001b[0;34m+\u001b[0m \u001b[0mnames\u001b[0m\u001b[0;34m[\u001b[0m\u001b[0mi\u001b[0m\u001b[0;34m]\u001b[0m \u001b[0;34m+\u001b[0m \u001b[0;34m' to have '\u001b[0m \u001b[0;34m+\u001b[0m\u001b[0;34m\u001b[0m\u001b[0;34m\u001b[0m\u001b[0m\n\u001b[1;32m    511\u001b[0m                            \u001b[0mstr\u001b[0m\u001b[0;34m(\u001b[0m\u001b[0mlen\u001b[0m\u001b[0;34m(\u001b[0m\u001b[0mshape\u001b[0m\u001b[0;34m)\u001b[0m\u001b[0;34m)\u001b[0m \u001b[0;34m+\u001b[0m \u001b[0;34m' dimensions, but got array '\u001b[0m\u001b[0;34m\u001b[0m\u001b[0;34m\u001b[0m\u001b[0m\n\u001b[0;32m--> 512\u001b[0;31m                            'with shape ' + str(data_shape))\n\u001b[0m\u001b[1;32m    513\u001b[0m         \u001b[0;32mif\u001b[0m \u001b[0;32mnot\u001b[0m \u001b[0mcheck_batch_axis\u001b[0m\u001b[0;34m:\u001b[0m\u001b[0;34m\u001b[0m\u001b[0;34m\u001b[0m\u001b[0m\n\u001b[1;32m    514\u001b[0m           \u001b[0mdata_shape\u001b[0m \u001b[0;34m=\u001b[0m \u001b[0mdata_shape\u001b[0m\u001b[0;34m[\u001b[0m\u001b[0;36m1\u001b[0m\u001b[0;34m:\u001b[0m\u001b[0;34m]\u001b[0m\u001b[0;34m\u001b[0m\u001b[0;34m\u001b[0m\u001b[0m\n",
            "\u001b[0;31mValueError\u001b[0m: Error when checking input: expected conv1d_17_input to have 3 dimensions, but got array with shape (1, 16)"
          ]
        }
      ]
    },
    {
      "cell_type": "code",
      "metadata": {
        "id": "SaqX7sNDcyRq",
        "colab_type": "code",
        "outputId": "ee3216c7-8a9b-4d3c-c62d-46a99eab28d0",
        "colab": {
          "base_uri": "https://localhost:8080/",
          "height": 392
        }
      },
      "source": [
        "def model_forecast(model, series, window_size):\n",
        "    ds = tf.data.Dataset.from_tensor_slices(series)\n",
        "    ds = ds.window(window_size, shift=1, drop_remainder=True)\n",
        "    ds = ds.flat_map(lambda w: w.batch(window_size))\n",
        "    ds = ds.batch(32).prefetch(1)\n",
        "    forecast = model.predict(ds)\n",
        "    return forecast\n",
        "  \n",
        "  \n",
        "rnn_forecast = model_forecast(model, series[..., np.newaxis], window_size)\n",
        "rnn_forecast = rnn_forecast[split_time - window_size:-1, -1, 0]\n",
        "\n",
        "\n",
        "\n",
        "plt.figure(figsize=(10, 6))\n",
        "plot_series(time_valid[:500], x_valid[:500])\n",
        "plot_series(time_valid[:500], rnn_forecast[:500])"
      ],
      "execution_count": 0,
      "outputs": [
        {
          "output_type": "display_data",
          "data": {
            "image/png": "[encoded data removed]",
            "text/plain": [
              "<Figure size 720x432 with 1 Axes>"
            ]
          },
          "metadata": {
            "tags": []
          }
        }
      ]
    },
    {
      "cell_type": "code",
      "metadata": {
        "id": "AyhVnO23oH4P",
        "colab_type": "code",
        "outputId": "372476ea-e48d-41ea-b8b4-f0e8bfa054eb",
        "colab": {
          "base_uri": "https://localhost:8080/",
          "height": 34
        }
      },
      "source": [
        "tf.keras.metrics.mean_absolute_percentage_error(x_valid, results).numpy()"
      ],
      "execution_count": 0,
      "outputs": [
        {
          "output_type": "execute_result",
          "data": {
            "text/plain": [
              "1.0635368"
            ]
          },
          "metadata": {
            "tags": []
          },
          "execution_count": 69
        }
      ]
    },
    {
      "cell_type": "code",
      "metadata": {
        "id": "g1XLcXHGoYPL",
        "colab_type": "code",
        "outputId": "642cd289-8194-4f51-a4cb-a9e317e35dd0",
        "colab": {
          "base_uri": "https://localhost:8080/",
          "height": 607
        }
      },
      "source": [
        "#-----------------------------------------------------------\n",
        "# Retrieve a list of list results on training and test data\n",
        "# sets for each training epoch\n",
        "#-----------------------------------------------------------\n",
        "mape=history.history['mape']\n",
        "loss=history.history['loss']\n",
        "\n",
        "epochs=range(len(loss)) # Get number of epochs\n",
        "\n",
        "#------------------------------------------------\n",
        "# Plot MAPE and Loss\n",
        "#------------------------------------------------\n",
        "plt.plot(epochs, mape, 'r')\n",
        "plt.plot(epochs, loss, 'b')\n",
        "plt.title('MAPE and Loss')\n",
        "plt.xlabel(\"Epochs\")\n",
        "plt.ylabel(\"Accuracy\")\n",
        "plt.legend([\"MAPE\", \"Loss\"])\n",
        "\n",
        "plt.figure()\n",
        "\n",
        "epochs_zoom = epochs[20:]\n",
        "mae_zoom = mape[20:]\n",
        "loss_zoom = loss[20:]\n",
        "\n",
        "#------------------------------------------------\n",
        "# Plot Zoomed MAPE and Loss\n",
        "#------------------------------------------------\n",
        "plt.plot(epochs_zoom, mae_zoom, 'r')\n",
        "plt.plot(epochs_zoom, loss_zoom, 'b')\n",
        "plt.title('MAPE and Loss')\n",
        "plt.xlabel(\"Epochs\")\n",
        "plt.ylabel(\"Accuracy\")\n",
        "plt.legend([\"MAPE\", \"Loss\"])\n",
        "\n",
        "plt.figure()"
      ],
      "execution_count": 0,
      "outputs": [
        {
          "output_type": "execute_result",
          "data": {
            "text/plain": [
              "<Figure size 432x288 with 0 Axes>"
            ]
          },
          "metadata": {
            "tags": []
          },
          "execution_count": 70
        },
        {
          "output_type": "display_data",
          "data": {
            "image/png": "[encoded data removed]",
            "text/plain": [
              "<Figure size 432x288 with 1 Axes>"
            ]
          },
          "metadata": {
            "tags": []
          }
        },
        {
          "output_type": "display_data",
          "data": {
            "image/png": "[encoded data removed]",
            "text/plain": [
              "<Figure size 432x288 with 1 Axes>"
            ]
          },
          "metadata": {
            "tags": []
          }
        },
        {
          "output_type": "display_data",
          "data": {
            "text/plain": [
              "<Figure size 432x288 with 0 Axes>"
            ]
          },
          "metadata": {
            "tags": []
          }
        }
      ]
    },
    {
      "cell_type": "code",
      "metadata": {
        "id": "qm9K8RFxonut",
        "colab_type": "code",
        "outputId": "73922adb-1925-44ae-deac-c71117e2e239",
        "colab": {
          "base_uri": "https://localhost:8080/",
          "height": 689
        }
      },
      "source": [
        "def windowed_dataset_1(series, window_size, batch_size, shuffle_buffer):\n",
        "    series = tf.expand_dims(series, axis=-1)\n",
        "    ds = tf.data.Dataset.from_tensor_slices(series)\n",
        "    ds = ds.window(window_size + 1, shift=1, drop_remainder=True)\n",
        "    ds = ds.flat_map(lambda w: w.batch(window_size + 1))\n",
        "    ds = ds.shuffle(shuffle_buffer)\n",
        "    ds = ds.map(lambda w: (w[:-1], w[1:]))\n",
        "    return ds.batch(batch_size).prefetch(1)\n",
        "\n",
        "window_size = 16\n",
        "batch_size = 32\n",
        "shuffle_buffer_size = 1000\n",
        "\n",
        "dataset = windowed_dataset_1(x_train, window_size, batch_size, shuffle_buffer_size)\n",
        "\n",
        "model = tf.keras.models.Sequential([\n",
        "  tf.keras.layers.Conv1D(filters=32, kernel_size=5,\n",
        "                      strides=1, padding=\"causal\",\n",
        "                      activation=\"relu\",\n",
        "                      input_shape=[None, 1]),\n",
        "  tf.keras.layers.LSTM(64, return_sequences=True),\n",
        "  tf.keras.layers.LSTM(64, return_sequences=True),\n",
        "  tf.keras.layers.Dense(30, activation=\"relu\"),\n",
        "  tf.keras.layers.Dense(10, activation=\"relu\"),\n",
        "  tf.keras.layers.Dense(1)\n",
        "])\n",
        "\n",
        "model.compile(loss=\"mean_absolute_percentage_error\", optimizer='adam', metrics=[\"mean_absolute_percentage_error\"])\n",
        "history = model.fit(dataset,epochs=20,verbose=1)\n"
      ],
      "execution_count": 0,
      "outputs": [
        {
          "output_type": "stream",
          "text": [
            "Epoch 1/20\n",
            "2187/2187 [==============================] - 63s 29ms/step - loss: 33.7662 - mean_absolute_percentage_error: 33.7662\n",
            "Epoch 2/20\n",
            "2187/2187 [==============================] - 56s 26ms/step - loss: 13.6024 - mean_absolute_percentage_error: 13.6024\n",
            "Epoch 3/20\n",
            "2187/2187 [==============================] - 56s 26ms/step - loss: 13.5731 - mean_absolute_percentage_error: 13.5731\n",
            "Epoch 4/20\n",
            "2187/2187 [==============================] - 56s 25ms/step - loss: 13.5655 - mean_absolute_percentage_error: 13.5655\n",
            "Epoch 5/20\n",
            "2187/2187 [==============================] - 55s 25ms/step - loss: 13.5258 - mean_absolute_percentage_error: 13.5258\n",
            "Epoch 6/20\n",
            "2187/2187 [==============================] - 56s 25ms/step - loss: 13.2378 - mean_absolute_percentage_error: 13.2378\n",
            "Epoch 7/20\n",
            "2187/2187 [==============================] - 56s 26ms/step - loss: 12.9915 - mean_absolute_percentage_error: 12.9915\n",
            "Epoch 8/20\n",
            "2187/2187 [==============================] - 56s 26ms/step - loss: 12.9344 - mean_absolute_percentage_error: 12.9344\n",
            "Epoch 9/20\n",
            "2187/2187 [==============================] - 56s 26ms/step - loss: 12.9297 - mean_absolute_percentage_error: 12.9297\n",
            "Epoch 10/20\n",
            "2187/2187 [==============================] - 56s 26ms/step - loss: 12.9308 - mean_absolute_percentage_error: 12.9308\n",
            "Epoch 11/20\n",
            "2187/2187 [==============================] - 56s 26ms/step - loss: 12.9312 - mean_absolute_percentage_error: 12.9312\n",
            "Epoch 12/20\n",
            "2187/2187 [==============================] - 56s 25ms/step - loss: 12.9312 - mean_absolute_percentage_error: 12.9312\n",
            "Epoch 13/20\n",
            "2187/2187 [==============================] - 56s 26ms/step - loss: 12.9313 - mean_absolute_percentage_error: 12.9313\n",
            "Epoch 14/20\n",
            "2187/2187 [==============================] - 56s 26ms/step - loss: 12.9314 - mean_absolute_percentage_error: 12.9314\n",
            "Epoch 15/20\n",
            "2187/2187 [==============================] - 57s 26ms/step - loss: 12.9314 - mean_absolute_percentage_error: 12.9314\n",
            "Epoch 16/20\n",
            "2187/2187 [==============================] - 56s 26ms/step - loss: 12.9317 - mean_absolute_percentage_error: 12.9317\n",
            "Epoch 17/20\n",
            "2187/2187 [==============================] - 57s 26ms/step - loss: 12.9321 - mean_absolute_percentage_error: 12.9321\n",
            "Epoch 18/20\n",
            "2187/2187 [==============================] - 57s 26ms/step - loss: 12.9322 - mean_absolute_percentage_error: 12.9322\n",
            "Epoch 19/20\n",
            "2187/2187 [==============================] - 57s 26ms/step - loss: 12.9324 - mean_absolute_percentage_error: 12.9324\n",
            "Epoch 20/20\n",
            "2187/2187 [==============================] - 57s 26ms/step - loss: 12.9325 - mean_absolute_percentage_error: 12.9325\n"
          ],
          "name": "stdout"
        }
      ]
    },
    {
      "cell_type": "code",
      "metadata": {
        "id": "UXZ8weOKuHY7",
        "colab_type": "code",
        "outputId": "9dd7bb66-8dc2-4dbc-8dbc-08a1c4751ed1",
        "colab": {
          "base_uri": "https://localhost:8080/",
          "height": 392
        }
      },
      "source": [
        "def model_forecast(model, series, window_size):\n",
        "    ds = tf.data.Dataset.from_tensor_slices(series)\n",
        "    ds = ds.window(window_size, shift=1, drop_remainder=True)\n",
        "    ds = ds.flat_map(lambda w: w.batch(window_size))\n",
        "    ds = ds.batch(32).prefetch(1)\n",
        "    forecast = model.predict(ds)\n",
        "    return forecast\n",
        "  \n",
        "  \n",
        "rnn_forecast = model_forecast(model, series[..., np.newaxis], window_size)\n",
        "rnn_forecast = rnn_forecast[split_time - window_size:-1, -1, 0]\n",
        "\n",
        "\n",
        "\n",
        "plt.figure(figsize=(10, 6))\n",
        "plot_series(time_valid[:500], x_valid[:500])\n",
        "plot_series(time_valid[:500], rnn_forecast[:500])"
      ],
      "execution_count": 0,
      "outputs": [
        {
          "output_type": "display_data",
          "data": {
            "image/png": "[encoded data removed]",
            "text/plain": [
              "<Figure size 720x432 with 1 Axes>"
            ]
          },
          "metadata": {
            "tags": []
          }
        }
      ]
    },
    {
      "cell_type": "code",
      "metadata": {
        "id": "VBGfyGcK0gJP",
        "colab_type": "code",
        "outputId": "121837b2-fe4d-4e8b-ed25-b17dff69ff3e",
        "colab": {
          "base_uri": "https://localhost:8080/",
          "height": 34
        }
      },
      "source": [
        "tf.keras.metrics.mean_absolute_percentage_error(x_valid, results).numpy()"
      ],
      "execution_count": 0,
      "outputs": [
        {
          "output_type": "execute_result",
          "data": {
            "text/plain": [
              "1.0635368"
            ]
          },
          "metadata": {
            "tags": []
          },
          "execution_count": 81
        }
      ]
    },
    {
      "cell_type": "code",
      "metadata": {
        "id": "Ob7aQYwS0mU7",
        "colab_type": "code",
        "outputId": "931c4ef9-4f60-495e-f2e9-e216bcbc436e",
        "colab": {
          "base_uri": "https://localhost:8080/",
          "height": 607
        }
      },
      "source": [
        "#-----------------------------------------------------------\n",
        "# Retrieve a list of list results on training and test data\n",
        "# sets for each training epoch\n",
        "#-----------------------------------------------------------\n",
        "mape=history.history['mean_absolute_percentage_error']\n",
        "loss=history.history['loss']\n",
        "\n",
        "epochs=range(len(loss)) # Get number of epochs\n",
        "\n",
        "#------------------------------------------------\n",
        "# Plot MAPE and Loss\n",
        "#------------------------------------------------\n",
        "plt.plot(epochs, mape, 'r')\n",
        "plt.plot(epochs, loss, 'b')\n",
        "plt.title('MAPE and Loss')\n",
        "plt.xlabel(\"Epochs\")\n",
        "plt.ylabel(\"Accuracy\")\n",
        "plt.legend([\"MAPE\", \"Loss\"])\n",
        "\n",
        "plt.figure()\n",
        "\n",
        "epochs_zoom = epochs[2:]\n",
        "mae_zoom = mape[2:]\n",
        "loss_zoom = loss[2:]\n",
        "\n",
        "#------------------------------------------------\n",
        "# Plot Zoomed MAPE and Loss\n",
        "#------------------------------------------------\n",
        "plt.plot(epochs_zoom, mae_zoom, 'r')\n",
        "plt.plot(epochs_zoom, loss_zoom, 'b')\n",
        "plt.title('MAPE and Loss')\n",
        "plt.xlabel(\"Epochs\")\n",
        "plt.ylabel(\"Accuracy\")\n",
        "plt.legend([\"MAPE\", \"Loss\"])\n",
        "\n",
        "plt.figure()"
      ],
      "execution_count": 0,
      "outputs": [
        {
          "output_type": "execute_result",
          "data": {
            "text/plain": [
              "<Figure size 432x288 with 0 Axes>"
            ]
          },
          "metadata": {
            "tags": []
          },
          "execution_count": 78
        },
        {
          "output_type": "display_data",
          "data": {
            "image/png": "[encoded data removed]",
            "text/plain": [
              "<Figure size 432x288 with 1 Axes>"
            ]
          },
          "metadata": {
            "tags": []
          }
        },
        {
          "output_type": "display_data",
          "data": {
            "image/png": "[encoded data removed]",
            "text/plain": [
              "<Figure size 432x288 with 1 Axes>"
            ]
          },
          "metadata": {
            "tags": []
          }
        },
        {
          "output_type": "display_data",
          "data": {
            "text/plain": [
              "<Figure size 432x288 with 0 Axes>"
            ]
          },
          "metadata": {
            "tags": []
          }
        }
      ]
    },
    {
      "cell_type": "code",
      "metadata": {
        "id": "1WWeuar60qLz",
        "colab_type": "code",
        "colab": {}
      },
      "source": [
        ""
      ],
      "execution_count": 0,
      "outputs": []
    }
  ]
}